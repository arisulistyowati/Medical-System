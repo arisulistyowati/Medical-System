{
 "cells": [
  {
   "cell_type": "markdown",
   "metadata": {},
   "source": [
    "# Preparation"
   ]
  },
  {
   "cell_type": "code",
   "execution_count": 1,
   "metadata": {},
   "outputs": [],
   "source": [
    "import numpy as np \n",
    "import pandas as pd \n",
    "import seaborn as sns\n",
    "%matplotlib inline\n",
    "from matplotlib import pyplot as plt\n",
    "from matplotlib import style\n",
    "from sklearn.preprocessing import StandardScaler"
   ]
  },
  {
   "cell_type": "code",
   "execution_count": 2,
   "metadata": {},
   "outputs": [],
   "source": [
    "from sklearn.linear_model import LogisticRegression \n",
    "from sklearn.neighbors import KNeighborsClassifier\n",
    "from sklearn.svm import SVC\n",
    "from sklearn.ensemble import RandomForestClassifier \n",
    "from sklearn.naive_bayes import GaussianNB \n",
    "from sklearn.model_selection import train_test_split   \n",
    "from sklearn.metrics import accuracy_score        \n",
    "from sklearn.metrics import confusion_matrix    \n",
    "from sklearn.metrics import f1_score\n",
    "from sklearn.metrics import log_loss"
   ]
  },
  {
   "cell_type": "markdown",
   "metadata": {},
   "source": [
    "# Load Dataset"
   ]
  },
  {
   "cell_type": "code",
   "execution_count": 3,
   "metadata": {},
   "outputs": [
    {
     "data": {
      "text/html": [
       "<div>\n",
       "<style scoped>\n",
       "    .dataframe tbody tr th:only-of-type {\n",
       "        vertical-align: middle;\n",
       "    }\n",
       "\n",
       "    .dataframe tbody tr th {\n",
       "        vertical-align: top;\n",
       "    }\n",
       "\n",
       "    .dataframe thead th {\n",
       "        text-align: right;\n",
       "    }\n",
       "</style>\n",
       "<table border=\"1\" class=\"dataframe\">\n",
       "  <thead>\n",
       "    <tr style=\"text-align: right;\">\n",
       "      <th></th>\n",
       "      <th>id</th>\n",
       "      <th>gender</th>\n",
       "      <th>age</th>\n",
       "      <th>hypertension</th>\n",
       "      <th>heart_disease</th>\n",
       "      <th>ever_married</th>\n",
       "      <th>work_type</th>\n",
       "      <th>Residence_type</th>\n",
       "      <th>avg_glucose_level</th>\n",
       "      <th>bmi</th>\n",
       "      <th>smoking_status</th>\n",
       "      <th>stroke</th>\n",
       "    </tr>\n",
       "  </thead>\n",
       "  <tbody>\n",
       "    <tr>\n",
       "      <th>0</th>\n",
       "      <td>9046</td>\n",
       "      <td>Male</td>\n",
       "      <td>67.0</td>\n",
       "      <td>0</td>\n",
       "      <td>1</td>\n",
       "      <td>Yes</td>\n",
       "      <td>Private</td>\n",
       "      <td>Urban</td>\n",
       "      <td>228.69</td>\n",
       "      <td>36.6</td>\n",
       "      <td>formerly smoked</td>\n",
       "      <td>1</td>\n",
       "    </tr>\n",
       "    <tr>\n",
       "      <th>1</th>\n",
       "      <td>51676</td>\n",
       "      <td>Female</td>\n",
       "      <td>61.0</td>\n",
       "      <td>0</td>\n",
       "      <td>0</td>\n",
       "      <td>Yes</td>\n",
       "      <td>Self-employed</td>\n",
       "      <td>Rural</td>\n",
       "      <td>202.21</td>\n",
       "      <td>NaN</td>\n",
       "      <td>never smoked</td>\n",
       "      <td>1</td>\n",
       "    </tr>\n",
       "    <tr>\n",
       "      <th>2</th>\n",
       "      <td>31112</td>\n",
       "      <td>Male</td>\n",
       "      <td>80.0</td>\n",
       "      <td>0</td>\n",
       "      <td>1</td>\n",
       "      <td>Yes</td>\n",
       "      <td>Private</td>\n",
       "      <td>Rural</td>\n",
       "      <td>105.92</td>\n",
       "      <td>32.5</td>\n",
       "      <td>never smoked</td>\n",
       "      <td>1</td>\n",
       "    </tr>\n",
       "    <tr>\n",
       "      <th>3</th>\n",
       "      <td>60182</td>\n",
       "      <td>Female</td>\n",
       "      <td>49.0</td>\n",
       "      <td>0</td>\n",
       "      <td>0</td>\n",
       "      <td>Yes</td>\n",
       "      <td>Private</td>\n",
       "      <td>Urban</td>\n",
       "      <td>171.23</td>\n",
       "      <td>34.4</td>\n",
       "      <td>smokes</td>\n",
       "      <td>1</td>\n",
       "    </tr>\n",
       "    <tr>\n",
       "      <th>4</th>\n",
       "      <td>1665</td>\n",
       "      <td>Female</td>\n",
       "      <td>79.0</td>\n",
       "      <td>1</td>\n",
       "      <td>0</td>\n",
       "      <td>Yes</td>\n",
       "      <td>Self-employed</td>\n",
       "      <td>Rural</td>\n",
       "      <td>174.12</td>\n",
       "      <td>24.0</td>\n",
       "      <td>never smoked</td>\n",
       "      <td>1</td>\n",
       "    </tr>\n",
       "  </tbody>\n",
       "</table>\n",
       "</div>"
      ],
      "text/plain": [
       "      id  gender   age  hypertension  heart_disease ever_married  \\\n",
       "0   9046    Male  67.0             0              1          Yes   \n",
       "1  51676  Female  61.0             0              0          Yes   \n",
       "2  31112    Male  80.0             0              1          Yes   \n",
       "3  60182  Female  49.0             0              0          Yes   \n",
       "4   1665  Female  79.0             1              0          Yes   \n",
       "\n",
       "       work_type Residence_type  avg_glucose_level   bmi   smoking_status  \\\n",
       "0        Private          Urban             228.69  36.6  formerly smoked   \n",
       "1  Self-employed          Rural             202.21   NaN     never smoked   \n",
       "2        Private          Rural             105.92  32.5     never smoked   \n",
       "3        Private          Urban             171.23  34.4           smokes   \n",
       "4  Self-employed          Rural             174.12  24.0     never smoked   \n",
       "\n",
       "   stroke  \n",
       "0       1  \n",
       "1       1  \n",
       "2       1  \n",
       "3       1  \n",
       "4       1  "
      ]
     },
     "execution_count": 3,
     "metadata": {},
     "output_type": "execute_result"
    }
   ],
   "source": [
    "dataset= pd.read_csv('healthcare-dataset-stroke-data.csv')\n",
    "dataset.head()"
   ]
  },
  {
   "cell_type": "code",
   "execution_count": 4,
   "metadata": {},
   "outputs": [
    {
     "data": {
      "text/html": [
       "<div>\n",
       "<style scoped>\n",
       "    .dataframe tbody tr th:only-of-type {\n",
       "        vertical-align: middle;\n",
       "    }\n",
       "\n",
       "    .dataframe tbody tr th {\n",
       "        vertical-align: top;\n",
       "    }\n",
       "\n",
       "    .dataframe thead th {\n",
       "        text-align: right;\n",
       "    }\n",
       "</style>\n",
       "<table border=\"1\" class=\"dataframe\">\n",
       "  <thead>\n",
       "    <tr style=\"text-align: right;\">\n",
       "      <th></th>\n",
       "      <th>id</th>\n",
       "      <th>age</th>\n",
       "      <th>hypertension</th>\n",
       "      <th>heart_disease</th>\n",
       "      <th>avg_glucose_level</th>\n",
       "      <th>bmi</th>\n",
       "      <th>stroke</th>\n",
       "    </tr>\n",
       "  </thead>\n",
       "  <tbody>\n",
       "    <tr>\n",
       "      <th>count</th>\n",
       "      <td>5110.000000</td>\n",
       "      <td>5110.000000</td>\n",
       "      <td>5110.000000</td>\n",
       "      <td>5110.000000</td>\n",
       "      <td>5110.000000</td>\n",
       "      <td>4909.000000</td>\n",
       "      <td>5110.000000</td>\n",
       "    </tr>\n",
       "    <tr>\n",
       "      <th>mean</th>\n",
       "      <td>36517.829354</td>\n",
       "      <td>43.226614</td>\n",
       "      <td>0.097456</td>\n",
       "      <td>0.054012</td>\n",
       "      <td>106.147677</td>\n",
       "      <td>28.893237</td>\n",
       "      <td>0.048728</td>\n",
       "    </tr>\n",
       "    <tr>\n",
       "      <th>std</th>\n",
       "      <td>21161.721625</td>\n",
       "      <td>22.612647</td>\n",
       "      <td>0.296607</td>\n",
       "      <td>0.226063</td>\n",
       "      <td>45.283560</td>\n",
       "      <td>7.854067</td>\n",
       "      <td>0.215320</td>\n",
       "    </tr>\n",
       "    <tr>\n",
       "      <th>min</th>\n",
       "      <td>67.000000</td>\n",
       "      <td>0.080000</td>\n",
       "      <td>0.000000</td>\n",
       "      <td>0.000000</td>\n",
       "      <td>55.120000</td>\n",
       "      <td>10.300000</td>\n",
       "      <td>0.000000</td>\n",
       "    </tr>\n",
       "    <tr>\n",
       "      <th>25%</th>\n",
       "      <td>17741.250000</td>\n",
       "      <td>25.000000</td>\n",
       "      <td>0.000000</td>\n",
       "      <td>0.000000</td>\n",
       "      <td>77.245000</td>\n",
       "      <td>23.500000</td>\n",
       "      <td>0.000000</td>\n",
       "    </tr>\n",
       "    <tr>\n",
       "      <th>50%</th>\n",
       "      <td>36932.000000</td>\n",
       "      <td>45.000000</td>\n",
       "      <td>0.000000</td>\n",
       "      <td>0.000000</td>\n",
       "      <td>91.885000</td>\n",
       "      <td>28.100000</td>\n",
       "      <td>0.000000</td>\n",
       "    </tr>\n",
       "    <tr>\n",
       "      <th>75%</th>\n",
       "      <td>54682.000000</td>\n",
       "      <td>61.000000</td>\n",
       "      <td>0.000000</td>\n",
       "      <td>0.000000</td>\n",
       "      <td>114.090000</td>\n",
       "      <td>33.100000</td>\n",
       "      <td>0.000000</td>\n",
       "    </tr>\n",
       "    <tr>\n",
       "      <th>max</th>\n",
       "      <td>72940.000000</td>\n",
       "      <td>82.000000</td>\n",
       "      <td>1.000000</td>\n",
       "      <td>1.000000</td>\n",
       "      <td>271.740000</td>\n",
       "      <td>97.600000</td>\n",
       "      <td>1.000000</td>\n",
       "    </tr>\n",
       "  </tbody>\n",
       "</table>\n",
       "</div>"
      ],
      "text/plain": [
       "                 id          age  hypertension  heart_disease  \\\n",
       "count   5110.000000  5110.000000   5110.000000    5110.000000   \n",
       "mean   36517.829354    43.226614      0.097456       0.054012   \n",
       "std    21161.721625    22.612647      0.296607       0.226063   \n",
       "min       67.000000     0.080000      0.000000       0.000000   \n",
       "25%    17741.250000    25.000000      0.000000       0.000000   \n",
       "50%    36932.000000    45.000000      0.000000       0.000000   \n",
       "75%    54682.000000    61.000000      0.000000       0.000000   \n",
       "max    72940.000000    82.000000      1.000000       1.000000   \n",
       "\n",
       "       avg_glucose_level          bmi       stroke  \n",
       "count        5110.000000  4909.000000  5110.000000  \n",
       "mean          106.147677    28.893237     0.048728  \n",
       "std            45.283560     7.854067     0.215320  \n",
       "min            55.120000    10.300000     0.000000  \n",
       "25%            77.245000    23.500000     0.000000  \n",
       "50%            91.885000    28.100000     0.000000  \n",
       "75%           114.090000    33.100000     0.000000  \n",
       "max           271.740000    97.600000     1.000000  "
      ]
     },
     "execution_count": 4,
     "metadata": {},
     "output_type": "execute_result"
    }
   ],
   "source": [
    "dataset.describe()"
   ]
  },
  {
   "cell_type": "code",
   "execution_count": 5,
   "metadata": {},
   "outputs": [
    {
     "name": "stdout",
     "output_type": "stream",
     "text": [
      "<class 'pandas.core.frame.DataFrame'>\n",
      "RangeIndex: 5110 entries, 0 to 5109\n",
      "Data columns (total 12 columns):\n",
      " #   Column             Non-Null Count  Dtype  \n",
      "---  ------             --------------  -----  \n",
      " 0   id                 5110 non-null   int64  \n",
      " 1   gender             5110 non-null   object \n",
      " 2   age                5110 non-null   float64\n",
      " 3   hypertension       5110 non-null   int64  \n",
      " 4   heart_disease      5110 non-null   int64  \n",
      " 5   ever_married       5110 non-null   object \n",
      " 6   work_type          5110 non-null   object \n",
      " 7   Residence_type     5110 non-null   object \n",
      " 8   avg_glucose_level  5110 non-null   float64\n",
      " 9   bmi                4909 non-null   float64\n",
      " 10  smoking_status     5110 non-null   object \n",
      " 11  stroke             5110 non-null   int64  \n",
      "dtypes: float64(3), int64(4), object(5)\n",
      "memory usage: 479.2+ KB\n"
     ]
    }
   ],
   "source": [
    "dataset.info()"
   ]
  },
  {
   "cell_type": "markdown",
   "metadata": {},
   "source": [
    "# Insight yang ingin di dapatkan"
   ]
  },
  {
   "cell_type": "markdown",
   "metadata": {},
   "source": [
    "Memprediksi kemungkinan seseorang terkena stroke yang disebabkan oleh parameter sebagai berikut:\n",
    "    - Jenis kelamin\n",
    "    - Usia\n",
    "    - Faktor penyakit lain\n",
    "    - status merokok"
   ]
  },
  {
   "cell_type": "markdown",
   "metadata": {},
   "source": [
    "# Data Cleaning"
   ]
  },
  {
   "cell_type": "markdown",
   "metadata": {},
   "source": [
    "- Dari dataset = 'healthcare-dataset-stroke-data.csv'\n",
    "- yang di dapatkan di website kaggle =\n",
    "- Terdiri dari 12 columns dan 5110 baris"
   ]
  },
  {
   "cell_type": "markdown",
   "metadata": {},
   "source": [
    "# 1. Checking Outliers"
   ]
  },
  {
   "cell_type": "code",
   "execution_count": 6,
   "metadata": {},
   "outputs": [
    {
     "name": "stdout",
     "output_type": "stream",
     "text": [
      "id : int64\n",
      "Q1 17741.25\n",
      "Q3 54682.0\n",
      "IQR 36940.75\n",
      "\n",
      "\n",
      "age : float64\n",
      "Q1 25.0\n",
      "Q3 61.0\n",
      "IQR 36.0\n",
      "\n",
      "\n",
      "hypertension : int64\n",
      "Q1 0.0\n",
      "Q3 0.0\n",
      "IQR 0.0\n",
      "High outlier is found > 0.0\n",
      "High outlier Index :  [4, 6, 10, 15, 17, 21, 30, 32, 35, 37, 44, 45, 49, 51, 53, 58, 59, 61, 62, 65, 69, 71, 72, 76, 83, 93, 98, 106, 115, 116, 121, 123, 126, 130, 131, 132, 134, 138, 142, 143, 144, 148, 159, 163, 164, 167, 168, 171, 173, 175, 177, 184, 187, 191, 193, 196, 201, 208, 217, 218, 220, 229, 233, 238, 243, 247, 250, 258, 269, 270, 281, 297, 314, 317, 326, 331, 350, 355, 360, 382, 386, 396, 399, 411, 426, 439, 444, 457, 466, 467, 468, 479, 505, 530, 565, 571, 577, 594, 599, 651, 654, 666, 668, 680, 688, 689, 700, 713, 715, 744, 751, 759, 782, 786, 788, 816, 821, 826, 829, 841, 849, 871, 882, 888, 890, 894, 897, 928, 944, 964, 970, 990, 1000, 1013, 1031, 1058, 1062, 1067, 1075, 1077, 1106, 1114, 1116, 1125, 1151, 1161, 1166, 1183, 1188, 1189, 1199, 1213, 1225, 1240, 1245, 1250, 1283, 1293, 1294, 1306, 1315, 1322, 1325, 1343, 1350, 1384, 1409, 1412, 1423, 1458, 1466, 1472, 1473, 1485, 1487, 1490, 1491, 1503, 1516, 1531, 1543, 1546, 1554, 1561, 1562, 1577, 1588, 1607, 1617, 1627, 1650, 1658, 1675, 1679, 1711, 1730, 1737, 1740, 1746, 1748, 1752, 1775, 1776, 1778, 1780, 1790, 1804, 1813, 1818, 1828, 1839, 1842, 1862, 1871, 1875, 1879, 1904, 1916, 1955, 1971, 1974, 1993, 1995, 2016, 2018, 2058, 2059, 2071, 2083, 2086, 2088, 2102, 2104, 2105, 2107, 2111, 2118, 2128, 2129, 2161, 2173, 2189, 2190, 2192, 2198, 2209, 2228, 2229, 2231, 2284, 2287, 2295, 2297, 2318, 2319, 2322, 2336, 2343, 2359, 2373, 2387, 2405, 2414, 2422, 2424, 2433, 2456, 2461, 2477, 2497, 2515, 2517, 2523, 2529, 2534, 2548, 2553, 2559, 2568, 2570, 2572, 2606, 2624, 2645, 2656, 2666, 2675, 2680, 2685, 2697, 2709, 2710, 2718, 2732, 2734, 2768, 2828, 2831, 2847, 2855, 2867, 2872, 2879, 2883, 2886, 2902, 2913, 2940, 2949, 2961, 2962, 2965, 2966, 2979, 2982, 3012, 3014, 3019, 3026, 3028, 3030, 3048, 3068, 3069, 3075, 3083, 3089, 3113, 3122, 3130, 3135, 3152, 3157, 3162, 3182, 3192, 3195, 3198, 3212, 3216, 3220, 3225, 3234, 3243, 3245, 3248, 3263, 3306, 3308, 3317, 3318, 3350, 3380, 3387, 3391, 3393, 3396, 3399, 3400, 3417, 3436, 3450, 3456, 3461, 3469, 3485, 3490, 3500, 3504, 3522, 3536, 3549, 3556, 3568, 3578, 3587, 3590, 3599, 3600, 3606, 3613, 3627, 3628, 3635, 3639, 3659, 3665, 3667, 3672, 3677, 3686, 3688, 3697, 3711, 3730, 3732, 3736, 3748, 3752, 3753, 3803, 3821, 3834, 3863, 3871, 3872, 3882, 3890, 3898, 3900, 3919, 3931, 3943, 3951, 3965, 3974, 3994, 4013, 4022, 4033, 4071, 4132, 4149, 4153, 4155, 4164, 4202, 4209, 4217, 4231, 4240, 4259, 4263, 4283, 4284, 4288, 4312, 4320, 4327, 4334, 4338, 4355, 4362, 4390, 4430, 4434, 4443, 4445, 4452, 4453, 4457, 4459, 4475, 4477, 4483, 4505, 4514, 4515, 4521, 4522, 4536, 4552, 4560, 4588, 4590, 4638, 4642, 4660, 4684, 4696, 4722, 4724, 4738, 4745, 4762, 4765, 4784, 4796, 4809, 4816, 4822, 4835, 4855, 4892, 4895, 4924, 4931, 4932, 4937, 4941, 4952, 4983, 4987, 5088, 5091, 5093, 5100, 5105]\n",
      "\n",
      "\n",
      "heart_disease : int64\n",
      "Q1 0.0\n",
      "Q3 0.0\n",
      "IQR 0.0\n",
      "High outlier is found > 0.0\n",
      "High outlier Index :  [0, 2, 6, 11, 13, 14, 16, 19, 23, 28, 33, 35, 42, 46, 52, 55, 75, 86, 87, 90, 97, 100, 103, 110, 111, 115, 140, 143, 149, 151, 155, 161, 171, 184, 186, 187, 189, 193, 201, 215, 217, 218, 219, 220, 225, 239, 243, 256, 260, 268, 315, 337, 342, 350, 382, 405, 430, 450, 456, 482, 561, 585, 624, 626, 636, 643, 671, 745, 785, 829, 867, 889, 890, 900, 923, 929, 942, 970, 971, 990, 992, 1002, 1048, 1062, 1067, 1189, 1193, 1198, 1282, 1283, 1286, 1309, 1318, 1319, 1320, 1333, 1339, 1365, 1384, 1413, 1414, 1435, 1487, 1503, 1506, 1511, 1526, 1527, 1547, 1561, 1566, 1611, 1628, 1640, 1646, 1654, 1670, 1718, 1737, 1752, 1769, 1785, 1810, 1835, 1862, 1875, 1893, 1920, 1953, 1954, 1984, 1992, 2082, 2086, 2102, 2110, 2122, 2132, 2185, 2188, 2201, 2202, 2204, 2215, 2221, 2250, 2255, 2283, 2321, 2332, 2360, 2362, 2418, 2433, 2494, 2497, 2502, 2515, 2519, 2521, 2523, 2527, 2532, 2541, 2544, 2576, 2583, 2592, 2632, 2637, 2690, 2709, 2718, 2720, 2769, 2799, 2800, 2818, 2821, 2867, 2880, 2891, 2897, 2902, 2918, 2934, 2938, 2940, 2961, 2982, 2985, 2986, 2997, 3031, 3054, 3056, 3069, 3075, 3085, 3134, 3181, 3213, 3299, 3318, 3328, 3345, 3358, 3360, 3399, 3400, 3436, 3461, 3479, 3502, 3503, 3553, 3563, 3564, 3587, 3625, 3641, 3680, 3683, 3753, 3756, 3771, 3781, 3784, 3805, 3882, 3885, 3945, 3994, 3997, 4046, 4049, 4054, 4055, 4085, 4086, 4088, 4096, 4123, 4136, 4147, 4149, 4162, 4165, 4197, 4211, 4238, 4284, 4336, 4360, 4375, 4390, 4411, 4476, 4529, 4542, 4543, 4552, 4561, 4590, 4638, 4684, 4702, 4703, 4713, 4750, 4784, 4855, 4869, 4921, 4986, 5008]\n",
      "\n",
      "\n",
      "avg_glucose_level : float64\n",
      "Q1 77.24499999999999\n",
      "Q3 114.09\n",
      "IQR 36.84500000000001\n",
      "High outlier is found > 169.35750000000002\n",
      "High outlier Index :  [0, 1, 3, 4, 5, 13, 14, 16, 17, 19, 20, 21, 22, 23, 27, 28, 29, 30, 32, 33, 36, 44, 45, 54, 55, 57, 58, 59, 60, 66, 71, 73, 76, 90, 95, 97, 101, 102, 107, 113, 115, 122, 123, 124, 128, 130, 132, 134, 135, 137, 138, 139, 144, 149, 150, 151, 155, 157, 158, 163, 175, 179, 187, 189, 190, 193, 195, 196, 201, 212, 215, 217, 218, 219, 220, 222, 225, 226, 233, 234, 235, 241, 242, 243, 254, 256, 258, 272, 277, 278, 293, 298, 303, 307, 314, 318, 325, 326, 330, 331, 332, 337, 343, 350, 355, 360, 365, 386, 396, 399, 411, 417, 426, 429, 433, 436, 444, 456, 466, 467, 468, 477, 479, 492, 515, 544, 549, 551, 552, 559, 563, 570, 576, 581, 583, 585, 595, 598, 599, 610, 616, 620, 642, 706, 708, 719, 744, 746, 755, 762, 770, 785, 816, 846, 848, 851, 865, 867, 880, 887, 894, 923, 929, 930, 946, 948, 970, 971, 1011, 1059, 1061, 1067, 1070, 1071, 1092, 1097, 1102, 1104, 1113, 1118, 1131, 1158, 1166, 1173, 1178, 1187, 1189, 1200, 1202, 1207, 1214, 1225, 1228, 1233, 1245, 1250, 1257, 1277, 1282, 1300, 1309, 1319, 1322, 1339, 1343, 1346, 1379, 1382, 1384, 1398, 1411, 1412, 1414, 1428, 1436, 1453, 1457, 1468, 1472, 1474, 1485, 1487, 1497, 1503, 1512, 1526, 1529, 1531, 1533, 1534, 1535, 1540, 1547, 1553, 1588, 1596, 1598, 1607, 1626, 1627, 1628, 1650, 1654, 1655, 1659, 1667, 1675, 1681, 1698, 1704, 1711, 1718, 1723, 1732, 1737, 1756, 1759, 1769, 1778, 1780, 1782, 1795, 1798, 1816, 1820, 1827, 1837, 1840, 1841, 1843, 1853, 1862, 1873, 1880, 1888, 1889, 1892, 1893, 1898, 1905, 1952, 1971, 1981, 1995, 2004, 2018, 2044, 2059, 2067, 2069, 2079, 2081, 2089, 2096, 2102, 2107, 2124, 2126, 2129, 2132, 2135, 2149, 2158, 2161, 2166, 2168, 2169, 2180, 2182, 2185, 2200, 2201, 2203, 2223, 2228, 2240, 2255, 2257, 2273, 2282, 2284, 2290, 2291, 2292, 2293, 2294, 2303, 2307, 2318, 2332, 2336, 2338, 2365, 2374, 2383, 2395, 2418, 2429, 2439, 2453, 2455, 2459, 2462, 2469, 2486, 2493, 2494, 2515, 2520, 2523, 2532, 2540, 2544, 2548, 2553, 2565, 2569, 2578, 2583, 2599, 2600, 2609, 2612, 2624, 2629, 2633, 2637, 2641, 2661, 2675, 2676, 2679, 2682, 2685, 2686, 2690, 2693, 2697, 2699, 2707, 2710, 2734, 2751, 2752, 2757, 2768, 2846, 2848, 2849, 2855, 2866, 2867, 2880, 2890, 2893, 2918, 2928, 2934, 2947, 2957, 2960, 2966, 2981, 2992, 2997, 3005, 3008, 3014, 3017, 3054, 3060, 3069, 3074, 3088, 3130, 3146, 3148, 3150, 3152, 3157, 3161, 3186, 3197, 3198, 3215, 3221, 3224, 3234, 3238, 3243, 3252, 3306, 3318, 3327, 3342, 3350, 3360, 3375, 3376, 3378, 3381, 3387, 3391, 3393, 3406, 3425, 3427, 3439, 3455, 3461, 3462, 3478, 3480, 3489, 3500, 3507, 3510, 3517, 3522, 3536, 3537, 3548, 3564, 3578, 3587, 3594, 3599, 3600, 3606, 3625, 3627, 3630, 3637, 3643, 3658, 3674, 3686, 3688, 3699, 3700, 3718, 3734, 3753, 3756, 3771, 3772, 3779, 3780, 3781, 3788, 3802, 3833, 3882, 3889, 3892, 3905, 3909, 3913, 3925, 3931, 3943, 3956, 3959, 3962, 3964, 3965, 3980, 3982, 3994, 4008, 4022, 4028, 4037, 4046, 4048, 4051, 4054, 4096, 4104, 4123, 4129, 4132, 4164, 4176, 4201, 4207, 4240, 4249, 4261, 4274, 4283, 4286, 4290, 4291, 4304, 4311, 4321, 4324, 4325, 4327, 4329, 4335, 4339, 4344, 4356, 4360, 4366, 4376, 4377, 4390, 4434, 4437, 4446, 4447, 4453, 4457, 4470, 4475, 4497, 4500, 4504, 4505, 4507, 4514, 4515, 4530, 4539, 4560, 4577, 4578, 4582, 4588, 4589, 4598, 4616, 4625, 4627, 4628, 4636, 4654, 4665, 4684, 4696, 4702, 4708, 4711, 4724, 4737, 4738, 4739, 4740, 4750, 4763, 4809, 4816, 4823, 4836, 4855, 4861, 4869, 4883, 4895, 4899, 4909, 4921, 4925, 4941, 4952, 4955, 4983, 4984, 4986, 4987, 4995, 5001, 5006, 5019, 5029, 5034, 5035, 5041, 5048, 5061, 5062, 5063, 5064, 5076]\n",
      "\n",
      "\n",
      "bmi : float64\n",
      "Q1 23.5\n",
      "Q3 33.1\n",
      "IQR 9.600000000000001\n"
     ]
    },
    {
     "name": "stdout",
     "output_type": "stream",
     "text": [
      "High outlier is found > 47.5\n",
      "High outlier Index :  [21, 113, 254, 258, 270, 333, 341, 358, 430, 462, 466, 493, 539, 544, 595, 622, 637, 662, 672, 715, 761, 805, 860, 928, 1003, 1061, 1077, 1239, 1257, 1267, 1304, 1322, 1501, 1532, 1559, 1564, 1575, 1584, 1595, 1641, 1660, 1782, 1898, 1988, 2016, 2067, 2071, 2081, 2128, 2136, 2232, 2277, 2284, 2290, 2309, 2330, 2411, 2441, 2545, 2555, 2567, 2585, 2723, 2764, 2815, 2840, 2883, 2896, 3024, 3060, 3218, 3238, 3243, 3305, 3333, 3439, 3508, 3541, 3588, 3606, 3688, 3702, 3825, 3867, 3909, 3931, 3959, 3980, 4071, 4126, 4154, 4188, 4209, 4223, 4225, 4351, 4405, 4407, 4456, 4475, 4650, 4704, 4779, 4838, 4847, 4858, 4906, 4952, 5009, 5057]\n",
      "\n",
      "\n",
      "stroke : int64\n",
      "Q1 0.0\n",
      "Q3 0.0\n",
      "IQR 0.0\n",
      "High outlier is found > 0.0\n",
      "High outlier Index :  [0, 1, 2, 3, 4, 5, 6, 7, 8, 9, 10, 11, 12, 13, 14, 15, 16, 17, 18, 19, 20, 21, 22, 23, 24, 25, 26, 27, 28, 29, 30, 31, 32, 33, 34, 35, 36, 37, 38, 39, 40, 41, 42, 43, 44, 45, 46, 47, 48, 49, 50, 51, 52, 53, 54, 55, 56, 57, 58, 59, 60, 61, 62, 63, 64, 65, 66, 67, 68, 69, 70, 71, 72, 73, 74, 75, 76, 77, 78, 79, 80, 81, 82, 83, 84, 85, 86, 87, 88, 89, 90, 91, 92, 93, 94, 95, 96, 97, 98, 99, 100, 101, 102, 103, 104, 105, 106, 107, 108, 109, 110, 111, 112, 113, 114, 115, 116, 117, 118, 119, 120, 121, 122, 123, 124, 125, 126, 127, 128, 129, 130, 131, 132, 133, 134, 135, 136, 137, 138, 139, 140, 141, 142, 143, 144, 145, 146, 147, 148, 149, 150, 151, 152, 153, 154, 155, 156, 157, 158, 159, 160, 161, 162, 163, 164, 165, 166, 167, 168, 169, 170, 171, 172, 173, 174, 175, 176, 177, 178, 179, 180, 181, 182, 183, 184, 185, 186, 187, 188, 189, 190, 191, 192, 193, 194, 195, 196, 197, 198, 199, 200, 201, 202, 203, 204, 205, 206, 207, 208, 209, 210, 211, 212, 213, 214, 215, 216, 217, 218, 219, 220, 221, 222, 223, 224, 225, 226, 227, 228, 229, 230, 231, 232, 233, 234, 235, 236, 237, 238, 239, 240, 241, 242, 243, 244, 245, 246, 247, 248]\n",
      "\n",
      "\n"
     ]
    }
   ],
   "source": [
    "# Menghitung IQR dan memeriksa outlier untuk semua kolom bertipe int64 dan float64\n",
    "\n",
    "for i in (dataset.columns):                               # membuat perulangan untuk tiap kolom di dalam dataframe\n",
    "    if (dataset[i].dtypes in ['int64','float64']):        # membuat kondisi untuk memilih kolom bertipe int64 dan float 64\n",
    "        print(i,':',dataset[i].dtypes)                    # mencetak nama kolom dan tipe datanya\n",
    "        \n",
    "        Q1 = dataset[i].quantile(0.25)\n",
    "        print('Q1', Q1)\n",
    "        \n",
    "        Q3 = dataset[i].quantile(0.75)\n",
    "        print('Q3', Q3)\n",
    "        \n",
    "        IQR = Q3-Q1\n",
    "        print('IQR', IQR)\n",
    "        \n",
    "        nilai_min = dataset[i].min()\n",
    "        nilai_max = dataset[i].max()\n",
    "        \n",
    "        min_IQR = Q1 - 1.5 * IQR\n",
    "        max_IQR = Q3 + 1.5 * IQR\n",
    "        \n",
    "        # Mencari outlier \n",
    "        if (nilai_min < min_IQR):\n",
    "            print('Low outlier is found <', min_IQR)\n",
    "            print('Low Outlier Index :', list(dataset[dataset[i] < min_IQR].index))\n",
    "        if (nilai_max > max_IQR):\n",
    "            print('High outlier is found >', max_IQR)\n",
    "            print('High outlier Index : ', list(dataset[dataset[i] > max_IQR].index))\n",
    "\n",
    "        print('\\n')"
   ]
  },
  {
   "cell_type": "code",
   "execution_count": 7,
   "metadata": {},
   "outputs": [
    {
     "data": {
      "image/png": "[encoded data removed]",
      "text/plain": [
       "<Figure size 432x288 with 1 Axes>"
      ]
     },
     "metadata": {
      "needs_background": "light"
     },
     "output_type": "display_data"
    }
   ],
   "source": [
    "# Menampilkan outliers kolom avg_glucose_level sebelum dihapus\n",
    "\n",
    "dataset['avg_glucose_level'].plot(kind='box')\n",
    "plt.title('Box plot of avg_glucose_level', size=16)\n",
    "plt.show()"
   ]
  },
  {
   "cell_type": "code",
   "execution_count": 8,
   "metadata": {},
   "outputs": [
    {
     "data": {
      "image/png": "[encoded data removed]",
      "text/plain": [
       "<Figure size 432x288 with 1 Axes>"
      ]
     },
     "metadata": {
      "needs_background": "light"
     },
     "output_type": "display_data"
    }
   ],
   "source": [
    "# menampilkan outlier kolom bmi sebelum dihapus\n",
    "\n",
    "dataset['bmi'].plot(kind='box')\n",
    "plt.title(\"Box plot of bmi\", size=16)\n",
    "plt.show()"
   ]
  },
  {
   "cell_type": "code",
   "execution_count": 9,
   "metadata": {},
   "outputs": [],
   "source": [
    "agl = [0, 1, 3, 4, 5, 13, 14, 16, 17, 19, 20, 21, 22, 23, 27, 28, 29, 30, 32, 33, 36, 44, 45, 54, 55, 57, 58, 59, 60, 66, 71, 73, 76, 90, 95, 97, 101, 102, 107, 113, 115, 122, 123, 124, 128, 130, 132, 134, 135, 137, 138, 139, 144, 149, 150, 151, 155, 157, 158, 163, 175, 179, 187, 189, 190, 193, 195, 196, 201, 212, 215, 217, 218, 219, 220, 222, 225, 226, 233, 234, 235, 241, 242, 243, 254, 256, 258, 272, 277, 278, 293, 298, 303, 307, 314, 318, 325, 326, 330, 331, 332, 337, 343, 350, 355, 360, 365, 386, 396, 399, 411, 417, 426, 429, 433, 436, 444, 456, 466, 467, 468, 477, 479, 492, 515, 544, 549, 551, 552, 559, 563, 570, 576, 581, 583, 585, 595, 598, 599, 610, 616, 620, 642, 706, 708, 719, 744, 746, 755, 762, 770, 785, 816, 846, 848, 851, 865, 867, 880, 887, 894, 923, 929, 930, 946, 948, 970, 971, 1011, 1059, 1061, 1067, 1070, 1071, 1092, 1097, 1102, 1104, 1113, 1118, 1131, 1158, 1166, 1173, 1178, 1187, 1189, 1200, 1202, 1207, 1214, 1225, 1228, 1233, 1245, 1250, 1257, 1277, 1282, 1300, 1309, 1319, 1322, 1339, 1343, 1346, 1379, 1382, 1384, 1398, 1411, 1412, 1414, 1428, 1436, 1453, 1457, 1468, 1472, 1474, 1485, 1487, 1497, 1503, 1512, 1526, 1529, 1531, 1533, 1534, 1535, 1540, 1547, 1553, 1588, 1596, 1598, 1607, 1626, 1627, 1628, 1650, 1654, 1655, 1659, 1667, 1675, 1681, 1698, 1704, 1711, 1718, 1723, 1732, 1737, 1756, 1759, 1769, 1778, 1780, 1782, 1795, 1798, 1816, 1820, 1827, 1837, 1840, 1841, 1843, 1853, 1862, 1873, 1880, 1888, 1889, 1892, 1893, 1898, 1905, 1952, 1971, 1981, 1995, 2004, 2018, 2044, 2059, 2067, 2069, 2079, 2081, 2089, 2096, 2102, 2107, 2124, 2126, 2129, 2132, 2135, 2149, 2158, 2161, 2166, 2168, 2169, 2180, 2182, 2185, 2200, 2201, 2203, 2223, 2228, 2240, 2255, 2257, 2273, 2282, 2284, 2290, 2291, 2292, 2293, 2294, 2303, 2307, 2318, 2332, 2336, 2338, 2365, 2374, 2383, 2395, 2418, 2429, 2439, 2453, 2455, 2459, 2462, 2469, 2486, 2493, 2494, 2515, 2520, 2523, 2532, 2540, 2544, 2548, 2553, 2565, 2569, 2578, 2583, 2599, 2600, 2609, 2612, 2624, 2629, 2633, 2637, 2641, 2661, 2675, 2676, 2679, 2682, 2685, 2686, 2690, 2693, 2697, 2699, 2707, 2710, 2734, 2751, 2752, 2757, 2768, 2846, 2848, 2849, 2855, 2866, 2867, 2880, 2890, 2893, 2918, 2928, 2934, 2947, 2957, 2960, 2966, 2981, 2992, 2997, 3005, 3008, 3014, 3017, 3054, 3060, 3069, 3074, 3088, 3130, 3146, 3148, 3150, 3152, 3157, 3161, 3186, 3197, 3198, 3215, 3221, 3224, 3234, 3238, 3243, 3252, 3306, 3318, 3327, 3342, 3350, 3360, 3375, 3376, 3378, 3381, 3387, 3391, 3393, 3406, 3425, 3427, 3439, 3455, 3461, 3462, 3478, 3480, 3489, 3500, 3507, 3510, 3517, 3522, 3536, 3537, 3548, 3564, 3578, 3587, 3594, 3599, 3600, 3606, 3625, 3627, 3630, 3637, 3643, 3658, 3674, 3686, 3688, 3699, 3700, 3718, 3734, 3753, 3756, 3771, 3772, 3779, 3780, 3781, 3788, 3802, 3833, 3882, 3889, 3892, 3905, 3909, 3913, 3925, 3931, 3943, 3956, 3959, 3962, 3964, 3965, 3980, 3982, 3994, 4008, 4022, 4028, 4037, 4046, 4048, 4051, 4054, 4096, 4104, 4123, 4129, 4132, 4164, 4176, 4201, 4207, 4240, 4249, 4261, 4274, 4283, 4286, 4290, 4291, 4304, 4311, 4321, 4324, 4325, 4327, 4329, 4335, 4339, 4344, 4356, 4360, 4366, 4376, 4377, 4390, 4434, 4437, 4446, 4447, 4453, 4457, 4470, 4475, 4497, 4500, 4504, 4505, 4507, 4514, 4515, 4530, 4539, 4560, 4577, 4578, 4582, 4588, 4589, 4598, 4616, 4625, 4627, 4628, 4636, 4654, 4665, 4684, 4696, 4702, 4708, 4711, 4724, 4737, 4738, 4739, 4740, 4750, 4763, 4809, 4816, 4823, 4836, 4855, 4861, 4869, 4883, 4895, 4899, 4909, 4921, 4925, 4941, 4952, 4955, 4983, 4984, 4986, 4987, 4995, 5001, 5006, 5019, 5029, 5034, 5035, 5041, 5048, 5061, 5062, 5063, 5064, 5076]"
   ]
  },
  {
   "cell_type": "code",
   "execution_count": 10,
   "metadata": {},
   "outputs": [
    {
     "name": "stdout",
     "output_type": "stream",
     "text": [
      "<class 'pandas.core.frame.DataFrame'>\n",
      "RangeIndex: 4483 entries, 0 to 4482\n",
      "Data columns (total 12 columns):\n",
      " #   Column             Non-Null Count  Dtype  \n",
      "---  ------             --------------  -----  \n",
      " 0   id                 4483 non-null   int64  \n",
      " 1   gender             4483 non-null   object \n",
      " 2   age                4483 non-null   float64\n",
      " 3   hypertension       4483 non-null   int64  \n",
      " 4   heart_disease      4483 non-null   int64  \n",
      " 5   ever_married       4483 non-null   object \n",
      " 6   work_type          4483 non-null   object \n",
      " 7   Residence_type     4483 non-null   object \n",
      " 8   avg_glucose_level  4483 non-null   float64\n",
      " 9   bmi                4343 non-null   float64\n",
      " 10  smoking_status     4483 non-null   object \n",
      " 11  stroke             4483 non-null   int64  \n",
      "dtypes: float64(3), int64(4), object(5)\n",
      "memory usage: 420.4+ KB\n"
     ]
    }
   ],
   "source": [
    "# menghapus outliers dan mereset indeksnya\n",
    "df_without_outlier = dataset.drop(sorted(agl), axis=0)\n",
    "\n",
    "# mereset indeks dataframe setelah menghapus outliers\n",
    "df_without_outlier.reset_index(drop=True, inplace=True)\n",
    "df_without_outlier.info()"
   ]
  },
  {
   "cell_type": "code",
   "execution_count": 11,
   "metadata": {},
   "outputs": [
    {
     "name": "stdout",
     "output_type": "stream",
     "text": [
      "id : int64\n",
      "Q1 17877.0\n",
      "Q3 54815.5\n",
      "IQR 36938.5\n",
      "\n",
      "\n",
      "age : float64\n",
      "Q1 23.0\n",
      "Q3 58.0\n",
      "IQR 35.0\n",
      "\n",
      "\n",
      "hypertension : int64\n",
      "Q1 0.0\n",
      "Q3 0.0\n",
      "IQR 0.0\n",
      "High outlier is found > 0.0\n",
      "High outlier Index :  [1, 5, 8, 15, 16, 26, 28, 30, 32, 33, 36, 39, 41, 50, 59, 62, 68, 75, 80, 82, 85, 90, 91, 95, 100, 104, 107, 108, 111, 113, 116, 122, 126, 139, 151, 157, 163, 166, 182, 183, 191, 206, 222, 275, 323, 339, 381, 405, 434, 439, 444, 458, 508, 511, 523, 525, 537, 545, 546, 557, 568, 570, 603, 610, 631, 634, 636, 668, 673, 676, 688, 694, 713, 723, 728, 730, 736, 766, 780, 798, 822, 832, 844, 862, 889, 891, 901, 903, 928, 935, 937, 945, 970, 979, 998, 1002, 1012, 1023, 1046, 1084, 1094, 1095, 1106, 1114, 1122, 1144, 1199, 1210, 1241, 1249, 1254, 1268, 1269, 1291, 1311, 1314, 1320, 1327, 1328, 1343, 1379, 1414, 1432, 1477, 1485, 1491, 1493, 1497, 1517, 1518, 1529, 1541, 1550, 1554, 1562, 1572, 1573, 1599, 1602, 1606, 1625, 1636, 1674, 1692, 1710, 1731, 1771, 1781, 1791, 1794, 1796, 1809, 1810, 1815, 1822, 1830, 1866, 1879, 1880, 1882, 1888, 1896, 1914, 1916, 1966, 1969, 1971, 1990, 1993, 2011, 2027, 2040, 2052, 2069, 2078, 2085, 2087, 2095, 2115, 2119, 2133, 2150, 2169, 2179, 2183, 2204, 2212, 2213, 2215, 2245, 2277, 2288, 2297, 2308, 2329, 2337, 2351, 2442, 2445, 2460, 2480, 2487, 2490, 2493, 2507, 2518, 2542, 2550, 2560, 2561, 2564, 2577, 2579, 2605, 2610, 2617, 2619, 2621, 2639, 2657, 2662, 2670, 2675, 2699, 2708, 2720, 2741, 2761, 2770, 2773, 2788, 2791, 2795, 2798, 2815, 2818, 2832, 2876, 2885, 2940, 2952, 2955, 2956, 2972, 2989, 3002, 3007, 3018, 3032, 3036, 3049, 3087, 3094, 3105, 3125, 3144, 3157, 3163, 3166, 3184, 3190, 3192, 3197, 3201, 3219, 3231, 3249, 3251, 3254, 3266, 3270, 3312, 3330, 3342, 3371, 3379, 3380, 3396, 3403, 3405, 3421, 3450, 3468, 3503, 3521, 3554, 3627, 3631, 3633, 3677, 3683, 3691, 3705, 3731, 3734, 3753, 3756, 3776, 3784, 3793, 3796, 3811, 3816, 3880, 3891, 3893, 3898, 3903, 3919, 3925, 3956, 3957, 3970, 3985, 4017, 4059, 4063, 4080, 4136, 4154, 4170, 4172, 4191, 4203, 4227, 4239, 4291, 4319, 4325, 4326, 4331, 4461, 4464, 4466, 4473, 4478]\n",
      "\n",
      "\n",
      "heart_disease : int64\n",
      "Q1 0.0\n",
      "Q3 0.0\n",
      "IQR 0.0\n",
      "High outlier is found > 0.0\n",
      "High outlier Index :  [0, 1, 6, 15, 21, 23, 29, 43, 53, 54, 64, 65, 71, 72, 88, 91, 102, 111, 122, 124, 158, 173, 181, 220, 240, 275, 295, 316, 333, 359, 431, 482, 484, 494, 500, 528, 598, 676, 729, 730, 739, 778, 822, 824, 834, 879, 891, 1006, 1011, 1084, 1087, 1117, 1118, 1130, 1159, 1201, 1221, 1282, 1287, 1301, 1327, 1332, 1373, 1399, 1405, 1424, 1497, 1524, 1547, 1569, 1602, 1640, 1672, 1673, 1701, 1709, 1790, 1794, 1814, 1826, 1878, 1890, 1891, 1902, 1908, 1934, 1963, 1992, 2028, 2030, 2095, 2150, 2155, 2171, 2172, 2177, 2189, 2219, 2233, 2267, 2329, 2337, 2339, 2383, 2413, 2414, 2432, 2435, 2497, 2502, 2507, 2540, 2542, 2560, 2579, 2582, 2583, 2622, 2646, 2662, 2672, 2719, 2760, 2789, 2868, 2894, 2910, 2922, 2955, 2956, 2989, 3027, 3047, 3048, 3091, 3101, 3168, 3204, 3207, 3295, 3314, 3392, 3444, 3488, 3534, 3538, 3568, 3569, 3571, 3614, 3625, 3627, 3640, 3642, 3673, 3685, 3712, 3753, 3794, 3828, 3861, 3918, 3964, 3975, 3976, 3985, 3993, 4017, 4059, 4119, 4127, 4191, 4392]\n",
      "\n",
      "\n",
      "avg_glucose_level : float64\n",
      "Q1 75.06\n",
      "Q3 103.93\n",
      "IQR 28.870000000000005\n",
      "High outlier is found > 147.235\n",
      "High outlier Index :  [8, 45, 92, 106, 132, 156, 169, 174, 193, 302, 413, 449, 477, 479, 536, 569, 629, 680, 726, 814, 818, 822, 861, 899, 915, 1084, 1102, 1127, 1151, 1172, 1205, 1233, 1249, 1259, 1309, 1341, 1368, 1387, 1414, 1481, 1535, 1576, 1627, 1629, 1651, 1674, 1739, 1860, 1868, 1869, 1895, 1941, 1978, 2000, 2014, 2039, 2078, 2087, 2092, 2134, 2160, 2169, 2174, 2202, 2299, 2308, 2344, 2355, 2394, 2403, 2441, 2534, 2561, 2606, 2653, 2694, 2697, 2705, 2721, 2724, 2844, 2859, 2885, 2886, 2912, 2973, 3046, 3050, 3066, 3198, 3215, 3243, 3254, 3337, 3361, 3406, 3423, 3481, 3494, 3498, 3532, 3533, 3557, 3575, 3584, 3694, 3737, 3855, 3862, 3921, 3970, 4048, 4086, 4128, 4136, 4189, 4245, 4347, 4349, 4407, 4409, 4459, 4481]\n",
      "\n",
      "\n",
      "bmi : float64\n",
      "Q1 23.1\n",
      "Q3 32.4\n",
      "IQR 9.299999999999997\n",
      "High outlier is found > 46.349999999999994\n",
      "High outlier Index :  [183, 232, 239, 253, 261, 304, 316, 344, 369, 414, 480, 495, 519, 529, 570, 612, 653, 704, 766, 835, 903, 1045, 1070, 1104, 1278, 1304, 1325, 1330, 1341, 1350, 1360, 1400, 1415, 1705, 1731, 1781, 1830, 1835, 1917, 1958, 1981, 2001, 2058, 2075, 2102, 2192, 2200, 2211, 2226, 2342, 2379, 2429, 2454, 2490, 2501, 2615, 2793, 2874, 2899, 3052, 3080, 3123, 3222, 3334, 3375, 3422, 3554, 3606, 3632, 3664, 3683, 3697, 3699, 3807, 3855, 3857, 3901, 3967, 4003, 4071, 4109, 4120, 4186, 4241, 4250, 4260, 4303, 4393, 4435, 4476]\n",
      "\n",
      "\n",
      "stroke : int64\n",
      "Q1 0.0\n",
      "Q3 0.0\n",
      "IQR 0.0\n",
      "High outlier is found > 0.0\n",
      "High outlier Index :  [0, 1, 2, 3, 4, 5, 6, 7, 8, 9, 10, 11, 12, 13, 14, 15, 16, 17, 18, 19, 20, 21, 22, 23, 24, 25, 26, 27, 28, 29, 30, 31, 32, 33, 34, 35, 36, 37, 38, 39, 40, 41, 42, 43, 44, 45, 46, 47, 48, 49, 50, 51, 52, 53, 54, 55, 56, 57, 58, 59, 60, 61, 62, 63, 64, 65, 66, 67, 68, 69, 70, 71, 72, 73, 74, 75, 76, 77, 78, 79, 80, 81, 82, 83, 84, 85, 86, 87, 88, 89, 90, 91, 92, 93, 94, 95, 96, 97, 98, 99, 100, 101, 102, 103, 104, 105, 106, 107, 108, 109, 110, 111, 112, 113, 114, 115, 116, 117, 118, 119, 120, 121, 122, 123, 124, 125, 126, 127, 128, 129, 130, 131, 132, 133, 134, 135, 136, 137, 138, 139, 140, 141, 142, 143, 144, 145, 146, 147, 148, 149, 150, 151, 152, 153, 154, 155, 156, 157, 158, 159, 160, 161, 162, 163, 164]\n",
      "\n",
      "\n"
     ]
    }
   ],
   "source": [
    "# Menghitung IQR dan memeriksa outlier untuk semua kolom bertipe int64 dan float64\n",
    "\n",
    "for i in (df_without_outlier.columns):                               # membuat perulangan untuk tiap kolom di dalam dataframe\n",
    "    if (df_without_outlier[i].dtypes in ['int64','float64']):        # membuat kondisi untuk memilih kolom bertipe int64 dan float 64\n",
    "        print(i,':',dataset[i].dtypes)                    # mencetak nama kolom dan tipe datanya\n",
    "        \n",
    "        Q1 = df_without_outlier[i].quantile(0.25)\n",
    "        print('Q1', Q1)\n",
    "        \n",
    "        Q3 = df_without_outlier[i].quantile(0.75)\n",
    "        print('Q3', Q3)\n",
    "        \n",
    "        IQR = Q3-Q1\n",
    "        print('IQR', IQR)\n",
    "        \n",
    "        nilai_min = df_without_outlier[i].min()\n",
    "        nilai_max = df_without_outlier[i].max()\n",
    "        \n",
    "        min_IQR = Q1 - 1.5 * IQR\n",
    "        max_IQR = Q3 + 1.5 * IQR\n",
    "        \n",
    "        # Mencari outlier \n",
    "        if (nilai_min < min_IQR):\n",
    "            print('Low outlier is found <', min_IQR)\n",
    "            print('Low Outlier Index :', list(df_without_outliert[df_without_outlier[i] < min_IQR].index))\n",
    "        if (nilai_max > max_IQR):\n",
    "            print('High outlier is found >', max_IQR)\n",
    "            print('High outlier Index : ', list(df_without_outlier[df_without_outlier[i] > max_IQR].index))\n",
    "\n",
    "        print('\\n')"
   ]
  },
  {
   "cell_type": "code",
   "execution_count": 12,
   "metadata": {},
   "outputs": [],
   "source": [
    "bmi = [183, 232, 239, 253, 261, 304, 316, 344, 369, 414, 480, 495, 519, 529, 570, 612, 653, 704, 766, 835, 903, 1045, 1070, 1104, 1278, 1304, 1325, 1330, 1341, 1350, 1360, 1400, 1415, 1705, 1731, 1781, 1830, 1835, 1917, 1958, 1981, 2001, 2058, 2075, 2102, 2192, 2200, 2211, 2226, 2342, 2379, 2429, 2454, 2490, 2501, 2615, 2793, 2874, 2899, 3052, 3080, 3123, 3222, 3334, 3375, 3422, 3554, 3606, 3632, 3664, 3683, 3697, 3699, 3807, 3855, 3857, 3901, 3967, 4003, 4071, 4109, 4120, 4186, 4241, 4250, 4260, 4303, 4393, 4435, 4476]"
   ]
  },
  {
   "cell_type": "code",
   "execution_count": 13,
   "metadata": {},
   "outputs": [
    {
     "name": "stdout",
     "output_type": "stream",
     "text": [
      "<class 'pandas.core.frame.DataFrame'>\n",
      "RangeIndex: 4393 entries, 0 to 4392\n",
      "Data columns (total 12 columns):\n",
      " #   Column             Non-Null Count  Dtype  \n",
      "---  ------             --------------  -----  \n",
      " 0   id                 4393 non-null   int64  \n",
      " 1   gender             4393 non-null   object \n",
      " 2   age                4393 non-null   float64\n",
      " 3   hypertension       4393 non-null   int64  \n",
      " 4   heart_disease      4393 non-null   int64  \n",
      " 5   ever_married       4393 non-null   object \n",
      " 6   work_type          4393 non-null   object \n",
      " 7   Residence_type     4393 non-null   object \n",
      " 8   avg_glucose_level  4393 non-null   float64\n",
      " 9   bmi                4253 non-null   float64\n",
      " 10  smoking_status     4393 non-null   object \n",
      " 11  stroke             4393 non-null   int64  \n",
      "dtypes: float64(3), int64(4), object(5)\n",
      "memory usage: 412.0+ KB\n"
     ]
    }
   ],
   "source": [
    "# menghapus outliers dan mereset indeksnya\n",
    "df = df_without_outlier.drop(sorted(bmi), axis=0)\n",
    "\n",
    "# mereset indeks dataframe setelah menghapus outliers\n",
    "df.reset_index(drop=True, inplace=True)\n",
    "df.info()"
   ]
  },
  {
   "cell_type": "markdown",
   "metadata": {},
   "source": [
    "- kolom \"avg_glucose_level\""
   ]
  },
  {
   "cell_type": "code",
   "execution_count": 14,
   "metadata": {},
   "outputs": [
    {
     "data": {
      "image/png": "[encoded data removed]",
      "text/plain": [
       "<Figure size 432x288 with 1 Axes>"
      ]
     },
     "metadata": {
      "needs_background": "light"
     },
     "output_type": "display_data"
    }
   ],
   "source": [
    "# Box plot setelah Outliers dihapus\n",
    "df['avg_glucose_level'].plot(kind='box')\n",
    "plt.title('Box plot of avg_glucose_level', size=16)\n",
    "plt.show()"
   ]
  },
  {
   "cell_type": "markdown",
   "metadata": {},
   "source": [
    "- kolom \"bmi\""
   ]
  },
  {
   "cell_type": "code",
   "execution_count": 15,
   "metadata": {},
   "outputs": [
    {
     "data": {
      "image/png": "[encoded data removed]",
      "text/plain": [
       "<Figure size 432x288 with 1 Axes>"
      ]
     },
     "metadata": {
      "needs_background": "light"
     },
     "output_type": "display_data"
    }
   ],
   "source": [
    "# Box plot setelah Outliers dihapus\n",
    "df['bmi'].plot(kind='box')\n",
    "plt.title(\"Box plot of bmi\", size=16)\n",
    "plt.show()"
   ]
  },
  {
   "cell_type": "markdown",
   "metadata": {},
   "source": [
    "- __Inisght:__ \n",
    "    - Terdapat dua kolom fiture yang menganding Outliers yaitu kolom <code>age</code> dengan kolom <code>bmi</code>\n",
    "    - Dilakukan penghapusan outliers, agar tidak mengganggu pemodelan Machine Learning kedepannya"
   ]
  },
  {
   "cell_type": "markdown",
   "metadata": {},
   "source": [
    "# 2. Duplicated values"
   ]
  },
  {
   "cell_type": "code",
   "execution_count": 16,
   "metadata": {},
   "outputs": [
    {
     "data": {
      "text/plain": [
       "False"
      ]
     },
     "execution_count": 16,
     "metadata": {},
     "output_type": "execute_result"
    }
   ],
   "source": [
    "df.duplicated().values.any()"
   ]
  },
  {
   "cell_type": "code",
   "execution_count": 17,
   "metadata": {},
   "outputs": [
    {
     "data": {
      "text/plain": [
       "0       False\n",
       "1       False\n",
       "2       False\n",
       "3       False\n",
       "4       False\n",
       "        ...  \n",
       "4388    False\n",
       "4389    False\n",
       "4390    False\n",
       "4391    False\n",
       "4392    False\n",
       "Length: 4393, dtype: bool"
      ]
     },
     "execution_count": 17,
     "metadata": {},
     "output_type": "execute_result"
    }
   ],
   "source": [
    "df.duplicated()"
   ]
  },
  {
   "cell_type": "code",
   "execution_count": 18,
   "metadata": {},
   "outputs": [
    {
     "data": {
      "text/html": [
       "<div>\n",
       "<style scoped>\n",
       "    .dataframe tbody tr th:only-of-type {\n",
       "        vertical-align: middle;\n",
       "    }\n",
       "\n",
       "    .dataframe tbody tr th {\n",
       "        vertical-align: top;\n",
       "    }\n",
       "\n",
       "    .dataframe thead th {\n",
       "        text-align: right;\n",
       "    }\n",
       "</style>\n",
       "<table border=\"1\" class=\"dataframe\">\n",
       "  <thead>\n",
       "    <tr style=\"text-align: right;\">\n",
       "      <th></th>\n",
       "      <th>id</th>\n",
       "      <th>gender</th>\n",
       "      <th>age</th>\n",
       "      <th>hypertension</th>\n",
       "      <th>heart_disease</th>\n",
       "      <th>ever_married</th>\n",
       "      <th>work_type</th>\n",
       "      <th>Residence_type</th>\n",
       "      <th>avg_glucose_level</th>\n",
       "      <th>bmi</th>\n",
       "      <th>smoking_status</th>\n",
       "      <th>stroke</th>\n",
       "    </tr>\n",
       "  </thead>\n",
       "  <tbody>\n",
       "  </tbody>\n",
       "</table>\n",
       "</div>"
      ],
      "text/plain": [
       "Empty DataFrame\n",
       "Columns: [id, gender, age, hypertension, heart_disease, ever_married, work_type, Residence_type, avg_glucose_level, bmi, smoking_status, stroke]\n",
       "Index: []"
      ]
     },
     "execution_count": 18,
     "metadata": {},
     "output_type": "execute_result"
    }
   ],
   "source": [
    "df[df.duplicated(keep=False)]"
   ]
  },
  {
   "cell_type": "markdown",
   "metadata": {},
   "source": [
    "- Kesimpulan:\n",
    "    - Setelah dilakukan pengecheckan tiga kali TIDAK ditemukan data ganda atau duplicated values"
   ]
  },
  {
   "cell_type": "markdown",
   "metadata": {},
   "source": [
    "# 3. Missing Values"
   ]
  },
  {
   "cell_type": "code",
   "execution_count": 19,
   "metadata": {},
   "outputs": [
    {
     "data": {
      "text/html": [
       "<div>\n",
       "<style scoped>\n",
       "    .dataframe tbody tr th:only-of-type {\n",
       "        vertical-align: middle;\n",
       "    }\n",
       "\n",
       "    .dataframe tbody tr th {\n",
       "        vertical-align: top;\n",
       "    }\n",
       "\n",
       "    .dataframe thead th {\n",
       "        text-align: right;\n",
       "    }\n",
       "</style>\n",
       "<table border=\"1\" class=\"dataframe\">\n",
       "  <thead>\n",
       "    <tr style=\"text-align: right;\">\n",
       "      <th></th>\n",
       "      <th>id</th>\n",
       "      <th>age</th>\n",
       "      <th>hypertension</th>\n",
       "      <th>heart_disease</th>\n",
       "      <th>avg_glucose_level</th>\n",
       "      <th>bmi</th>\n",
       "      <th>stroke</th>\n",
       "    </tr>\n",
       "  </thead>\n",
       "  <tbody>\n",
       "    <tr>\n",
       "      <th>count</th>\n",
       "      <td>5110.000000</td>\n",
       "      <td>5110.000000</td>\n",
       "      <td>5110.000000</td>\n",
       "      <td>5110.000000</td>\n",
       "      <td>5110.000000</td>\n",
       "      <td>4909.000000</td>\n",
       "      <td>5110.000000</td>\n",
       "    </tr>\n",
       "    <tr>\n",
       "      <th>mean</th>\n",
       "      <td>36517.829354</td>\n",
       "      <td>43.226614</td>\n",
       "      <td>0.097456</td>\n",
       "      <td>0.054012</td>\n",
       "      <td>106.147677</td>\n",
       "      <td>28.893237</td>\n",
       "      <td>0.048728</td>\n",
       "    </tr>\n",
       "    <tr>\n",
       "      <th>std</th>\n",
       "      <td>21161.721625</td>\n",
       "      <td>22.612647</td>\n",
       "      <td>0.296607</td>\n",
       "      <td>0.226063</td>\n",
       "      <td>45.283560</td>\n",
       "      <td>7.854067</td>\n",
       "      <td>0.215320</td>\n",
       "    </tr>\n",
       "    <tr>\n",
       "      <th>min</th>\n",
       "      <td>67.000000</td>\n",
       "      <td>0.080000</td>\n",
       "      <td>0.000000</td>\n",
       "      <td>0.000000</td>\n",
       "      <td>55.120000</td>\n",
       "      <td>10.300000</td>\n",
       "      <td>0.000000</td>\n",
       "    </tr>\n",
       "    <tr>\n",
       "      <th>25%</th>\n",
       "      <td>17741.250000</td>\n",
       "      <td>25.000000</td>\n",
       "      <td>0.000000</td>\n",
       "      <td>0.000000</td>\n",
       "      <td>77.245000</td>\n",
       "      <td>23.500000</td>\n",
       "      <td>0.000000</td>\n",
       "    </tr>\n",
       "    <tr>\n",
       "      <th>50%</th>\n",
       "      <td>36932.000000</td>\n",
       "      <td>45.000000</td>\n",
       "      <td>0.000000</td>\n",
       "      <td>0.000000</td>\n",
       "      <td>91.885000</td>\n",
       "      <td>28.100000</td>\n",
       "      <td>0.000000</td>\n",
       "    </tr>\n",
       "    <tr>\n",
       "      <th>75%</th>\n",
       "      <td>54682.000000</td>\n",
       "      <td>61.000000</td>\n",
       "      <td>0.000000</td>\n",
       "      <td>0.000000</td>\n",
       "      <td>114.090000</td>\n",
       "      <td>33.100000</td>\n",
       "      <td>0.000000</td>\n",
       "    </tr>\n",
       "    <tr>\n",
       "      <th>max</th>\n",
       "      <td>72940.000000</td>\n",
       "      <td>82.000000</td>\n",
       "      <td>1.000000</td>\n",
       "      <td>1.000000</td>\n",
       "      <td>271.740000</td>\n",
       "      <td>97.600000</td>\n",
       "      <td>1.000000</td>\n",
       "    </tr>\n",
       "  </tbody>\n",
       "</table>\n",
       "</div>"
      ],
      "text/plain": [
       "                 id          age  hypertension  heart_disease  \\\n",
       "count   5110.000000  5110.000000   5110.000000    5110.000000   \n",
       "mean   36517.829354    43.226614      0.097456       0.054012   \n",
       "std    21161.721625    22.612647      0.296607       0.226063   \n",
       "min       67.000000     0.080000      0.000000       0.000000   \n",
       "25%    17741.250000    25.000000      0.000000       0.000000   \n",
       "50%    36932.000000    45.000000      0.000000       0.000000   \n",
       "75%    54682.000000    61.000000      0.000000       0.000000   \n",
       "max    72940.000000    82.000000      1.000000       1.000000   \n",
       "\n",
       "       avg_glucose_level          bmi       stroke  \n",
       "count        5110.000000  4909.000000  5110.000000  \n",
       "mean          106.147677    28.893237     0.048728  \n",
       "std            45.283560     7.854067     0.215320  \n",
       "min            55.120000    10.300000     0.000000  \n",
       "25%            77.245000    23.500000     0.000000  \n",
       "50%            91.885000    28.100000     0.000000  \n",
       "75%           114.090000    33.100000     0.000000  \n",
       "max           271.740000    97.600000     1.000000  "
      ]
     },
     "execution_count": 19,
     "metadata": {},
     "output_type": "execute_result"
    }
   ],
   "source": [
    "dataset.describe()"
   ]
  },
  {
   "cell_type": "code",
   "execution_count": 20,
   "metadata": {},
   "outputs": [
    {
     "data": {
      "text/plain": [
       "True"
      ]
     },
     "execution_count": 20,
     "metadata": {},
     "output_type": "execute_result"
    }
   ],
   "source": [
    "df.isnull().values.any()"
   ]
  },
  {
   "cell_type": "code",
   "execution_count": 21,
   "metadata": {},
   "outputs": [
    {
     "data": {
      "text/plain": [
       "id                   False\n",
       "gender               False\n",
       "age                  False\n",
       "hypertension         False\n",
       "heart_disease        False\n",
       "ever_married         False\n",
       "work_type            False\n",
       "Residence_type       False\n",
       "avg_glucose_level    False\n",
       "bmi                   True\n",
       "smoking_status       False\n",
       "stroke               False\n",
       "dtype: bool"
      ]
     },
     "execution_count": 21,
     "metadata": {},
     "output_type": "execute_result"
    }
   ],
   "source": [
    "df.isnull().any()"
   ]
  },
  {
   "cell_type": "code",
   "execution_count": 22,
   "metadata": {},
   "outputs": [
    {
     "data": {
      "text/plain": [
       "id                     0\n",
       "gender                 0\n",
       "age                    0\n",
       "hypertension           0\n",
       "heart_disease          0\n",
       "ever_married           0\n",
       "work_type              0\n",
       "Residence_type         0\n",
       "avg_glucose_level      0\n",
       "bmi                  140\n",
       "smoking_status         0\n",
       "stroke                 0\n",
       "dtype: int64"
      ]
     },
     "execution_count": 22,
     "metadata": {},
     "output_type": "execute_result"
    }
   ],
   "source": [
    "df.isnull().sum()"
   ]
  },
  {
   "cell_type": "code",
   "execution_count": 23,
   "metadata": {},
   "outputs": [
    {
     "data": {
      "text/plain": [
       "28.7    37\n",
       "27.6    36\n",
       "23.4    35\n",
       "28.4    35\n",
       "25.1    34\n",
       "Name: bmi, dtype: int64"
      ]
     },
     "execution_count": 23,
     "metadata": {},
     "output_type": "execute_result"
    }
   ],
   "source": [
    "df['bmi'].value_counts().head()"
   ]
  },
  {
   "cell_type": "code",
   "execution_count": 24,
   "metadata": {},
   "outputs": [
    {
     "data": {
      "text/html": [
       "<div>\n",
       "<style scoped>\n",
       "    .dataframe tbody tr th:only-of-type {\n",
       "        vertical-align: middle;\n",
       "    }\n",
       "\n",
       "    .dataframe tbody tr th {\n",
       "        vertical-align: top;\n",
       "    }\n",
       "\n",
       "    .dataframe thead th {\n",
       "        text-align: right;\n",
       "    }\n",
       "</style>\n",
       "<table border=\"1\" class=\"dataframe\">\n",
       "  <thead>\n",
       "    <tr style=\"text-align: right;\">\n",
       "      <th></th>\n",
       "      <th>id</th>\n",
       "      <th>age</th>\n",
       "      <th>hypertension</th>\n",
       "      <th>heart_disease</th>\n",
       "      <th>avg_glucose_level</th>\n",
       "      <th>bmi</th>\n",
       "      <th>stroke</th>\n",
       "    </tr>\n",
       "  </thead>\n",
       "  <tbody>\n",
       "    <tr>\n",
       "      <th>count</th>\n",
       "      <td>4393.000000</td>\n",
       "      <td>4393.000000</td>\n",
       "      <td>4393.000000</td>\n",
       "      <td>4393.000000</td>\n",
       "      <td>4393.000000</td>\n",
       "      <td>4253.000000</td>\n",
       "      <td>4393.000000</td>\n",
       "    </tr>\n",
       "    <tr>\n",
       "      <th>mean</th>\n",
       "      <td>36621.726611</td>\n",
       "      <td>40.885809</td>\n",
       "      <td>0.074209</td>\n",
       "      <td>0.039153</td>\n",
       "      <td>91.481320</td>\n",
       "      <td>27.776017</td>\n",
       "      <td>0.037560</td>\n",
       "    </tr>\n",
       "    <tr>\n",
       "      <th>std</th>\n",
       "      <td>21161.190291</td>\n",
       "      <td>22.547395</td>\n",
       "      <td>0.262140</td>\n",
       "      <td>0.193981</td>\n",
       "      <td>22.662683</td>\n",
       "      <td>6.676331</td>\n",
       "      <td>0.190151</td>\n",
       "    </tr>\n",
       "    <tr>\n",
       "      <th>min</th>\n",
       "      <td>67.000000</td>\n",
       "      <td>0.080000</td>\n",
       "      <td>0.000000</td>\n",
       "      <td>0.000000</td>\n",
       "      <td>55.120000</td>\n",
       "      <td>10.300000</td>\n",
       "      <td>0.000000</td>\n",
       "    </tr>\n",
       "    <tr>\n",
       "      <th>25%</th>\n",
       "      <td>17885.000000</td>\n",
       "      <td>23.000000</td>\n",
       "      <td>0.000000</td>\n",
       "      <td>0.000000</td>\n",
       "      <td>75.080000</td>\n",
       "      <td>23.000000</td>\n",
       "      <td>0.000000</td>\n",
       "    </tr>\n",
       "    <tr>\n",
       "      <th>50%</th>\n",
       "      <td>37011.000000</td>\n",
       "      <td>42.000000</td>\n",
       "      <td>0.000000</td>\n",
       "      <td>0.000000</td>\n",
       "      <td>88.040000</td>\n",
       "      <td>27.400000</td>\n",
       "      <td>0.000000</td>\n",
       "    </tr>\n",
       "    <tr>\n",
       "      <th>75%</th>\n",
       "      <td>54871.000000</td>\n",
       "      <td>58.000000</td>\n",
       "      <td>0.000000</td>\n",
       "      <td>0.000000</td>\n",
       "      <td>104.020000</td>\n",
       "      <td>32.100000</td>\n",
       "      <td>0.000000</td>\n",
       "    </tr>\n",
       "    <tr>\n",
       "      <th>max</th>\n",
       "      <td>72940.000000</td>\n",
       "      <td>82.000000</td>\n",
       "      <td>1.000000</td>\n",
       "      <td>1.000000</td>\n",
       "      <td>168.680000</td>\n",
       "      <td>46.300000</td>\n",
       "      <td>1.000000</td>\n",
       "    </tr>\n",
       "  </tbody>\n",
       "</table>\n",
       "</div>"
      ],
      "text/plain": [
       "                 id          age  hypertension  heart_disease  \\\n",
       "count   4393.000000  4393.000000   4393.000000    4393.000000   \n",
       "mean   36621.726611    40.885809      0.074209       0.039153   \n",
       "std    21161.190291    22.547395      0.262140       0.193981   \n",
       "min       67.000000     0.080000      0.000000       0.000000   \n",
       "25%    17885.000000    23.000000      0.000000       0.000000   \n",
       "50%    37011.000000    42.000000      0.000000       0.000000   \n",
       "75%    54871.000000    58.000000      0.000000       0.000000   \n",
       "max    72940.000000    82.000000      1.000000       1.000000   \n",
       "\n",
       "       avg_glucose_level          bmi       stroke  \n",
       "count        4393.000000  4253.000000  4393.000000  \n",
       "mean           91.481320    27.776017     0.037560  \n",
       "std            22.662683     6.676331     0.190151  \n",
       "min            55.120000    10.300000     0.000000  \n",
       "25%            75.080000    23.000000     0.000000  \n",
       "50%            88.040000    27.400000     0.000000  \n",
       "75%           104.020000    32.100000     0.000000  \n",
       "max           168.680000    46.300000     1.000000  "
      ]
     },
     "execution_count": 24,
     "metadata": {},
     "output_type": "execute_result"
    }
   ],
   "source": [
    "df.describe()"
   ]
  },
  {
   "cell_type": "code",
   "execution_count": 25,
   "metadata": {},
   "outputs": [],
   "source": [
    "df['bmi'].fillna(27.4, inplace=True)"
   ]
  },
  {
   "cell_type": "code",
   "execution_count": 26,
   "metadata": {},
   "outputs": [
    {
     "data": {
      "text/plain": [
       "False"
      ]
     },
     "execution_count": 26,
     "metadata": {},
     "output_type": "execute_result"
    }
   ],
   "source": [
    "df.isnull().values.any()"
   ]
  },
  {
   "cell_type": "code",
   "execution_count": 27,
   "metadata": {},
   "outputs": [
    {
     "data": {
      "text/plain": [
       "id                   False\n",
       "gender               False\n",
       "age                  False\n",
       "hypertension         False\n",
       "heart_disease        False\n",
       "ever_married         False\n",
       "work_type            False\n",
       "Residence_type       False\n",
       "avg_glucose_level    False\n",
       "bmi                  False\n",
       "smoking_status       False\n",
       "stroke               False\n",
       "dtype: bool"
      ]
     },
     "execution_count": 27,
     "metadata": {},
     "output_type": "execute_result"
    }
   ],
   "source": [
    "df.isnull().any()"
   ]
  },
  {
   "cell_type": "code",
   "execution_count": 28,
   "metadata": {},
   "outputs": [
    {
     "data": {
      "text/plain": [
       "id                   0\n",
       "gender               0\n",
       "age                  0\n",
       "hypertension         0\n",
       "heart_disease        0\n",
       "ever_married         0\n",
       "work_type            0\n",
       "Residence_type       0\n",
       "avg_glucose_level    0\n",
       "bmi                  0\n",
       "smoking_status       0\n",
       "stroke               0\n",
       "dtype: int64"
      ]
     },
     "execution_count": 28,
     "metadata": {},
     "output_type": "execute_result"
    }
   ],
   "source": [
    "df.isnull().sum()"
   ]
  },
  {
   "cell_type": "code",
   "execution_count": 29,
   "metadata": {},
   "outputs": [
    {
     "data": {
      "text/html": [
       "<div>\n",
       "<style scoped>\n",
       "    .dataframe tbody tr th:only-of-type {\n",
       "        vertical-align: middle;\n",
       "    }\n",
       "\n",
       "    .dataframe tbody tr th {\n",
       "        vertical-align: top;\n",
       "    }\n",
       "\n",
       "    .dataframe thead th {\n",
       "        text-align: right;\n",
       "    }\n",
       "</style>\n",
       "<table border=\"1\" class=\"dataframe\">\n",
       "  <thead>\n",
       "    <tr style=\"text-align: right;\">\n",
       "      <th></th>\n",
       "      <th>id</th>\n",
       "      <th>age</th>\n",
       "      <th>hypertension</th>\n",
       "      <th>heart_disease</th>\n",
       "      <th>avg_glucose_level</th>\n",
       "      <th>bmi</th>\n",
       "      <th>stroke</th>\n",
       "    </tr>\n",
       "  </thead>\n",
       "  <tbody>\n",
       "    <tr>\n",
       "      <th>count</th>\n",
       "      <td>4393.000000</td>\n",
       "      <td>4393.000000</td>\n",
       "      <td>4393.000000</td>\n",
       "      <td>4393.000000</td>\n",
       "      <td>4393.000000</td>\n",
       "      <td>4393.000000</td>\n",
       "      <td>4393.000000</td>\n",
       "    </tr>\n",
       "    <tr>\n",
       "      <th>mean</th>\n",
       "      <td>36621.726611</td>\n",
       "      <td>40.885809</td>\n",
       "      <td>0.074209</td>\n",
       "      <td>0.039153</td>\n",
       "      <td>91.481320</td>\n",
       "      <td>27.764034</td>\n",
       "      <td>0.037560</td>\n",
       "    </tr>\n",
       "    <tr>\n",
       "      <th>std</th>\n",
       "      <td>21161.190291</td>\n",
       "      <td>22.547395</td>\n",
       "      <td>0.262140</td>\n",
       "      <td>0.193981</td>\n",
       "      <td>22.662683</td>\n",
       "      <td>6.569393</td>\n",
       "      <td>0.190151</td>\n",
       "    </tr>\n",
       "    <tr>\n",
       "      <th>min</th>\n",
       "      <td>67.000000</td>\n",
       "      <td>0.080000</td>\n",
       "      <td>0.000000</td>\n",
       "      <td>0.000000</td>\n",
       "      <td>55.120000</td>\n",
       "      <td>10.300000</td>\n",
       "      <td>0.000000</td>\n",
       "    </tr>\n",
       "    <tr>\n",
       "      <th>25%</th>\n",
       "      <td>17885.000000</td>\n",
       "      <td>23.000000</td>\n",
       "      <td>0.000000</td>\n",
       "      <td>0.000000</td>\n",
       "      <td>75.080000</td>\n",
       "      <td>23.200000</td>\n",
       "      <td>0.000000</td>\n",
       "    </tr>\n",
       "    <tr>\n",
       "      <th>50%</th>\n",
       "      <td>37011.000000</td>\n",
       "      <td>42.000000</td>\n",
       "      <td>0.000000</td>\n",
       "      <td>0.000000</td>\n",
       "      <td>88.040000</td>\n",
       "      <td>27.400000</td>\n",
       "      <td>0.000000</td>\n",
       "    </tr>\n",
       "    <tr>\n",
       "      <th>75%</th>\n",
       "      <td>54871.000000</td>\n",
       "      <td>58.000000</td>\n",
       "      <td>0.000000</td>\n",
       "      <td>0.000000</td>\n",
       "      <td>104.020000</td>\n",
       "      <td>31.900000</td>\n",
       "      <td>0.000000</td>\n",
       "    </tr>\n",
       "    <tr>\n",
       "      <th>max</th>\n",
       "      <td>72940.000000</td>\n",
       "      <td>82.000000</td>\n",
       "      <td>1.000000</td>\n",
       "      <td>1.000000</td>\n",
       "      <td>168.680000</td>\n",
       "      <td>46.300000</td>\n",
       "      <td>1.000000</td>\n",
       "    </tr>\n",
       "  </tbody>\n",
       "</table>\n",
       "</div>"
      ],
      "text/plain": [
       "                 id          age  hypertension  heart_disease  \\\n",
       "count   4393.000000  4393.000000   4393.000000    4393.000000   \n",
       "mean   36621.726611    40.885809      0.074209       0.039153   \n",
       "std    21161.190291    22.547395      0.262140       0.193981   \n",
       "min       67.000000     0.080000      0.000000       0.000000   \n",
       "25%    17885.000000    23.000000      0.000000       0.000000   \n",
       "50%    37011.000000    42.000000      0.000000       0.000000   \n",
       "75%    54871.000000    58.000000      0.000000       0.000000   \n",
       "max    72940.000000    82.000000      1.000000       1.000000   \n",
       "\n",
       "       avg_glucose_level          bmi       stroke  \n",
       "count        4393.000000  4393.000000  4393.000000  \n",
       "mean           91.481320    27.764034     0.037560  \n",
       "std            22.662683     6.569393     0.190151  \n",
       "min            55.120000    10.300000     0.000000  \n",
       "25%            75.080000    23.200000     0.000000  \n",
       "50%            88.040000    27.400000     0.000000  \n",
       "75%           104.020000    31.900000     0.000000  \n",
       "max           168.680000    46.300000     1.000000  "
      ]
     },
     "execution_count": 29,
     "metadata": {},
     "output_type": "execute_result"
    }
   ],
   "source": [
    "df.describe()"
   ]
  },
  {
   "cell_type": "markdown",
   "metadata": {},
   "source": [
    "- Kesimpulan:\n",
    "    - Treatment dataset untuk khasus missing values telah selesai dengan mengganti missing values dengan median pada kolom bmi"
   ]
  },
  {
   "cell_type": "markdown",
   "metadata": {},
   "source": [
    "# 3. Data Formating"
   ]
  },
  {
   "cell_type": "code",
   "execution_count": 30,
   "metadata": {},
   "outputs": [
    {
     "data": {
      "text/html": [
       "<div>\n",
       "<style scoped>\n",
       "    .dataframe tbody tr th:only-of-type {\n",
       "        vertical-align: middle;\n",
       "    }\n",
       "\n",
       "    .dataframe tbody tr th {\n",
       "        vertical-align: top;\n",
       "    }\n",
       "\n",
       "    .dataframe thead th {\n",
       "        text-align: right;\n",
       "    }\n",
       "</style>\n",
       "<table border=\"1\" class=\"dataframe\">\n",
       "  <thead>\n",
       "    <tr style=\"text-align: right;\">\n",
       "      <th></th>\n",
       "      <th>id</th>\n",
       "      <th>gender</th>\n",
       "      <th>age</th>\n",
       "      <th>hypertension</th>\n",
       "      <th>heart_disease</th>\n",
       "      <th>ever_married</th>\n",
       "      <th>work_type</th>\n",
       "      <th>Residence_type</th>\n",
       "      <th>avg_glucose_level</th>\n",
       "      <th>bmi</th>\n",
       "      <th>smoking_status</th>\n",
       "      <th>stroke</th>\n",
       "    </tr>\n",
       "  </thead>\n",
       "  <tbody>\n",
       "    <tr>\n",
       "      <th>0</th>\n",
       "      <td>9046</td>\n",
       "      <td>Male</td>\n",
       "      <td>67.0</td>\n",
       "      <td>0</td>\n",
       "      <td>1</td>\n",
       "      <td>Yes</td>\n",
       "      <td>Private</td>\n",
       "      <td>Urban</td>\n",
       "      <td>228.69</td>\n",
       "      <td>36.6</td>\n",
       "      <td>formerly smoked</td>\n",
       "      <td>1</td>\n",
       "    </tr>\n",
       "    <tr>\n",
       "      <th>1</th>\n",
       "      <td>51676</td>\n",
       "      <td>Female</td>\n",
       "      <td>61.0</td>\n",
       "      <td>0</td>\n",
       "      <td>0</td>\n",
       "      <td>Yes</td>\n",
       "      <td>Self-employed</td>\n",
       "      <td>Rural</td>\n",
       "      <td>202.21</td>\n",
       "      <td>NaN</td>\n",
       "      <td>never smoked</td>\n",
       "      <td>1</td>\n",
       "    </tr>\n",
       "    <tr>\n",
       "      <th>2</th>\n",
       "      <td>31112</td>\n",
       "      <td>Male</td>\n",
       "      <td>80.0</td>\n",
       "      <td>0</td>\n",
       "      <td>1</td>\n",
       "      <td>Yes</td>\n",
       "      <td>Private</td>\n",
       "      <td>Rural</td>\n",
       "      <td>105.92</td>\n",
       "      <td>32.5</td>\n",
       "      <td>never smoked</td>\n",
       "      <td>1</td>\n",
       "    </tr>\n",
       "    <tr>\n",
       "      <th>3</th>\n",
       "      <td>60182</td>\n",
       "      <td>Female</td>\n",
       "      <td>49.0</td>\n",
       "      <td>0</td>\n",
       "      <td>0</td>\n",
       "      <td>Yes</td>\n",
       "      <td>Private</td>\n",
       "      <td>Urban</td>\n",
       "      <td>171.23</td>\n",
       "      <td>34.4</td>\n",
       "      <td>smokes</td>\n",
       "      <td>1</td>\n",
       "    </tr>\n",
       "    <tr>\n",
       "      <th>4</th>\n",
       "      <td>1665</td>\n",
       "      <td>Female</td>\n",
       "      <td>79.0</td>\n",
       "      <td>1</td>\n",
       "      <td>0</td>\n",
       "      <td>Yes</td>\n",
       "      <td>Self-employed</td>\n",
       "      <td>Rural</td>\n",
       "      <td>174.12</td>\n",
       "      <td>24.0</td>\n",
       "      <td>never smoked</td>\n",
       "      <td>1</td>\n",
       "    </tr>\n",
       "  </tbody>\n",
       "</table>\n",
       "</div>"
      ],
      "text/plain": [
       "      id  gender   age  hypertension  heart_disease ever_married  \\\n",
       "0   9046    Male  67.0             0              1          Yes   \n",
       "1  51676  Female  61.0             0              0          Yes   \n",
       "2  31112    Male  80.0             0              1          Yes   \n",
       "3  60182  Female  49.0             0              0          Yes   \n",
       "4   1665  Female  79.0             1              0          Yes   \n",
       "\n",
       "       work_type Residence_type  avg_glucose_level   bmi   smoking_status  \\\n",
       "0        Private          Urban             228.69  36.6  formerly smoked   \n",
       "1  Self-employed          Rural             202.21   NaN     never smoked   \n",
       "2        Private          Rural             105.92  32.5     never smoked   \n",
       "3        Private          Urban             171.23  34.4           smokes   \n",
       "4  Self-employed          Rural             174.12  24.0     never smoked   \n",
       "\n",
       "   stroke  \n",
       "0       1  \n",
       "1       1  \n",
       "2       1  \n",
       "3       1  \n",
       "4       1  "
      ]
     },
     "execution_count": 30,
     "metadata": {},
     "output_type": "execute_result"
    }
   ],
   "source": [
    "dataset.head()"
   ]
  },
  {
   "cell_type": "markdown",
   "metadata": {},
   "source": [
    "- <code>Ubah tipe data"
   ]
  },
  {
   "cell_type": "code",
   "execution_count": 31,
   "metadata": {},
   "outputs": [
    {
     "data": {
      "text/plain": [
       "id                     int64\n",
       "gender                object\n",
       "age                  float64\n",
       "hypertension           int64\n",
       "heart_disease          int64\n",
       "ever_married          object\n",
       "work_type             object\n",
       "Residence_type        object\n",
       "avg_glucose_level    float64\n",
       "bmi                  float64\n",
       "smoking_status        object\n",
       "stroke                 int64\n",
       "dtype: object"
      ]
     },
     "execution_count": 31,
     "metadata": {},
     "output_type": "execute_result"
    }
   ],
   "source": [
    "df.dtypes"
   ]
  },
  {
   "cell_type": "code",
   "execution_count": 32,
   "metadata": {},
   "outputs": [],
   "source": [
    "df['age'] = df['age'].astype('int64')"
   ]
  },
  {
   "cell_type": "code",
   "execution_count": 33,
   "metadata": {},
   "outputs": [
    {
     "data": {
      "text/plain": [
       "id                     int64\n",
       "gender                object\n",
       "age                    int64\n",
       "hypertension           int64\n",
       "heart_disease          int64\n",
       "ever_married          object\n",
       "work_type             object\n",
       "Residence_type        object\n",
       "avg_glucose_level    float64\n",
       "bmi                  float64\n",
       "smoking_status        object\n",
       "stroke                 int64\n",
       "dtype: object"
      ]
     },
     "execution_count": 33,
     "metadata": {},
     "output_type": "execute_result"
    }
   ],
   "source": [
    "df.dtypes"
   ]
  },
  {
   "cell_type": "markdown",
   "metadata": {},
   "source": [
    "- Kesimpulan:\n",
    "    - Data formating dari dataset yaitu mengganti tipe data. Dimana dataset sebelumnya pada kolom <code>age</code> bertipe data float64 diubah menjadi int64"
   ]
  },
  {
   "cell_type": "markdown",
   "metadata": {},
   "source": [
    "# Tahap Preprocessing"
   ]
  },
  {
   "cell_type": "markdown",
   "metadata": {},
   "source": [
    "<code> Data Binning"
   ]
  },
  {
   "cell_type": "markdown",
   "metadata": {},
   "source": [
    "__Data Binning__ adalah sebuah proses untuk mengelompokkan data ke dalam bagian-bagian yang lebih kecil yang disebut bin berdasarkan kriteria tertentu. Binning data merupakan salah satu teknik praproses data yang digunakan untuk meminimalisasi kesalahan dalam pengamatan serta terkadang dapat meningkatkan akurasi dari model prediktif."
   ]
  },
  {
   "cell_type": "markdown",
   "metadata": {},
   "source": [
    "__Kolom avg_glucose_level__"
   ]
  },
  {
   "cell_type": "code",
   "execution_count": 34,
   "metadata": {},
   "outputs": [
    {
     "data": {
      "text/plain": [
       "array([ 55.12      ,  92.97333333, 130.82666667, 168.68      ])"
      ]
     },
     "execution_count": 34,
     "metadata": {},
     "output_type": "execute_result"
    }
   ],
   "source": [
    "# Menentukan batas bin dengan linspace\n",
    "\n",
    "binS = np.linspace(min(df['avg_glucose_level']), max(df['avg_glucose_level']), 4)\n",
    "binS"
   ]
  },
  {
   "cell_type": "code",
   "execution_count": 35,
   "metadata": {},
   "outputs": [],
   "source": [
    "# Membuat nama kategori\n",
    "\n",
    "kategori = ['Low', 'Medium', 'High']"
   ]
  },
  {
   "cell_type": "code",
   "execution_count": 36,
   "metadata": {},
   "outputs": [
    {
     "data": {
      "text/html": [
       "<div>\n",
       "<style scoped>\n",
       "    .dataframe tbody tr th:only-of-type {\n",
       "        vertical-align: middle;\n",
       "    }\n",
       "\n",
       "    .dataframe tbody tr th {\n",
       "        vertical-align: top;\n",
       "    }\n",
       "\n",
       "    .dataframe thead th {\n",
       "        text-align: right;\n",
       "    }\n",
       "</style>\n",
       "<table border=\"1\" class=\"dataframe\">\n",
       "  <thead>\n",
       "    <tr style=\"text-align: right;\">\n",
       "      <th></th>\n",
       "      <th>id</th>\n",
       "      <th>avg_glucose_level</th>\n",
       "      <th>avg_glucose_level_Bins</th>\n",
       "    </tr>\n",
       "  </thead>\n",
       "  <tbody>\n",
       "    <tr>\n",
       "      <th>0</th>\n",
       "      <td>31112</td>\n",
       "      <td>105.92</td>\n",
       "      <td>Medium</td>\n",
       "    </tr>\n",
       "    <tr>\n",
       "      <th>1</th>\n",
       "      <td>53882</td>\n",
       "      <td>70.09</td>\n",
       "      <td>Low</td>\n",
       "    </tr>\n",
       "    <tr>\n",
       "      <th>2</th>\n",
       "      <td>10434</td>\n",
       "      <td>94.39</td>\n",
       "      <td>Medium</td>\n",
       "    </tr>\n",
       "    <tr>\n",
       "      <th>3</th>\n",
       "      <td>27419</td>\n",
       "      <td>76.15</td>\n",
       "      <td>Low</td>\n",
       "    </tr>\n",
       "    <tr>\n",
       "      <th>4</th>\n",
       "      <td>60491</td>\n",
       "      <td>58.57</td>\n",
       "      <td>Low</td>\n",
       "    </tr>\n",
       "    <tr>\n",
       "      <th>5</th>\n",
       "      <td>12109</td>\n",
       "      <td>80.43</td>\n",
       "      <td>Low</td>\n",
       "    </tr>\n",
       "    <tr>\n",
       "      <th>6</th>\n",
       "      <td>12095</td>\n",
       "      <td>120.46</td>\n",
       "      <td>Medium</td>\n",
       "    </tr>\n",
       "    <tr>\n",
       "      <th>7</th>\n",
       "      <td>12175</td>\n",
       "      <td>104.51</td>\n",
       "      <td>Medium</td>\n",
       "    </tr>\n",
       "    <tr>\n",
       "      <th>8</th>\n",
       "      <td>58202</td>\n",
       "      <td>167.41</td>\n",
       "      <td>High</td>\n",
       "    </tr>\n",
       "    <tr>\n",
       "      <th>9</th>\n",
       "      <td>27458</td>\n",
       "      <td>89.22</td>\n",
       "      <td>Low</td>\n",
       "    </tr>\n",
       "  </tbody>\n",
       "</table>\n",
       "</div>"
      ],
      "text/plain": [
       "      id  avg_glucose_level avg_glucose_level_Bins\n",
       "0  31112             105.92                 Medium\n",
       "1  53882              70.09                    Low\n",
       "2  10434              94.39                 Medium\n",
       "3  27419              76.15                    Low\n",
       "4  60491              58.57                    Low\n",
       "5  12109              80.43                    Low\n",
       "6  12095             120.46                 Medium\n",
       "7  12175             104.51                 Medium\n",
       "8  58202             167.41                   High\n",
       "9  27458              89.22                    Low"
      ]
     },
     "execution_count": 36,
     "metadata": {},
     "output_type": "execute_result"
    }
   ],
   "source": [
    "# Menerapkan fungsi cut untuk binning data\n",
    "\n",
    "df['avg_glucose_level_Bins'] = pd.cut(df['avg_glucose_level'], binS, labels=kategori, include_lowest=True)\n",
    "df[['id','avg_glucose_level', 'avg_glucose_level_Bins']].head(10)"
   ]
  },
  {
   "cell_type": "code",
   "execution_count": 37,
   "metadata": {},
   "outputs": [
    {
     "data": {
      "text/plain": [
       "Low       2587\n",
       "Medium    1524\n",
       "High       282\n",
       "Name: avg_glucose_level_Bins, dtype: int64"
      ]
     },
     "execution_count": 37,
     "metadata": {},
     "output_type": "execute_result"
    }
   ],
   "source": [
    "df['avg_glucose_level_Bins'].value_counts().head()"
   ]
  },
  {
   "cell_type": "markdown",
   "metadata": {},
   "source": [
    "__Kolom bmi__"
   ]
  },
  {
   "cell_type": "code",
   "execution_count": 38,
   "metadata": {},
   "outputs": [
    {
     "data": {
      "text/html": [
       "<div>\n",
       "<style scoped>\n",
       "    .dataframe tbody tr th:only-of-type {\n",
       "        vertical-align: middle;\n",
       "    }\n",
       "\n",
       "    .dataframe tbody tr th {\n",
       "        vertical-align: top;\n",
       "    }\n",
       "\n",
       "    .dataframe thead th {\n",
       "        text-align: right;\n",
       "    }\n",
       "</style>\n",
       "<table border=\"1\" class=\"dataframe\">\n",
       "  <thead>\n",
       "    <tr style=\"text-align: right;\">\n",
       "      <th></th>\n",
       "      <th>id</th>\n",
       "      <th>bmi</th>\n",
       "      <th>bmi_Bins</th>\n",
       "    </tr>\n",
       "  </thead>\n",
       "  <tbody>\n",
       "    <tr>\n",
       "      <th>0</th>\n",
       "      <td>31112</td>\n",
       "      <td>32.5</td>\n",
       "      <td>Gemuk</td>\n",
       "    </tr>\n",
       "    <tr>\n",
       "      <th>1</th>\n",
       "      <td>53882</td>\n",
       "      <td>27.4</td>\n",
       "      <td>Gemuk</td>\n",
       "    </tr>\n",
       "    <tr>\n",
       "      <th>2</th>\n",
       "      <td>10434</td>\n",
       "      <td>22.8</td>\n",
       "      <td>Normal</td>\n",
       "    </tr>\n",
       "    <tr>\n",
       "      <th>3</th>\n",
       "      <td>27419</td>\n",
       "      <td>27.4</td>\n",
       "      <td>Gemuk</td>\n",
       "    </tr>\n",
       "    <tr>\n",
       "      <th>4</th>\n",
       "      <td>60491</td>\n",
       "      <td>24.2</td>\n",
       "      <td>Normal</td>\n",
       "    </tr>\n",
       "  </tbody>\n",
       "</table>\n",
       "</div>"
      ],
      "text/plain": [
       "      id   bmi bmi_Bins\n",
       "0  31112  32.5    Gemuk\n",
       "1  53882  27.4    Gemuk\n",
       "2  10434  22.8   Normal\n",
       "3  27419  27.4    Gemuk\n",
       "4  60491  24.2   Normal"
      ]
     },
     "execution_count": 38,
     "metadata": {},
     "output_type": "execute_result"
    }
   ],
   "source": [
    "# Menentukan batas bins dengan cut()\n",
    "batas_bin = [17, 18.5, 27.0, 40]\n",
    "\n",
    "# Menentukan kategori\n",
    "kategori = ['Kurus', 'Normal', 'Gemuk']\n",
    "\n",
    "# Binning data dengan cut()\n",
    "df['bmi_Bins'] = pd.cut(df['bmi'], bins=batas_bin, labels=kategori)\n",
    "df[['id','bmi', 'bmi_Bins']].head()"
   ]
  },
  {
   "cell_type": "code",
   "execution_count": 39,
   "metadata": {},
   "outputs": [
    {
     "data": {
      "text/plain": [
       "Gemuk     2141\n",
       "Normal    1695\n",
       "Kurus      171\n",
       "Name: bmi_Bins, dtype: int64"
      ]
     },
     "execution_count": 39,
     "metadata": {},
     "output_type": "execute_result"
    }
   ],
   "source": [
    "# Melihat modus pada kolom bmi_Bins\n",
    "df['bmi_Bins'].value_counts().head()"
   ]
  },
  {
   "cell_type": "code",
   "execution_count": 40,
   "metadata": {},
   "outputs": [
    {
     "data": {
      "text/plain": [
       "id                          0\n",
       "gender                      0\n",
       "age                         0\n",
       "hypertension                0\n",
       "heart_disease               0\n",
       "ever_married                0\n",
       "work_type                   0\n",
       "Residence_type              0\n",
       "avg_glucose_level           0\n",
       "bmi                         0\n",
       "smoking_status              0\n",
       "stroke                      0\n",
       "avg_glucose_level_Bins      0\n",
       "bmi_Bins                  386\n",
       "dtype: int64"
      ]
     },
     "execution_count": 40,
     "metadata": {},
     "output_type": "execute_result"
    }
   ],
   "source": [
    "df.isnull().sum()"
   ]
  },
  {
   "cell_type": "code",
   "execution_count": 41,
   "metadata": {},
   "outputs": [],
   "source": [
    "df['bmi_Bins'].fillna('Gemuk', inplace=True)"
   ]
  },
  {
   "cell_type": "code",
   "execution_count": 42,
   "metadata": {},
   "outputs": [
    {
     "data": {
      "text/plain": [
       "False"
      ]
     },
     "execution_count": 42,
     "metadata": {},
     "output_type": "execute_result"
    }
   ],
   "source": [
    "df.isnull().values.any()"
   ]
  },
  {
   "cell_type": "markdown",
   "metadata": {},
   "source": [
    "__Kolom Age__"
   ]
  },
  {
   "cell_type": "code",
   "execution_count": 43,
   "metadata": {},
   "outputs": [
    {
     "data": {
      "text/html": [
       "<div>\n",
       "<style scoped>\n",
       "    .dataframe tbody tr th:only-of-type {\n",
       "        vertical-align: middle;\n",
       "    }\n",
       "\n",
       "    .dataframe tbody tr th {\n",
       "        vertical-align: top;\n",
       "    }\n",
       "\n",
       "    .dataframe thead th {\n",
       "        text-align: right;\n",
       "    }\n",
       "</style>\n",
       "<table border=\"1\" class=\"dataframe\">\n",
       "  <thead>\n",
       "    <tr style=\"text-align: right;\">\n",
       "      <th></th>\n",
       "      <th>id</th>\n",
       "      <th>age</th>\n",
       "      <th>age_Bins</th>\n",
       "    </tr>\n",
       "  </thead>\n",
       "  <tbody>\n",
       "    <tr>\n",
       "      <th>0</th>\n",
       "      <td>31112</td>\n",
       "      <td>80</td>\n",
       "      <td>Lanjut Usia</td>\n",
       "    </tr>\n",
       "    <tr>\n",
       "      <th>1</th>\n",
       "      <td>53882</td>\n",
       "      <td>74</td>\n",
       "      <td>Pertengahan</td>\n",
       "    </tr>\n",
       "    <tr>\n",
       "      <th>2</th>\n",
       "      <td>10434</td>\n",
       "      <td>69</td>\n",
       "      <td>Pertengahan</td>\n",
       "    </tr>\n",
       "    <tr>\n",
       "      <th>3</th>\n",
       "      <td>27419</td>\n",
       "      <td>59</td>\n",
       "      <td>Dewasa</td>\n",
       "    </tr>\n",
       "    <tr>\n",
       "      <th>4</th>\n",
       "      <td>60491</td>\n",
       "      <td>78</td>\n",
       "      <td>Lanjut Usia</td>\n",
       "    </tr>\n",
       "  </tbody>\n",
       "</table>\n",
       "</div>"
      ],
      "text/plain": [
       "      id  age     age_Bins\n",
       "0  31112   80  Lanjut Usia\n",
       "1  53882   74  Pertengahan\n",
       "2  10434   69  Pertengahan\n",
       "3  27419   59       Dewasa\n",
       "4  60491   78  Lanjut Usia"
      ]
     },
     "execution_count": 43,
     "metadata": {},
     "output_type": "execute_result"
    }
   ],
   "source": [
    "# Mengkategorikan kolom age arar mudah dipahami\n",
    "# membuat batas bins dengan cut()\n",
    "batas_bins2 = [5, 17, 45, 59, 75, 90]\n",
    "\n",
    "# Menentukan kategori\n",
    "kategori2 = ['Anak-Anak', 'Remaja', 'Dewasa','Pertengahan','Lanjut Usia']\n",
    "\n",
    "# Binning data dengan cut()\n",
    "df['age_Bins'] = pd.cut(df['age'], bins=batas_bins2, labels=kategori2)\n",
    "df[['id','age','age_Bins']].head()"
   ]
  },
  {
   "cell_type": "code",
   "execution_count": 44,
   "metadata": {},
   "outputs": [
    {
     "data": {
      "text/plain": [
       "id                          0\n",
       "gender                      0\n",
       "age                         0\n",
       "hypertension                0\n",
       "heart_disease               0\n",
       "ever_married                0\n",
       "work_type                   0\n",
       "Residence_type              0\n",
       "avg_glucose_level           0\n",
       "bmi                         0\n",
       "smoking_status              0\n",
       "stroke                      0\n",
       "avg_glucose_level_Bins      0\n",
       "bmi_Bins                    0\n",
       "age_Bins                  316\n",
       "dtype: int64"
      ]
     },
     "execution_count": 44,
     "metadata": {},
     "output_type": "execute_result"
    }
   ],
   "source": [
    "df.isnull().sum()"
   ]
  },
  {
   "cell_type": "code",
   "execution_count": 45,
   "metadata": {},
   "outputs": [
    {
     "data": {
      "text/plain": [
       "Remaja         1625\n",
       "Dewasa          911\n",
       "Pertengahan     675\n",
       "Anak-Anak       520\n",
       "Lanjut Usia     346\n",
       "Name: age_Bins, dtype: int64"
      ]
     },
     "execution_count": 45,
     "metadata": {},
     "output_type": "execute_result"
    }
   ],
   "source": [
    "df['age_Bins'].value_counts().head()"
   ]
  },
  {
   "cell_type": "code",
   "execution_count": 46,
   "metadata": {},
   "outputs": [],
   "source": [
    "df['age_Bins'].fillna('Remaja', inplace=True)"
   ]
  },
  {
   "cell_type": "code",
   "execution_count": 47,
   "metadata": {},
   "outputs": [
    {
     "data": {
      "text/plain": [
       "False"
      ]
     },
     "execution_count": 47,
     "metadata": {},
     "output_type": "execute_result"
    }
   ],
   "source": [
    "df.isnull().values.any()"
   ]
  },
  {
   "cell_type": "code",
   "execution_count": 48,
   "metadata": {},
   "outputs": [
    {
     "name": "stdout",
     "output_type": "stream",
     "text": [
      "<class 'pandas.core.frame.DataFrame'>\n",
      "RangeIndex: 4393 entries, 0 to 4392\n",
      "Data columns (total 15 columns):\n",
      " #   Column                  Non-Null Count  Dtype   \n",
      "---  ------                  --------------  -----   \n",
      " 0   id                      4393 non-null   int64   \n",
      " 1   gender                  4393 non-null   object  \n",
      " 2   age                     4393 non-null   int64   \n",
      " 3   hypertension            4393 non-null   int64   \n",
      " 4   heart_disease           4393 non-null   int64   \n",
      " 5   ever_married            4393 non-null   object  \n",
      " 6   work_type               4393 non-null   object  \n",
      " 7   Residence_type          4393 non-null   object  \n",
      " 8   avg_glucose_level       4393 non-null   float64 \n",
      " 9   bmi                     4393 non-null   float64 \n",
      " 10  smoking_status          4393 non-null   object  \n",
      " 11  stroke                  4393 non-null   int64   \n",
      " 12  avg_glucose_level_Bins  4393 non-null   category\n",
      " 13  bmi_Bins                4393 non-null   category\n",
      " 14  age_Bins                4393 non-null   category\n",
      "dtypes: category(3), float64(2), int64(5), object(5)\n",
      "memory usage: 425.2+ KB\n"
     ]
    }
   ],
   "source": [
    "df.info()"
   ]
  },
  {
   "cell_type": "markdown",
   "metadata": {},
   "source": [
    "- __Insight:__\n",
    "- Dilakukan Feature Engineering dengan menambah tiga kolom baru yaitu, <code>avg_glucose_level_Bins, bmi_Bins, age_Bins</code>"
   ]
  },
  {
   "cell_type": "markdown",
   "metadata": {},
   "source": [
    "# Exploratory Data Analysist"
   ]
  },
  {
   "cell_type": "markdown",
   "metadata": {},
   "source": [
    "Memprediksi kemungkinan seseorang terkena stroke yang disebabkan oleh parameter sebagai berikut:\n",
    "    - Jenis kelamin\n",
    "    - Usia\n",
    "    - Faktor penyakit lain\n",
    "    - status merokok"
   ]
  },
  {
   "cell_type": "markdown",
   "metadata": {},
   "source": [
    "# Analysist of Dataset"
   ]
  },
  {
   "cell_type": "code",
   "execution_count": 49,
   "metadata": {},
   "outputs": [
    {
     "data": {
      "text/html": [
       "<div>\n",
       "<style scoped>\n",
       "    .dataframe tbody tr th:only-of-type {\n",
       "        vertical-align: middle;\n",
       "    }\n",
       "\n",
       "    .dataframe tbody tr th {\n",
       "        vertical-align: top;\n",
       "    }\n",
       "\n",
       "    .dataframe thead th {\n",
       "        text-align: right;\n",
       "    }\n",
       "</style>\n",
       "<table border=\"1\" class=\"dataframe\">\n",
       "  <thead>\n",
       "    <tr style=\"text-align: right;\">\n",
       "      <th></th>\n",
       "      <th>id</th>\n",
       "      <th>gender</th>\n",
       "      <th>age</th>\n",
       "      <th>hypertension</th>\n",
       "      <th>heart_disease</th>\n",
       "      <th>ever_married</th>\n",
       "      <th>work_type</th>\n",
       "      <th>Residence_type</th>\n",
       "      <th>avg_glucose_level</th>\n",
       "      <th>bmi</th>\n",
       "      <th>smoking_status</th>\n",
       "      <th>stroke</th>\n",
       "      <th>avg_glucose_level_Bins</th>\n",
       "      <th>bmi_Bins</th>\n",
       "      <th>age_Bins</th>\n",
       "    </tr>\n",
       "  </thead>\n",
       "  <tbody>\n",
       "    <tr>\n",
       "      <th>0</th>\n",
       "      <td>31112</td>\n",
       "      <td>Male</td>\n",
       "      <td>80</td>\n",
       "      <td>0</td>\n",
       "      <td>1</td>\n",
       "      <td>Yes</td>\n",
       "      <td>Private</td>\n",
       "      <td>Rural</td>\n",
       "      <td>105.92</td>\n",
       "      <td>32.5</td>\n",
       "      <td>never smoked</td>\n",
       "      <td>1</td>\n",
       "      <td>Medium</td>\n",
       "      <td>Gemuk</td>\n",
       "      <td>Lanjut Usia</td>\n",
       "    </tr>\n",
       "    <tr>\n",
       "      <th>1</th>\n",
       "      <td>53882</td>\n",
       "      <td>Male</td>\n",
       "      <td>74</td>\n",
       "      <td>1</td>\n",
       "      <td>1</td>\n",
       "      <td>Yes</td>\n",
       "      <td>Private</td>\n",
       "      <td>Rural</td>\n",
       "      <td>70.09</td>\n",
       "      <td>27.4</td>\n",
       "      <td>never smoked</td>\n",
       "      <td>1</td>\n",
       "      <td>Low</td>\n",
       "      <td>Gemuk</td>\n",
       "      <td>Pertengahan</td>\n",
       "    </tr>\n",
       "    <tr>\n",
       "      <th>2</th>\n",
       "      <td>10434</td>\n",
       "      <td>Female</td>\n",
       "      <td>69</td>\n",
       "      <td>0</td>\n",
       "      <td>0</td>\n",
       "      <td>No</td>\n",
       "      <td>Private</td>\n",
       "      <td>Urban</td>\n",
       "      <td>94.39</td>\n",
       "      <td>22.8</td>\n",
       "      <td>never smoked</td>\n",
       "      <td>1</td>\n",
       "      <td>Medium</td>\n",
       "      <td>Normal</td>\n",
       "      <td>Pertengahan</td>\n",
       "    </tr>\n",
       "    <tr>\n",
       "      <th>3</th>\n",
       "      <td>27419</td>\n",
       "      <td>Female</td>\n",
       "      <td>59</td>\n",
       "      <td>0</td>\n",
       "      <td>0</td>\n",
       "      <td>Yes</td>\n",
       "      <td>Private</td>\n",
       "      <td>Rural</td>\n",
       "      <td>76.15</td>\n",
       "      <td>27.4</td>\n",
       "      <td>Unknown</td>\n",
       "      <td>1</td>\n",
       "      <td>Low</td>\n",
       "      <td>Gemuk</td>\n",
       "      <td>Dewasa</td>\n",
       "    </tr>\n",
       "    <tr>\n",
       "      <th>4</th>\n",
       "      <td>60491</td>\n",
       "      <td>Female</td>\n",
       "      <td>78</td>\n",
       "      <td>0</td>\n",
       "      <td>0</td>\n",
       "      <td>Yes</td>\n",
       "      <td>Private</td>\n",
       "      <td>Urban</td>\n",
       "      <td>58.57</td>\n",
       "      <td>24.2</td>\n",
       "      <td>Unknown</td>\n",
       "      <td>1</td>\n",
       "      <td>Low</td>\n",
       "      <td>Normal</td>\n",
       "      <td>Lanjut Usia</td>\n",
       "    </tr>\n",
       "  </tbody>\n",
       "</table>\n",
       "</div>"
      ],
      "text/plain": [
       "      id  gender  age  hypertension  heart_disease ever_married work_type  \\\n",
       "0  31112    Male   80             0              1          Yes   Private   \n",
       "1  53882    Male   74             1              1          Yes   Private   \n",
       "2  10434  Female   69             0              0           No   Private   \n",
       "3  27419  Female   59             0              0          Yes   Private   \n",
       "4  60491  Female   78             0              0          Yes   Private   \n",
       "\n",
       "  Residence_type  avg_glucose_level   bmi smoking_status  stroke  \\\n",
       "0          Rural             105.92  32.5   never smoked       1   \n",
       "1          Rural              70.09  27.4   never smoked       1   \n",
       "2          Urban              94.39  22.8   never smoked       1   \n",
       "3          Rural              76.15  27.4        Unknown       1   \n",
       "4          Urban              58.57  24.2        Unknown       1   \n",
       "\n",
       "  avg_glucose_level_Bins bmi_Bins     age_Bins  \n",
       "0                 Medium    Gemuk  Lanjut Usia  \n",
       "1                    Low    Gemuk  Pertengahan  \n",
       "2                 Medium   Normal  Pertengahan  \n",
       "3                    Low    Gemuk       Dewasa  \n",
       "4                    Low   Normal  Lanjut Usia  "
      ]
     },
     "execution_count": 49,
     "metadata": {},
     "output_type": "execute_result"
    }
   ],
   "source": [
    "df.head()"
   ]
  },
  {
   "cell_type": "code",
   "execution_count": 50,
   "metadata": {},
   "outputs": [
    {
     "name": "stdout",
     "output_type": "stream",
     "text": [
      "<class 'pandas.core.frame.DataFrame'>\n",
      "RangeIndex: 4393 entries, 0 to 4392\n",
      "Data columns (total 15 columns):\n",
      " #   Column                  Non-Null Count  Dtype   \n",
      "---  ------                  --------------  -----   \n",
      " 0   id                      4393 non-null   int64   \n",
      " 1   gender                  4393 non-null   object  \n",
      " 2   age                     4393 non-null   int64   \n",
      " 3   hypertension            4393 non-null   int64   \n",
      " 4   heart_disease           4393 non-null   int64   \n",
      " 5   ever_married            4393 non-null   object  \n",
      " 6   work_type               4393 non-null   object  \n",
      " 7   Residence_type          4393 non-null   object  \n",
      " 8   avg_glucose_level       4393 non-null   float64 \n",
      " 9   bmi                     4393 non-null   float64 \n",
      " 10  smoking_status          4393 non-null   object  \n",
      " 11  stroke                  4393 non-null   int64   \n",
      " 12  avg_glucose_level_Bins  4393 non-null   category\n",
      " 13  bmi_Bins                4393 non-null   category\n",
      " 14  age_Bins                4393 non-null   category\n",
      "dtypes: category(3), float64(2), int64(5), object(5)\n",
      "memory usage: 425.2+ KB\n"
     ]
    }
   ],
   "source": [
    "df.info()"
   ]
  },
  {
   "cell_type": "code",
   "execution_count": 51,
   "metadata": {},
   "outputs": [
    {
     "data": {
      "text/html": [
       "<div>\n",
       "<style scoped>\n",
       "    .dataframe tbody tr th:only-of-type {\n",
       "        vertical-align: middle;\n",
       "    }\n",
       "\n",
       "    .dataframe tbody tr th {\n",
       "        vertical-align: top;\n",
       "    }\n",
       "\n",
       "    .dataframe thead th {\n",
       "        text-align: right;\n",
       "    }\n",
       "</style>\n",
       "<table border=\"1\" class=\"dataframe\">\n",
       "  <thead>\n",
       "    <tr style=\"text-align: right;\">\n",
       "      <th></th>\n",
       "      <th>age</th>\n",
       "      <th>hypertension</th>\n",
       "      <th>heart_disease</th>\n",
       "      <th>bmi</th>\n",
       "      <th>avg_glucose_level</th>\n",
       "      <th>stroke</th>\n",
       "    </tr>\n",
       "  </thead>\n",
       "  <tbody>\n",
       "    <tr>\n",
       "      <th>0</th>\n",
       "      <td>80</td>\n",
       "      <td>0</td>\n",
       "      <td>1</td>\n",
       "      <td>32.5</td>\n",
       "      <td>105.92</td>\n",
       "      <td>1</td>\n",
       "    </tr>\n",
       "    <tr>\n",
       "      <th>1</th>\n",
       "      <td>74</td>\n",
       "      <td>1</td>\n",
       "      <td>1</td>\n",
       "      <td>27.4</td>\n",
       "      <td>70.09</td>\n",
       "      <td>1</td>\n",
       "    </tr>\n",
       "    <tr>\n",
       "      <th>2</th>\n",
       "      <td>69</td>\n",
       "      <td>0</td>\n",
       "      <td>0</td>\n",
       "      <td>22.8</td>\n",
       "      <td>94.39</td>\n",
       "      <td>1</td>\n",
       "    </tr>\n",
       "    <tr>\n",
       "      <th>3</th>\n",
       "      <td>59</td>\n",
       "      <td>0</td>\n",
       "      <td>0</td>\n",
       "      <td>27.4</td>\n",
       "      <td>76.15</td>\n",
       "      <td>1</td>\n",
       "    </tr>\n",
       "    <tr>\n",
       "      <th>4</th>\n",
       "      <td>78</td>\n",
       "      <td>0</td>\n",
       "      <td>0</td>\n",
       "      <td>24.2</td>\n",
       "      <td>58.57</td>\n",
       "      <td>1</td>\n",
       "    </tr>\n",
       "    <tr>\n",
       "      <th>...</th>\n",
       "      <td>...</td>\n",
       "      <td>...</td>\n",
       "      <td>...</td>\n",
       "      <td>...</td>\n",
       "      <td>...</td>\n",
       "      <td>...</td>\n",
       "    </tr>\n",
       "    <tr>\n",
       "      <th>4388</th>\n",
       "      <td>80</td>\n",
       "      <td>1</td>\n",
       "      <td>0</td>\n",
       "      <td>27.4</td>\n",
       "      <td>83.75</td>\n",
       "      <td>0</td>\n",
       "    </tr>\n",
       "    <tr>\n",
       "      <th>4389</th>\n",
       "      <td>81</td>\n",
       "      <td>0</td>\n",
       "      <td>0</td>\n",
       "      <td>40.0</td>\n",
       "      <td>125.20</td>\n",
       "      <td>0</td>\n",
       "    </tr>\n",
       "    <tr>\n",
       "      <th>4390</th>\n",
       "      <td>35</td>\n",
       "      <td>0</td>\n",
       "      <td>0</td>\n",
       "      <td>30.6</td>\n",
       "      <td>82.99</td>\n",
       "      <td>0</td>\n",
       "    </tr>\n",
       "    <tr>\n",
       "      <th>4391</th>\n",
       "      <td>51</td>\n",
       "      <td>0</td>\n",
       "      <td>0</td>\n",
       "      <td>25.6</td>\n",
       "      <td>166.29</td>\n",
       "      <td>0</td>\n",
       "    </tr>\n",
       "    <tr>\n",
       "      <th>4392</th>\n",
       "      <td>44</td>\n",
       "      <td>0</td>\n",
       "      <td>0</td>\n",
       "      <td>26.2</td>\n",
       "      <td>85.28</td>\n",
       "      <td>0</td>\n",
       "    </tr>\n",
       "  </tbody>\n",
       "</table>\n",
       "<p>4393 rows × 6 columns</p>\n",
       "</div>"
      ],
      "text/plain": [
       "      age  hypertension  heart_disease   bmi  avg_glucose_level  stroke\n",
       "0      80             0              1  32.5             105.92       1\n",
       "1      74             1              1  27.4              70.09       1\n",
       "2      69             0              0  22.8              94.39       1\n",
       "3      59             0              0  27.4              76.15       1\n",
       "4      78             0              0  24.2              58.57       1\n",
       "...   ...           ...            ...   ...                ...     ...\n",
       "4388   80             1              0  27.4              83.75       0\n",
       "4389   81             0              0  40.0             125.20       0\n",
       "4390   35             0              0  30.6              82.99       0\n",
       "4391   51             0              0  25.6             166.29       0\n",
       "4392   44             0              0  26.2              85.28       0\n",
       "\n",
       "[4393 rows x 6 columns]"
      ]
     },
     "execution_count": 51,
     "metadata": {},
     "output_type": "execute_result"
    }
   ],
   "source": [
    "Df = df[['age','hypertension','heart_disease','bmi','avg_glucose_level','stroke']]\n",
    "Df"
   ]
  },
  {
   "cell_type": "code",
   "execution_count": 52,
   "metadata": {},
   "outputs": [
    {
     "data": {
      "image/png": "[encoded data removed]",
      "text/plain": [
       "<Figure size 1008x576 with 2 Axes>"
      ]
     },
     "metadata": {
      "needs_background": "light"
     },
     "output_type": "display_data"
    }
   ],
   "source": [
    "# Heatmap\n",
    "# Melihat korelasi antarkolom dengan heatmap\n",
    "\n",
    "plt.figure(figsize=(14,8))    # Mengatur ukuran figure\n",
    "\n",
    "# Membuat heatmap untuk melihat korelasi kolom numerik\n",
    "sns.heatmap(Df.corr(), annot=True, fmt='.2f', cmap=\"YlGnBu\")\n",
    "\n",
    "plt.title('Correlation Between Variables\\n', size=18)\n",
    "plt.xticks(size=14)\n",
    "plt.yticks(size=14)\n",
    "plt.savefig('Correlation Between Variables.jpg', format='jpg', bbox_inches='tight')\n",
    "plt.show()"
   ]
  },
  {
   "cell_type": "markdown",
   "metadata": {},
   "source": [
    "- __Insight:__\n",
    "- Fitur <code>age</code> memiliki korelasi tertinggi dengan kolom target <code>stroke</code>"
   ]
  },
  {
   "cell_type": "markdown",
   "metadata": {},
   "source": [
    "# Analysist Stroke by Other Diseases"
   ]
  },
  {
   "cell_type": "code",
   "execution_count": 53,
   "metadata": {},
   "outputs": [
    {
     "name": "stderr",
     "output_type": "stream",
     "text": [
      "<ipython-input-53-c0bc7c3e7796>:1: FutureWarning: Indexing with multiple keys (implicitly converted to a tuple of keys) will be deprecated, use a list instead.\n",
      "  dg_penyakit_lain = df.groupby('stroke')['hypertension','heart_disease'].agg('sum')\n"
     ]
    },
    {
     "data": {
      "text/html": [
       "<div>\n",
       "<style scoped>\n",
       "    .dataframe tbody tr th:only-of-type {\n",
       "        vertical-align: middle;\n",
       "    }\n",
       "\n",
       "    .dataframe tbody tr th {\n",
       "        vertical-align: top;\n",
       "    }\n",
       "\n",
       "    .dataframe thead th {\n",
       "        text-align: right;\n",
       "    }\n",
       "</style>\n",
       "<table border=\"1\" class=\"dataframe\">\n",
       "  <thead>\n",
       "    <tr style=\"text-align: right;\">\n",
       "      <th></th>\n",
       "      <th>hypertension</th>\n",
       "      <th>heart_disease</th>\n",
       "    </tr>\n",
       "    <tr>\n",
       "      <th>stroke</th>\n",
       "      <th></th>\n",
       "      <th></th>\n",
       "    </tr>\n",
       "  </thead>\n",
       "  <tbody>\n",
       "    <tr>\n",
       "      <th>0</th>\n",
       "      <td>289</td>\n",
       "      <td>151</td>\n",
       "    </tr>\n",
       "    <tr>\n",
       "      <th>1</th>\n",
       "      <td>37</td>\n",
       "      <td>21</td>\n",
       "    </tr>\n",
       "  </tbody>\n",
       "</table>\n",
       "</div>"
      ],
      "text/plain": [
       "        hypertension  heart_disease\n",
       "stroke                             \n",
       "0                289            151\n",
       "1                 37             21"
      ]
     },
     "execution_count": 53,
     "metadata": {},
     "output_type": "execute_result"
    }
   ],
   "source": [
    "dg_penyakit_lain = df.groupby('stroke')['hypertension','heart_disease'].agg('sum')\n",
    "dg_penyakit_lain"
   ]
  },
  {
   "cell_type": "code",
   "execution_count": 54,
   "metadata": {},
   "outputs": [
    {
     "data": {
      "text/html": [
       "<div>\n",
       "<style scoped>\n",
       "    .dataframe tbody tr th:only-of-type {\n",
       "        vertical-align: middle;\n",
       "    }\n",
       "\n",
       "    .dataframe tbody tr th {\n",
       "        vertical-align: top;\n",
       "    }\n",
       "\n",
       "    .dataframe thead th {\n",
       "        text-align: right;\n",
       "    }\n",
       "</style>\n",
       "<table border=\"1\" class=\"dataframe\">\n",
       "  <thead>\n",
       "    <tr style=\"text-align: right;\">\n",
       "      <th>stroke</th>\n",
       "      <th>0</th>\n",
       "      <th>1</th>\n",
       "    </tr>\n",
       "  </thead>\n",
       "  <tbody>\n",
       "    <tr>\n",
       "      <th>hypertension</th>\n",
       "      <td>289</td>\n",
       "      <td>37</td>\n",
       "    </tr>\n",
       "    <tr>\n",
       "      <th>heart_disease</th>\n",
       "      <td>151</td>\n",
       "      <td>21</td>\n",
       "    </tr>\n",
       "  </tbody>\n",
       "</table>\n",
       "</div>"
      ],
      "text/plain": [
       "stroke           0   1\n",
       "hypertension   289  37\n",
       "heart_disease  151  21"
      ]
     },
     "execution_count": 54,
     "metadata": {},
     "output_type": "execute_result"
    }
   ],
   "source": [
    "dg_penyakit_lain.T"
   ]
  },
  {
   "cell_type": "code",
   "execution_count": 55,
   "metadata": {},
   "outputs": [
    {
     "data": {
      "text/html": [
       "<div>\n",
       "<style scoped>\n",
       "    .dataframe tbody tr th:only-of-type {\n",
       "        vertical-align: middle;\n",
       "    }\n",
       "\n",
       "    .dataframe tbody tr th {\n",
       "        vertical-align: top;\n",
       "    }\n",
       "\n",
       "    .dataframe thead th {\n",
       "        text-align: right;\n",
       "    }\n",
       "</style>\n",
       "<table border=\"1\" class=\"dataframe\">\n",
       "  <thead>\n",
       "    <tr style=\"text-align: right;\">\n",
       "      <th>stroke</th>\n",
       "      <th>total</th>\n",
       "    </tr>\n",
       "  </thead>\n",
       "  <tbody>\n",
       "    <tr>\n",
       "      <th>hypertension</th>\n",
       "      <td>289</td>\n",
       "    </tr>\n",
       "    <tr>\n",
       "      <th>heart_disease</th>\n",
       "      <td>151</td>\n",
       "    </tr>\n",
       "  </tbody>\n",
       "</table>\n",
       "</div>"
      ],
      "text/plain": [
       "stroke         total\n",
       "hypertension     289\n",
       "heart_disease    151"
      ]
     },
     "execution_count": 55,
     "metadata": {},
     "output_type": "execute_result"
    }
   ],
   "source": [
    "# jumlah seseorang yang tidak mengidap stroke\n",
    "tS= dg_penyakit_lain.iloc[:1]\n",
    "dtS= tS.T\n",
    "dtS = dtS.rename(columns={0:'total'})\n",
    "dtS"
   ]
  },
  {
   "cell_type": "code",
   "execution_count": 56,
   "metadata": {},
   "outputs": [
    {
     "data": {
      "text/html": [
       "<div>\n",
       "<style scoped>\n",
       "    .dataframe tbody tr th:only-of-type {\n",
       "        vertical-align: middle;\n",
       "    }\n",
       "\n",
       "    .dataframe tbody tr th {\n",
       "        vertical-align: top;\n",
       "    }\n",
       "\n",
       "    .dataframe thead th {\n",
       "        text-align: right;\n",
       "    }\n",
       "</style>\n",
       "<table border=\"1\" class=\"dataframe\">\n",
       "  <thead>\n",
       "    <tr style=\"text-align: right;\">\n",
       "      <th>stroke</th>\n",
       "      <th>index</th>\n",
       "      <th>total</th>\n",
       "    </tr>\n",
       "  </thead>\n",
       "  <tbody>\n",
       "    <tr>\n",
       "      <th>0</th>\n",
       "      <td>hypertension</td>\n",
       "      <td>37</td>\n",
       "    </tr>\n",
       "    <tr>\n",
       "      <th>1</th>\n",
       "      <td>heart_disease</td>\n",
       "      <td>21</td>\n",
       "    </tr>\n",
       "  </tbody>\n",
       "</table>\n",
       "</div>"
      ],
      "text/plain": [
       "stroke          index  total\n",
       "0        hypertension     37\n",
       "1       heart_disease     21"
      ]
     },
     "execution_count": 56,
     "metadata": {},
     "output_type": "execute_result"
    }
   ],
   "source": [
    "# jumlah seseorang yang terkena stroke\n",
    "St= dg_penyakit_lain.iloc[1:]\n",
    "ds= St.T\n",
    "ds= ds.rename(columns={ 1:'total'})\n",
    "ds= ds.reset_index()\n",
    "ds"
   ]
  },
  {
   "cell_type": "code",
   "execution_count": 57,
   "metadata": {},
   "outputs": [
    {
     "data": {
      "image/png": "[encoded data removed]",
      "text/plain": [
       "<Figure size 1080x432 with 1 Axes>"
      ]
     },
     "metadata": {},
     "output_type": "display_data"
    },
    {
     "data": {
      "text/plain": [
       "<Figure size 432x288 with 0 Axes>"
      ]
     },
     "metadata": {},
     "output_type": "display_data"
    }
   ],
   "source": [
    "# Membuat pie chart Kategori Umur\n",
    "ds['total'].plot(kind='pie',\n",
    "                   figsize=(15, 6),\n",
    "                   autopct='%1.1f%%', # menambahkan persentase\n",
    "                   startangle=90,     # start angle 90° \n",
    "                   shadow=True,        # menambahkan shadow\n",
    "                   labels=None\n",
    "                  )\n",
    "\n",
    "plt.title('Prosentase Kolom Positif Other Diseases dan Terkena Stroke')\n",
    "plt.axis('equal')     # mengatur rasio axis agar sama antara axis x dan y\n",
    "\n",
    "# add legend\n",
    "plt.legend(labels=ds['index'], loc='upper right', fontsize=14)\n",
    "plt.show()\n",
    "plt.savefig('Positif Stroke Other Diseases.jpg', format='jpg', bbox_inches='tight')"
   ]
  },
  {
   "cell_type": "code",
   "execution_count": 58,
   "metadata": {},
   "outputs": [
    {
     "data": {
      "image/png": "[encoded data removed]",
      "text/plain": [
       "<Figure size 720x432 with 1 Axes>"
      ]
     },
     "metadata": {
      "needs_background": "light"
     },
     "output_type": "display_data"
    },
    {
     "data": {
      "text/plain": [
       "<Figure size 432x288 with 0 Axes>"
      ]
     },
     "metadata": {},
     "output_type": "display_data"
    }
   ],
   "source": [
    "# Membuat horizontal bar chart dengan label\n",
    "\n",
    "plt.figure(figsize=(10,6))\n",
    "plot_data = plt.barh(ds['index'], ds['total'], color='steelblue')\n",
    "\n",
    "for index, value in enumerate(ds['total']): \n",
    "    plt.annotate(value, xy=(value+0.1, index), fontsize=12)\n",
    "\n",
    "plt.title('Total Positif Other Diseases yang Terkena Stroke', size=18)\n",
    "plt.xlabel('\\nOther Diseases', size=14)\n",
    "plt.ylabel('Total\\n', size=14)\n",
    "plt.xticks(size=14)\n",
    "plt.yticks(size=12)\n",
    "plt.show()\n",
    "plt.savefig('Total Positif Other Diseases yang Terkena Stroke.jpg', format='jpg')"
   ]
  },
  {
   "cell_type": "markdown",
   "metadata": {},
   "source": [
    "- __Insight:__ \n",
    "- Penyakit lain yang diderita oleh penderita stroke mayoritas adalah <code>hypertension</code>"
   ]
  },
  {
   "cell_type": "markdown",
   "metadata": {},
   "source": [
    "# Analysist age dengan Stroke"
   ]
  },
  {
   "cell_type": "code",
   "execution_count": 59,
   "metadata": {},
   "outputs": [
    {
     "data": {
      "text/plain": [
       "0    80\n",
       "1    74\n",
       "2    69\n",
       "3    59\n",
       "4    78\n",
       "Name: age, dtype: int64"
      ]
     },
     "execution_count": 59,
     "metadata": {},
     "output_type": "execute_result"
    }
   ],
   "source": [
    "# checking kolom age\n",
    "d = df['age']\n",
    "d.head()"
   ]
  },
  {
   "cell_type": "code",
   "execution_count": 60,
   "metadata": {},
   "outputs": [
    {
     "data": {
      "text/plain": [
       "id                           int64\n",
       "gender                      object\n",
       "age                          int64\n",
       "hypertension                 int64\n",
       "heart_disease                int64\n",
       "ever_married                object\n",
       "work_type                   object\n",
       "Residence_type              object\n",
       "avg_glucose_level          float64\n",
       "bmi                        float64\n",
       "smoking_status              object\n",
       "stroke                       int64\n",
       "avg_glucose_level_Bins    category\n",
       "bmi_Bins                  category\n",
       "age_Bins                  category\n",
       "dtype: object"
      ]
     },
     "execution_count": 60,
     "metadata": {},
     "output_type": "execute_result"
    }
   ],
   "source": [
    "df.dtypes"
   ]
  },
  {
   "cell_type": "code",
   "execution_count": 61,
   "metadata": {},
   "outputs": [],
   "source": [
    "# checking data types age\n",
    "df['age']=df['age'].astype('int64')"
   ]
  },
  {
   "cell_type": "code",
   "execution_count": 62,
   "metadata": {},
   "outputs": [
    {
     "data": {
      "text/html": [
       "<div>\n",
       "<style scoped>\n",
       "    .dataframe tbody tr th:only-of-type {\n",
       "        vertical-align: middle;\n",
       "    }\n",
       "\n",
       "    .dataframe tbody tr th {\n",
       "        vertical-align: top;\n",
       "    }\n",
       "\n",
       "    .dataframe thead th {\n",
       "        text-align: right;\n",
       "    }\n",
       "</style>\n",
       "<table border=\"1\" class=\"dataframe\">\n",
       "  <thead>\n",
       "    <tr style=\"text-align: right;\">\n",
       "      <th></th>\n",
       "      <th>age_Bins</th>\n",
       "      <th>stroke</th>\n",
       "    </tr>\n",
       "  </thead>\n",
       "  <tbody>\n",
       "    <tr>\n",
       "      <th>0</th>\n",
       "      <td>Anak-Anak</td>\n",
       "      <td>1</td>\n",
       "    </tr>\n",
       "    <tr>\n",
       "      <th>1</th>\n",
       "      <td>Remaja</td>\n",
       "      <td>11</td>\n",
       "    </tr>\n",
       "    <tr>\n",
       "      <th>2</th>\n",
       "      <td>Dewasa</td>\n",
       "      <td>39</td>\n",
       "    </tr>\n",
       "    <tr>\n",
       "      <th>3</th>\n",
       "      <td>Pertengahan</td>\n",
       "      <td>48</td>\n",
       "    </tr>\n",
       "    <tr>\n",
       "      <th>4</th>\n",
       "      <td>Lanjut Usia</td>\n",
       "      <td>66</td>\n",
       "    </tr>\n",
       "  </tbody>\n",
       "</table>\n",
       "</div>"
      ],
      "text/plain": [
       "      age_Bins  stroke\n",
       "0    Anak-Anak       1\n",
       "1       Remaja      11\n",
       "2       Dewasa      39\n",
       "3  Pertengahan      48\n",
       "4  Lanjut Usia      66"
      ]
     },
     "execution_count": 62,
     "metadata": {},
     "output_type": "execute_result"
    }
   ],
   "source": [
    "# Menghitung penderta stroke berdasarkan kolom age_Bins\n",
    "age_stroke = df.groupby('age_Bins')['stroke'].agg('sum')\n",
    "dfa= pd.DataFrame(age_stroke).reset_index()\n",
    "dfa"
   ]
  },
  {
   "cell_type": "code",
   "execution_count": 63,
   "metadata": {},
   "outputs": [
    {
     "data": {
      "text/html": [
       "<div>\n",
       "<style scoped>\n",
       "    .dataframe tbody tr th:only-of-type {\n",
       "        vertical-align: middle;\n",
       "    }\n",
       "\n",
       "    .dataframe tbody tr th {\n",
       "        vertical-align: top;\n",
       "    }\n",
       "\n",
       "    .dataframe thead th {\n",
       "        text-align: right;\n",
       "    }\n",
       "</style>\n",
       "<table border=\"1\" class=\"dataframe\">\n",
       "  <thead>\n",
       "    <tr style=\"text-align: right;\">\n",
       "      <th></th>\n",
       "      <th>total</th>\n",
       "    </tr>\n",
       "    <tr>\n",
       "      <th>age_Bins</th>\n",
       "      <th></th>\n",
       "    </tr>\n",
       "  </thead>\n",
       "  <tbody>\n",
       "    <tr>\n",
       "      <th>Anak-Anak</th>\n",
       "      <td>520</td>\n",
       "    </tr>\n",
       "    <tr>\n",
       "      <th>Remaja</th>\n",
       "      <td>1941</td>\n",
       "    </tr>\n",
       "    <tr>\n",
       "      <th>Dewasa</th>\n",
       "      <td>911</td>\n",
       "    </tr>\n",
       "    <tr>\n",
       "      <th>Pertengahan</th>\n",
       "      <td>675</td>\n",
       "    </tr>\n",
       "    <tr>\n",
       "      <th>Lanjut Usia</th>\n",
       "      <td>346</td>\n",
       "    </tr>\n",
       "  </tbody>\n",
       "</table>\n",
       "</div>"
      ],
      "text/plain": [
       "             total\n",
       "age_Bins          \n",
       "Anak-Anak      520\n",
       "Remaja        1941\n",
       "Dewasa         911\n",
       "Pertengahan    675\n",
       "Lanjut Usia    346"
      ]
     },
     "execution_count": 63,
     "metadata": {},
     "output_type": "execute_result"
    }
   ],
   "source": [
    "# Jumlah data per-kategori yang telah dibuat\n",
    "age = df.groupby('age_Bins').size()\n",
    "dfa1= pd.DataFrame(age).reset_index()\n",
    "dfa1=dfa1.rename(columns={0: 'total'})\n",
    "dfa1.set_index('age_Bins', inplace=True)\n",
    "dfa1"
   ]
  },
  {
   "cell_type": "code",
   "execution_count": 64,
   "metadata": {},
   "outputs": [
    {
     "data": {
      "image/png": "[encoded data removed]",
      "text/plain": [
       "<Figure size 1080x432 with 1 Axes>"
      ]
     },
     "metadata": {},
     "output_type": "display_data"
    },
    {
     "data": {
      "text/plain": [
       "<Figure size 432x288 with 0 Axes>"
      ]
     },
     "metadata": {},
     "output_type": "display_data"
    }
   ],
   "source": [
    "# Membuat pie chart\n",
    "colors_list = ['pink', 'yellowgreen', 'gold', 'lightskyblue', 'lightcoral']\n",
    "\n",
    "dfa['stroke'].plot(kind='pie',\n",
    "                   figsize=(15, 6),\n",
    "                   autopct='%1.1f%%', # menambahkan persentase\n",
    "                   startangle=360,     # start angle 90° \n",
    "                   shadow=True, # menambahkan shadow\n",
    "                   labels=None,\n",
    "                   colors=colors_list    # mengatur warna\n",
    "                  )\n",
    "\n",
    "plt.title('Prosentase Positif Stroke Berdasarkan Kolom Umur')\n",
    "plt.axis('equal')     # mengatur rasio axis agar sama antara axis x dan y\n",
    "\n",
    "# add legend\n",
    "plt.legend(labels=dfa1.index, loc='upper right', fontsize=14) \n",
    "plt.show()\n",
    "plt.savefig('Positif Stroke Kolom Umur.jpg', format='jpg', bbox_inches='tight')"
   ]
  },
  {
   "cell_type": "code",
   "execution_count": 65,
   "metadata": {},
   "outputs": [
    {
     "data": {
      "image/png": "[encoded data removed]",
      "text/plain": [
       "<Figure size 720x432 with 1 Axes>"
      ]
     },
     "metadata": {
      "needs_background": "light"
     },
     "output_type": "display_data"
    },
    {
     "data": {
      "text/plain": [
       "<Figure size 432x288 with 0 Axes>"
      ]
     },
     "metadata": {},
     "output_type": "display_data"
    }
   ],
   "source": [
    "# Membuat horizontal bar chart dengan label\n",
    "\n",
    "plt.figure(figsize=(10,6))\n",
    "plot_data = plt.barh(dfa['age_Bins'], dfa['stroke'], color='steelblue')\n",
    "\n",
    "for index, value in enumerate(dfa['stroke']): \n",
    "    plt.annotate(value, xy=(value+0.1, index), fontsize=12)\n",
    "\n",
    "plt.title('Total Kategori Umur yang Terkena Stroke', size=18)\n",
    "plt.xlabel('\\nKategori Umur', size=14)\n",
    "plt.ylabel('Total\\n', size=14)\n",
    "plt.xticks(size=14)\n",
    "plt.yticks(size=12)\n",
    "plt.show()\n",
    "plt.savefig('Total Kategori Umur yang Terkena Stroke.png', format='png')"
   ]
  },
  {
   "cell_type": "markdown",
   "metadata": {},
   "source": [
    "- __Insight dari grafik:__ Penderita stroke terbanyak diderita oleh kategori <code>Lanjut Usia</code> dengan rentang umur 75 tahun keatas"
   ]
  },
  {
   "cell_type": "markdown",
   "metadata": {},
   "source": [
    "# Analysist gender dengan stroke"
   ]
  },
  {
   "cell_type": "code",
   "execution_count": 66,
   "metadata": {},
   "outputs": [
    {
     "data": {
      "text/html": [
       "<div>\n",
       "<style scoped>\n",
       "    .dataframe tbody tr th:only-of-type {\n",
       "        vertical-align: middle;\n",
       "    }\n",
       "\n",
       "    .dataframe tbody tr th {\n",
       "        vertical-align: top;\n",
       "    }\n",
       "\n",
       "    .dataframe thead th {\n",
       "        text-align: right;\n",
       "    }\n",
       "</style>\n",
       "<table border=\"1\" class=\"dataframe\">\n",
       "  <thead>\n",
       "    <tr style=\"text-align: right;\">\n",
       "      <th></th>\n",
       "      <th>gender</th>\n",
       "      <th>stroke</th>\n",
       "    </tr>\n",
       "  </thead>\n",
       "  <tbody>\n",
       "    <tr>\n",
       "      <th>0</th>\n",
       "      <td>Male</td>\n",
       "      <td>1</td>\n",
       "    </tr>\n",
       "    <tr>\n",
       "      <th>1</th>\n",
       "      <td>Male</td>\n",
       "      <td>1</td>\n",
       "    </tr>\n",
       "    <tr>\n",
       "      <th>2</th>\n",
       "      <td>Female</td>\n",
       "      <td>1</td>\n",
       "    </tr>\n",
       "    <tr>\n",
       "      <th>3</th>\n",
       "      <td>Female</td>\n",
       "      <td>1</td>\n",
       "    </tr>\n",
       "    <tr>\n",
       "      <th>4</th>\n",
       "      <td>Female</td>\n",
       "      <td>1</td>\n",
       "    </tr>\n",
       "  </tbody>\n",
       "</table>\n",
       "</div>"
      ],
      "text/plain": [
       "   gender  stroke\n",
       "0    Male       1\n",
       "1    Male       1\n",
       "2  Female       1\n",
       "3  Female       1\n",
       "4  Female       1"
      ]
     },
     "execution_count": 66,
     "metadata": {},
     "output_type": "execute_result"
    }
   ],
   "source": [
    "df[['gender','stroke']].head()"
   ]
  },
  {
   "cell_type": "code",
   "execution_count": 67,
   "metadata": {},
   "outputs": [
    {
     "data": {
      "text/html": [
       "<div>\n",
       "<style scoped>\n",
       "    .dataframe tbody tr th:only-of-type {\n",
       "        vertical-align: middle;\n",
       "    }\n",
       "\n",
       "    .dataframe tbody tr th {\n",
       "        vertical-align: top;\n",
       "    }\n",
       "\n",
       "    .dataframe thead th {\n",
       "        text-align: right;\n",
       "    }\n",
       "</style>\n",
       "<table border=\"1\" class=\"dataframe\">\n",
       "  <thead>\n",
       "    <tr style=\"text-align: right;\">\n",
       "      <th></th>\n",
       "      <th>total</th>\n",
       "    </tr>\n",
       "    <tr>\n",
       "      <th>gender</th>\n",
       "      <th></th>\n",
       "    </tr>\n",
       "  </thead>\n",
       "  <tbody>\n",
       "    <tr>\n",
       "      <th>Female</th>\n",
       "      <td>2592</td>\n",
       "    </tr>\n",
       "    <tr>\n",
       "      <th>Male</th>\n",
       "      <td>1800</td>\n",
       "    </tr>\n",
       "  </tbody>\n",
       "</table>\n",
       "</div>"
      ],
      "text/plain": [
       "        total\n",
       "gender       \n",
       "Female   2592\n",
       "Male     1800"
      ]
     },
     "execution_count": 67,
     "metadata": {},
     "output_type": "execute_result"
    }
   ],
   "source": [
    "# Menghitung jumlah data kolom gender yang telah dikategorikan menjadi Female dan Male\n",
    "df_gender=df.groupby('gender').size()\n",
    "dga = pd.DataFrame(df_gender).reset_index()\n",
    "dga = dga.rename(columns={0:'total'})\n",
    "dga.set_index('gender', inplace=True)\n",
    "dga= dga.iloc[:2]\n",
    "dga"
   ]
  },
  {
   "cell_type": "code",
   "execution_count": 68,
   "metadata": {},
   "outputs": [
    {
     "data": {
      "text/html": [
       "<div>\n",
       "<style scoped>\n",
       "    .dataframe tbody tr th:only-of-type {\n",
       "        vertical-align: middle;\n",
       "    }\n",
       "\n",
       "    .dataframe tbody tr th {\n",
       "        vertical-align: top;\n",
       "    }\n",
       "\n",
       "    .dataframe thead th {\n",
       "        text-align: right;\n",
       "    }\n",
       "</style>\n",
       "<table border=\"1\" class=\"dataframe\">\n",
       "  <thead>\n",
       "    <tr style=\"text-align: right;\">\n",
       "      <th></th>\n",
       "      <th>gender</th>\n",
       "      <th>stroke</th>\n",
       "    </tr>\n",
       "  </thead>\n",
       "  <tbody>\n",
       "    <tr>\n",
       "      <th>0</th>\n",
       "      <td>Female</td>\n",
       "      <td>98</td>\n",
       "    </tr>\n",
       "    <tr>\n",
       "      <th>1</th>\n",
       "      <td>Male</td>\n",
       "      <td>67</td>\n",
       "    </tr>\n",
       "  </tbody>\n",
       "</table>\n",
       "</div>"
      ],
      "text/plain": [
       "   gender  stroke\n",
       "0  Female      98\n",
       "1    Male      67"
      ]
     },
     "execution_count": 68,
     "metadata": {},
     "output_type": "execute_result"
    }
   ],
   "source": [
    "df_gender_stroke = df.groupby('gender')['stroke'].agg('sum')\n",
    "dgaS = pd.DataFrame(df_gender_stroke).reset_index()\n",
    "dgaS= dgaS.iloc[:2]\n",
    "dgaS"
   ]
  },
  {
   "cell_type": "code",
   "execution_count": 69,
   "metadata": {},
   "outputs": [
    {
     "data": {
      "image/png": "[encoded data removed]",
      "text/plain": [
       "<Figure size 1080x432 with 1 Axes>"
      ]
     },
     "metadata": {},
     "output_type": "display_data"
    },
    {
     "data": {
      "text/plain": [
       "<Figure size 432x288 with 0 Axes>"
      ]
     },
     "metadata": {},
     "output_type": "display_data"
    }
   ],
   "source": [
    "# Membuat pie chart Kategori Umur Terkena Stroke\n",
    "\n",
    "dgaS['stroke'].plot(kind='pie',\n",
    "                   figsize=(15, 6),\n",
    "                   autopct='%1.1f%%', # menambahkan persentase\n",
    "                   startangle=90,     # start angle 90° \n",
    "                   shadow=True,        # menambahkan shadow\n",
    "                   labels=None,       # menghilangkan label pada pie chart\n",
    "                   cmap='coolwarm'     # memberikan colors menggunakan method cmap\n",
    "                  )\n",
    "\n",
    "plt.title('Prosentase Kolom Gender Terkena Stroke')\n",
    "plt.axis('equal')     # mengatur rasio axis agar sama antara axis x dan y\n",
    "\n",
    "# add legend\n",
    "plt.legend(labels=dgaS['gender'], loc='upper right', fontsize=14)\n",
    "plt.show()\n",
    "plt.savefig('Positif Stroke Gender.jpg', format='jpg', bbox_inches='tight')"
   ]
  },
  {
   "cell_type": "code",
   "execution_count": 70,
   "metadata": {},
   "outputs": [
    {
     "data": {
      "image/png": "[encoded data removed]",
      "text/plain": [
       "<Figure size 720x432 with 1 Axes>"
      ]
     },
     "metadata": {
      "needs_background": "light"
     },
     "output_type": "display_data"
    },
    {
     "data": {
      "text/plain": [
       "<Figure size 432x288 with 0 Axes>"
      ]
     },
     "metadata": {},
     "output_type": "display_data"
    }
   ],
   "source": [
    "# Membuat horizontal bar chart dengan label\n",
    "\n",
    "plt.figure(figsize=(10,6))\n",
    "plot_data = plt.barh(dgaS['gender'], dgaS['stroke'], color='steelblue')\n",
    "\n",
    "for index, value in enumerate(dgaS['stroke']): \n",
    "    plt.annotate(value, xy=(value+0.1, index), fontsize=12)\n",
    "\n",
    "plt.title('Total Kategori Gender yang Terkena Stroke', size=18)\n",
    "plt.xlabel('\\nTotal', size=14)\n",
    "plt.ylabel('Gender\\n', size=14)\n",
    "plt.xticks(size=14)\n",
    "plt.yticks(size=12)\n",
    "plt.show()\n",
    "plt.savefig('Total Kategori Umur yang Terkena Stroke.png', format='png')"
   ]
  },
  {
   "cell_type": "markdown",
   "metadata": {},
   "source": [
    "- Insight dari grafik: Penderita stroke terbanyak berdasarkan gender adalah kategori <code>Female</code>"
   ]
  },
  {
   "cell_type": "markdown",
   "metadata": {},
   "source": [
    "# Analysist smoking_status with stroke"
   ]
  },
  {
   "cell_type": "code",
   "execution_count": 71,
   "metadata": {},
   "outputs": [
    {
     "data": {
      "text/html": [
       "<div>\n",
       "<style scoped>\n",
       "    .dataframe tbody tr th:only-of-type {\n",
       "        vertical-align: middle;\n",
       "    }\n",
       "\n",
       "    .dataframe tbody tr th {\n",
       "        vertical-align: top;\n",
       "    }\n",
       "\n",
       "    .dataframe thead th {\n",
       "        text-align: right;\n",
       "    }\n",
       "</style>\n",
       "<table border=\"1\" class=\"dataframe\">\n",
       "  <thead>\n",
       "    <tr style=\"text-align: right;\">\n",
       "      <th></th>\n",
       "      <th>id</th>\n",
       "      <th>gender</th>\n",
       "      <th>age</th>\n",
       "      <th>hypertension</th>\n",
       "      <th>heart_disease</th>\n",
       "      <th>ever_married</th>\n",
       "      <th>work_type</th>\n",
       "      <th>Residence_type</th>\n",
       "      <th>avg_glucose_level</th>\n",
       "      <th>bmi</th>\n",
       "      <th>smoking_status</th>\n",
       "      <th>stroke</th>\n",
       "      <th>avg_glucose_level_Bins</th>\n",
       "      <th>bmi_Bins</th>\n",
       "      <th>age_Bins</th>\n",
       "    </tr>\n",
       "  </thead>\n",
       "  <tbody>\n",
       "    <tr>\n",
       "      <th>0</th>\n",
       "      <td>31112</td>\n",
       "      <td>Male</td>\n",
       "      <td>80</td>\n",
       "      <td>0</td>\n",
       "      <td>1</td>\n",
       "      <td>Yes</td>\n",
       "      <td>Private</td>\n",
       "      <td>Rural</td>\n",
       "      <td>105.92</td>\n",
       "      <td>32.5</td>\n",
       "      <td>never smoked</td>\n",
       "      <td>1</td>\n",
       "      <td>Medium</td>\n",
       "      <td>Gemuk</td>\n",
       "      <td>Lanjut Usia</td>\n",
       "    </tr>\n",
       "    <tr>\n",
       "      <th>1</th>\n",
       "      <td>53882</td>\n",
       "      <td>Male</td>\n",
       "      <td>74</td>\n",
       "      <td>1</td>\n",
       "      <td>1</td>\n",
       "      <td>Yes</td>\n",
       "      <td>Private</td>\n",
       "      <td>Rural</td>\n",
       "      <td>70.09</td>\n",
       "      <td>27.4</td>\n",
       "      <td>never smoked</td>\n",
       "      <td>1</td>\n",
       "      <td>Low</td>\n",
       "      <td>Gemuk</td>\n",
       "      <td>Pertengahan</td>\n",
       "    </tr>\n",
       "    <tr>\n",
       "      <th>2</th>\n",
       "      <td>10434</td>\n",
       "      <td>Female</td>\n",
       "      <td>69</td>\n",
       "      <td>0</td>\n",
       "      <td>0</td>\n",
       "      <td>No</td>\n",
       "      <td>Private</td>\n",
       "      <td>Urban</td>\n",
       "      <td>94.39</td>\n",
       "      <td>22.8</td>\n",
       "      <td>never smoked</td>\n",
       "      <td>1</td>\n",
       "      <td>Medium</td>\n",
       "      <td>Normal</td>\n",
       "      <td>Pertengahan</td>\n",
       "    </tr>\n",
       "  </tbody>\n",
       "</table>\n",
       "</div>"
      ],
      "text/plain": [
       "      id  gender  age  hypertension  heart_disease ever_married work_type  \\\n",
       "0  31112    Male   80             0              1          Yes   Private   \n",
       "1  53882    Male   74             1              1          Yes   Private   \n",
       "2  10434  Female   69             0              0           No   Private   \n",
       "\n",
       "  Residence_type  avg_glucose_level   bmi smoking_status  stroke  \\\n",
       "0          Rural             105.92  32.5   never smoked       1   \n",
       "1          Rural              70.09  27.4   never smoked       1   \n",
       "2          Urban              94.39  22.8   never smoked       1   \n",
       "\n",
       "  avg_glucose_level_Bins bmi_Bins     age_Bins  \n",
       "0                 Medium    Gemuk  Lanjut Usia  \n",
       "1                    Low    Gemuk  Pertengahan  \n",
       "2                 Medium   Normal  Pertengahan  "
      ]
     },
     "execution_count": 71,
     "metadata": {},
     "output_type": "execute_result"
    }
   ],
   "source": [
    "df.head(3)"
   ]
  },
  {
   "cell_type": "code",
   "execution_count": 72,
   "metadata": {},
   "outputs": [
    {
     "data": {
      "text/html": [
       "<div>\n",
       "<style scoped>\n",
       "    .dataframe tbody tr th:only-of-type {\n",
       "        vertical-align: middle;\n",
       "    }\n",
       "\n",
       "    .dataframe tbody tr th {\n",
       "        vertical-align: top;\n",
       "    }\n",
       "\n",
       "    .dataframe thead th {\n",
       "        text-align: right;\n",
       "    }\n",
       "</style>\n",
       "<table border=\"1\" class=\"dataframe\">\n",
       "  <thead>\n",
       "    <tr style=\"text-align: right;\">\n",
       "      <th></th>\n",
       "      <th>total</th>\n",
       "    </tr>\n",
       "    <tr>\n",
       "      <th>smoking_status</th>\n",
       "      <th></th>\n",
       "    </tr>\n",
       "  </thead>\n",
       "  <tbody>\n",
       "    <tr>\n",
       "      <th>Unknown</th>\n",
       "      <td>1419</td>\n",
       "    </tr>\n",
       "    <tr>\n",
       "      <th>formerly smoked</th>\n",
       "      <td>708</td>\n",
       "    </tr>\n",
       "    <tr>\n",
       "      <th>never smoked</th>\n",
       "      <td>1596</td>\n",
       "    </tr>\n",
       "    <tr>\n",
       "      <th>smokes</th>\n",
       "      <td>670</td>\n",
       "    </tr>\n",
       "  </tbody>\n",
       "</table>\n",
       "</div>"
      ],
      "text/plain": [
       "                 total\n",
       "smoking_status        \n",
       "Unknown           1419\n",
       "formerly smoked    708\n",
       "never smoked      1596\n",
       "smokes             670"
      ]
     },
     "execution_count": 72,
     "metadata": {},
     "output_type": "execute_result"
    }
   ],
   "source": [
    "smoking_status = df.groupby('smoking_status').size()\n",
    "dsma = pd.DataFrame(smoking_status).reset_index()\n",
    "dsma = dsma.rename(columns={0:'total'})\n",
    "dsma.set_index('smoking_status', inplace=True)\n",
    "dsma"
   ]
  },
  {
   "cell_type": "code",
   "execution_count": 73,
   "metadata": {},
   "outputs": [
    {
     "data": {
      "text/html": [
       "<div>\n",
       "<style scoped>\n",
       "    .dataframe tbody tr th:only-of-type {\n",
       "        vertical-align: middle;\n",
       "    }\n",
       "\n",
       "    .dataframe tbody tr th {\n",
       "        vertical-align: top;\n",
       "    }\n",
       "\n",
       "    .dataframe thead th {\n",
       "        text-align: right;\n",
       "    }\n",
       "</style>\n",
       "<table border=\"1\" class=\"dataframe\">\n",
       "  <thead>\n",
       "    <tr style=\"text-align: right;\">\n",
       "      <th></th>\n",
       "      <th>smoking_status</th>\n",
       "      <th>stroke</th>\n",
       "    </tr>\n",
       "  </thead>\n",
       "  <tbody>\n",
       "    <tr>\n",
       "      <th>0</th>\n",
       "      <td>Unknown</td>\n",
       "      <td>34</td>\n",
       "    </tr>\n",
       "    <tr>\n",
       "      <th>1</th>\n",
       "      <td>formerly smoked</td>\n",
       "      <td>47</td>\n",
       "    </tr>\n",
       "    <tr>\n",
       "      <th>2</th>\n",
       "      <td>never smoked</td>\n",
       "      <td>58</td>\n",
       "    </tr>\n",
       "    <tr>\n",
       "      <th>3</th>\n",
       "      <td>smokes</td>\n",
       "      <td>26</td>\n",
       "    </tr>\n",
       "  </tbody>\n",
       "</table>\n",
       "</div>"
      ],
      "text/plain": [
       "    smoking_status  stroke\n",
       "0          Unknown      34\n",
       "1  formerly smoked      47\n",
       "2     never smoked      58\n",
       "3           smokes      26"
      ]
     },
     "execution_count": 73,
     "metadata": {},
     "output_type": "execute_result"
    }
   ],
   "source": [
    "smoking_status_stroke = df.groupby('smoking_status')['stroke'].agg('sum')\n",
    "dsmaS = pd.DataFrame(smoking_status_stroke).reset_index()\n",
    "dsmaS"
   ]
  },
  {
   "cell_type": "code",
   "execution_count": 74,
   "metadata": {},
   "outputs": [
    {
     "data": {
      "image/png": "[encoded data removed]",
      "text/plain": [
       "<Figure size 1080x432 with 1 Axes>"
      ]
     },
     "metadata": {},
     "output_type": "display_data"
    },
    {
     "data": {
      "text/plain": [
       "<Figure size 432x288 with 0 Axes>"
      ]
     },
     "metadata": {},
     "output_type": "display_data"
    }
   ],
   "source": [
    "# Membuat pie chart Kategori Umur Terkena Stroke\n",
    "colors_list = ['pink', 'gold', 'lightskyblue', 'lightcoral']\n",
    "\n",
    "dsmaS['stroke'].plot(kind='pie',\n",
    "                   figsize=(15, 6),\n",
    "                   autopct='%1.1f%%', # menambahkan persentase\n",
    "                   startangle=90,     # start angle 90° \n",
    "                   shadow=True,        # menambahkan shadow\n",
    "                   labels=None,      # menghilangkan label pada pie chart\n",
    "                   colors=colors_list\n",
    "                  )\n",
    "\n",
    "plt.title('Prosentase Kolom Smoking Status Terkena Stroke')\n",
    "plt.axis('equal')     # mengatur rasio axis agar sama antara axis x dan y\n",
    "\n",
    "# add legend\n",
    "plt.legend(labels=dsmaS['smoking_status'], loc='upper right', fontsize=14)\n",
    "plt.show()\n",
    "plt.savefig('Positif Stroke Smoking Status.jpg', format='jpg', bbox_inches='tight')"
   ]
  },
  {
   "cell_type": "code",
   "execution_count": 75,
   "metadata": {},
   "outputs": [
    {
     "data": {
      "image/png": "[encoded data removed]",
      "text/plain": [
       "<Figure size 720x432 with 1 Axes>"
      ]
     },
     "metadata": {
      "needs_background": "light"
     },
     "output_type": "display_data"
    },
    {
     "data": {
      "text/plain": [
       "<Figure size 432x288 with 0 Axes>"
      ]
     },
     "metadata": {},
     "output_type": "display_data"
    }
   ],
   "source": [
    "# Membuat horizontal bar chart dengan label\n",
    "\n",
    "plt.figure(figsize=(10,6))\n",
    "plot_data = plt.barh(dsmaS['smoking_status'],dsmaS['stroke'],  color='steelblue')\n",
    "\n",
    "for index, value in enumerate(dsmaS['stroke']): \n",
    "    plt.annotate(value, xy=(value+0.1, index), fontsize=12)\n",
    "\n",
    "plt.title('Total Smoking Status yang Terkena Stroke', size=18)\n",
    "plt.xlabel('\\nTotal', size=14)\n",
    "plt.ylabel('Smoking Status\\n', size=14)\n",
    "plt.xticks(size=14)\n",
    "plt.yticks(size=12)\n",
    "plt.show()\n",
    "plt.savefig('Total Kategori Umur yang Terkena Stroke.png', format='png')"
   ]
  },
  {
   "cell_type": "markdown",
   "metadata": {},
   "source": [
    "- __Insight dari grafik:__ Berdasarkan hubungan smoking_status dengan stroke, penderita stroke terbanyak diperoleh dari <code>orang yang tidak terbiasa merokok</code>\n",
    "- __Insight lain:__ status merokok berpengaruh kecil terhadap penyakit <code>STROKE</code>"
   ]
  },
  {
   "cell_type": "code",
   "execution_count": 76,
   "metadata": {},
   "outputs": [
    {
     "name": "stderr",
     "output_type": "stream",
     "text": [
      "<ipython-input-76-38ce5fbfc5a3>:2: FutureWarning: Indexing with multiple keys (implicitly converted to a tuple of keys) will be deprecated, use a list instead.\n",
      "  dos = df.groupby('stroke')['hypertension','heart_disease'].size()\n"
     ]
    },
    {
     "data": {
      "text/plain": [
       "stroke\n",
       "0    4228\n",
       "1     165\n",
       "dtype: int64"
      ]
     },
     "execution_count": 76,
     "metadata": {},
     "output_type": "execute_result"
    }
   ],
   "source": [
    "# Total Penyakit Lain yang juga menderita Stroke\n",
    "dos = df.groupby('stroke')['hypertension','heart_disease'].size()\n",
    "dos"
   ]
  },
  {
   "cell_type": "markdown",
   "metadata": {},
   "source": [
    "__Kesimpulan:__\n",
    "- Berdasarkan kolom target <code>stroke</code> data (0) disebut negatif stroke dengan (1) positif stroke lebih banyak data yang negatif stroke. Dan disimpulkan dataset mengalami <code>imbalance</code>"
   ]
  },
  {
   "cell_type": "markdown",
   "metadata": {},
   "source": [
    "# Data Processing to Machine Learning"
   ]
  },
  {
   "cell_type": "markdown",
   "metadata": {},
   "source": [
    "# __Encoding__ "
   ]
  },
  {
   "cell_type": "markdown",
   "metadata": {},
   "source": [
    "__Data Encoding__ adalah salah satu tahap praproses data sebelum diproses dengan algoritma <i>machine learning</i>. Dalam mengerjakan projek <i>data science</i> ataupun <i>machine learning</i>, kita akan sangat mungkin menemukan satu atau beberapa fitur yang bertipe kategori, misalnya 'Sangat Baik', 'Baik', 'Tidak Baik'. Nah, komputer tidak dapat memproses data bertipe kategori sehingga kita harus mengubah data tersebut menjadi berbentuk bilangan. Proses ini disebut dengan encoding."
   ]
  },
  {
   "cell_type": "code",
   "execution_count": 77,
   "metadata": {},
   "outputs": [
    {
     "data": {
      "text/plain": [
       "id                           int64\n",
       "gender                      object\n",
       "age                          int64\n",
       "hypertension                 int64\n",
       "heart_disease                int64\n",
       "ever_married                object\n",
       "work_type                   object\n",
       "Residence_type              object\n",
       "avg_glucose_level          float64\n",
       "bmi                        float64\n",
       "smoking_status              object\n",
       "stroke                       int64\n",
       "avg_glucose_level_Bins    category\n",
       "bmi_Bins                  category\n",
       "age_Bins                  category\n",
       "dtype: object"
      ]
     },
     "execution_count": 77,
     "metadata": {},
     "output_type": "execute_result"
    }
   ],
   "source": [
    "### encoding data method get_dummies()\n",
    "### Checking data types\n",
    "df.dtypes"
   ]
  },
  {
   "cell_type": "code",
   "execution_count": 78,
   "metadata": {},
   "outputs": [
    {
     "data": {
      "text/html": [
       "<div>\n",
       "<style scoped>\n",
       "    .dataframe tbody tr th:only-of-type {\n",
       "        vertical-align: middle;\n",
       "    }\n",
       "\n",
       "    .dataframe tbody tr th {\n",
       "        vertical-align: top;\n",
       "    }\n",
       "\n",
       "    .dataframe thead th {\n",
       "        text-align: right;\n",
       "    }\n",
       "</style>\n",
       "<table border=\"1\" class=\"dataframe\">\n",
       "  <thead>\n",
       "    <tr style=\"text-align: right;\">\n",
       "      <th></th>\n",
       "      <th>0</th>\n",
       "      <th>1</th>\n",
       "      <th>2</th>\n",
       "      <th>3</th>\n",
       "      <th>4</th>\n",
       "      <th>5</th>\n",
       "      <th>6</th>\n",
       "      <th>7</th>\n",
       "      <th>8</th>\n",
       "      <th>9</th>\n",
       "      <th>...</th>\n",
       "      <th>4383</th>\n",
       "      <th>4384</th>\n",
       "      <th>4385</th>\n",
       "      <th>4386</th>\n",
       "      <th>4387</th>\n",
       "      <th>4388</th>\n",
       "      <th>4389</th>\n",
       "      <th>4390</th>\n",
       "      <th>4391</th>\n",
       "      <th>4392</th>\n",
       "    </tr>\n",
       "  </thead>\n",
       "  <tbody>\n",
       "    <tr>\n",
       "      <th>id</th>\n",
       "      <td>31112</td>\n",
       "      <td>53882</td>\n",
       "      <td>10434</td>\n",
       "      <td>27419</td>\n",
       "      <td>60491</td>\n",
       "      <td>12109</td>\n",
       "      <td>12095</td>\n",
       "      <td>12175</td>\n",
       "      <td>58202</td>\n",
       "      <td>27458</td>\n",
       "      <td>...</td>\n",
       "      <td>7293</td>\n",
       "      <td>68398</td>\n",
       "      <td>36901</td>\n",
       "      <td>45010</td>\n",
       "      <td>14180</td>\n",
       "      <td>18234</td>\n",
       "      <td>44873</td>\n",
       "      <td>19723</td>\n",
       "      <td>37544</td>\n",
       "      <td>44679</td>\n",
       "    </tr>\n",
       "    <tr>\n",
       "      <th>gender</th>\n",
       "      <td>Male</td>\n",
       "      <td>Male</td>\n",
       "      <td>Female</td>\n",
       "      <td>Female</td>\n",
       "      <td>Female</td>\n",
       "      <td>Female</td>\n",
       "      <td>Female</td>\n",
       "      <td>Female</td>\n",
       "      <td>Female</td>\n",
       "      <td>Female</td>\n",
       "      <td>...</td>\n",
       "      <td>Male</td>\n",
       "      <td>Male</td>\n",
       "      <td>Female</td>\n",
       "      <td>Female</td>\n",
       "      <td>Female</td>\n",
       "      <td>Female</td>\n",
       "      <td>Female</td>\n",
       "      <td>Female</td>\n",
       "      <td>Male</td>\n",
       "      <td>Female</td>\n",
       "    </tr>\n",
       "    <tr>\n",
       "      <th>age</th>\n",
       "      <td>80</td>\n",
       "      <td>74</td>\n",
       "      <td>69</td>\n",
       "      <td>59</td>\n",
       "      <td>78</td>\n",
       "      <td>81</td>\n",
       "      <td>61</td>\n",
       "      <td>54</td>\n",
       "      <td>50</td>\n",
       "      <td>60</td>\n",
       "      <td>...</td>\n",
       "      <td>40</td>\n",
       "      <td>82</td>\n",
       "      <td>45</td>\n",
       "      <td>57</td>\n",
       "      <td>13</td>\n",
       "      <td>80</td>\n",
       "      <td>81</td>\n",
       "      <td>35</td>\n",
       "      <td>51</td>\n",
       "      <td>44</td>\n",
       "    </tr>\n",
       "    <tr>\n",
       "      <th>hypertension</th>\n",
       "      <td>0</td>\n",
       "      <td>1</td>\n",
       "      <td>0</td>\n",
       "      <td>0</td>\n",
       "      <td>0</td>\n",
       "      <td>1</td>\n",
       "      <td>0</td>\n",
       "      <td>0</td>\n",
       "      <td>1</td>\n",
       "      <td>0</td>\n",
       "      <td>...</td>\n",
       "      <td>0</td>\n",
       "      <td>1</td>\n",
       "      <td>0</td>\n",
       "      <td>0</td>\n",
       "      <td>0</td>\n",
       "      <td>1</td>\n",
       "      <td>0</td>\n",
       "      <td>0</td>\n",
       "      <td>0</td>\n",
       "      <td>0</td>\n",
       "    </tr>\n",
       "    <tr>\n",
       "      <th>heart_disease</th>\n",
       "      <td>1</td>\n",
       "      <td>1</td>\n",
       "      <td>0</td>\n",
       "      <td>0</td>\n",
       "      <td>0</td>\n",
       "      <td>0</td>\n",
       "      <td>1</td>\n",
       "      <td>0</td>\n",
       "      <td>0</td>\n",
       "      <td>0</td>\n",
       "      <td>...</td>\n",
       "      <td>0</td>\n",
       "      <td>0</td>\n",
       "      <td>0</td>\n",
       "      <td>0</td>\n",
       "      <td>0</td>\n",
       "      <td>0</td>\n",
       "      <td>0</td>\n",
       "      <td>0</td>\n",
       "      <td>0</td>\n",
       "      <td>0</td>\n",
       "    </tr>\n",
       "    <tr>\n",
       "      <th>ever_married</th>\n",
       "      <td>Yes</td>\n",
       "      <td>Yes</td>\n",
       "      <td>No</td>\n",
       "      <td>Yes</td>\n",
       "      <td>Yes</td>\n",
       "      <td>Yes</td>\n",
       "      <td>Yes</td>\n",
       "      <td>Yes</td>\n",
       "      <td>Yes</td>\n",
       "      <td>No</td>\n",
       "      <td>...</td>\n",
       "      <td>Yes</td>\n",
       "      <td>Yes</td>\n",
       "      <td>Yes</td>\n",
       "      <td>Yes</td>\n",
       "      <td>No</td>\n",
       "      <td>Yes</td>\n",
       "      <td>Yes</td>\n",
       "      <td>Yes</td>\n",
       "      <td>Yes</td>\n",
       "      <td>Yes</td>\n",
       "    </tr>\n",
       "    <tr>\n",
       "      <th>work_type</th>\n",
       "      <td>Private</td>\n",
       "      <td>Private</td>\n",
       "      <td>Private</td>\n",
       "      <td>Private</td>\n",
       "      <td>Private</td>\n",
       "      <td>Private</td>\n",
       "      <td>Govt_job</td>\n",
       "      <td>Private</td>\n",
       "      <td>Self-employed</td>\n",
       "      <td>Private</td>\n",
       "      <td>...</td>\n",
       "      <td>Private</td>\n",
       "      <td>Self-employed</td>\n",
       "      <td>Private</td>\n",
       "      <td>Private</td>\n",
       "      <td>children</td>\n",
       "      <td>Private</td>\n",
       "      <td>Self-employed</td>\n",
       "      <td>Self-employed</td>\n",
       "      <td>Private</td>\n",
       "      <td>Govt_job</td>\n",
       "    </tr>\n",
       "    <tr>\n",
       "      <th>Residence_type</th>\n",
       "      <td>Rural</td>\n",
       "      <td>Rural</td>\n",
       "      <td>Urban</td>\n",
       "      <td>Rural</td>\n",
       "      <td>Urban</td>\n",
       "      <td>Rural</td>\n",
       "      <td>Rural</td>\n",
       "      <td>Urban</td>\n",
       "      <td>Rural</td>\n",
       "      <td>Urban</td>\n",
       "      <td>...</td>\n",
       "      <td>Rural</td>\n",
       "      <td>Rural</td>\n",
       "      <td>Urban</td>\n",
       "      <td>Rural</td>\n",
       "      <td>Rural</td>\n",
       "      <td>Urban</td>\n",
       "      <td>Urban</td>\n",
       "      <td>Rural</td>\n",
       "      <td>Rural</td>\n",
       "      <td>Urban</td>\n",
       "    </tr>\n",
       "    <tr>\n",
       "      <th>avg_glucose_level</th>\n",
       "      <td>105.92</td>\n",
       "      <td>70.09</td>\n",
       "      <td>94.39</td>\n",
       "      <td>76.15</td>\n",
       "      <td>58.57</td>\n",
       "      <td>80.43</td>\n",
       "      <td>120.46</td>\n",
       "      <td>104.51</td>\n",
       "      <td>167.41</td>\n",
       "      <td>89.22</td>\n",
       "      <td>...</td>\n",
       "      <td>83.94</td>\n",
       "      <td>71.97</td>\n",
       "      <td>97.95</td>\n",
       "      <td>77.93</td>\n",
       "      <td>103.08</td>\n",
       "      <td>83.75</td>\n",
       "      <td>125.2</td>\n",
       "      <td>82.99</td>\n",
       "      <td>166.29</td>\n",
       "      <td>85.28</td>\n",
       "    </tr>\n",
       "    <tr>\n",
       "      <th>bmi</th>\n",
       "      <td>32.5</td>\n",
       "      <td>27.4</td>\n",
       "      <td>22.8</td>\n",
       "      <td>27.4</td>\n",
       "      <td>24.2</td>\n",
       "      <td>29.7</td>\n",
       "      <td>36.8</td>\n",
       "      <td>27.3</td>\n",
       "      <td>30.9</td>\n",
       "      <td>37.8</td>\n",
       "      <td>...</td>\n",
       "      <td>27.4</td>\n",
       "      <td>28.3</td>\n",
       "      <td>24.5</td>\n",
       "      <td>21.7</td>\n",
       "      <td>18.6</td>\n",
       "      <td>27.4</td>\n",
       "      <td>40</td>\n",
       "      <td>30.6</td>\n",
       "      <td>25.6</td>\n",
       "      <td>26.2</td>\n",
       "    </tr>\n",
       "    <tr>\n",
       "      <th>smoking_status</th>\n",
       "      <td>never smoked</td>\n",
       "      <td>never smoked</td>\n",
       "      <td>never smoked</td>\n",
       "      <td>Unknown</td>\n",
       "      <td>Unknown</td>\n",
       "      <td>never smoked</td>\n",
       "      <td>smokes</td>\n",
       "      <td>smokes</td>\n",
       "      <td>never smoked</td>\n",
       "      <td>never smoked</td>\n",
       "      <td>...</td>\n",
       "      <td>smokes</td>\n",
       "      <td>never smoked</td>\n",
       "      <td>Unknown</td>\n",
       "      <td>never smoked</td>\n",
       "      <td>Unknown</td>\n",
       "      <td>never smoked</td>\n",
       "      <td>never smoked</td>\n",
       "      <td>never smoked</td>\n",
       "      <td>formerly smoked</td>\n",
       "      <td>Unknown</td>\n",
       "    </tr>\n",
       "    <tr>\n",
       "      <th>stroke</th>\n",
       "      <td>1</td>\n",
       "      <td>1</td>\n",
       "      <td>1</td>\n",
       "      <td>1</td>\n",
       "      <td>1</td>\n",
       "      <td>1</td>\n",
       "      <td>1</td>\n",
       "      <td>1</td>\n",
       "      <td>1</td>\n",
       "      <td>1</td>\n",
       "      <td>...</td>\n",
       "      <td>0</td>\n",
       "      <td>0</td>\n",
       "      <td>0</td>\n",
       "      <td>0</td>\n",
       "      <td>0</td>\n",
       "      <td>0</td>\n",
       "      <td>0</td>\n",
       "      <td>0</td>\n",
       "      <td>0</td>\n",
       "      <td>0</td>\n",
       "    </tr>\n",
       "    <tr>\n",
       "      <th>avg_glucose_level_Bins</th>\n",
       "      <td>Medium</td>\n",
       "      <td>Low</td>\n",
       "      <td>Medium</td>\n",
       "      <td>Low</td>\n",
       "      <td>Low</td>\n",
       "      <td>Low</td>\n",
       "      <td>Medium</td>\n",
       "      <td>Medium</td>\n",
       "      <td>High</td>\n",
       "      <td>Low</td>\n",
       "      <td>...</td>\n",
       "      <td>Low</td>\n",
       "      <td>Low</td>\n",
       "      <td>Medium</td>\n",
       "      <td>Low</td>\n",
       "      <td>Medium</td>\n",
       "      <td>Low</td>\n",
       "      <td>Medium</td>\n",
       "      <td>Low</td>\n",
       "      <td>High</td>\n",
       "      <td>Low</td>\n",
       "    </tr>\n",
       "    <tr>\n",
       "      <th>bmi_Bins</th>\n",
       "      <td>Gemuk</td>\n",
       "      <td>Gemuk</td>\n",
       "      <td>Normal</td>\n",
       "      <td>Gemuk</td>\n",
       "      <td>Normal</td>\n",
       "      <td>Gemuk</td>\n",
       "      <td>Gemuk</td>\n",
       "      <td>Gemuk</td>\n",
       "      <td>Gemuk</td>\n",
       "      <td>Gemuk</td>\n",
       "      <td>...</td>\n",
       "      <td>Gemuk</td>\n",
       "      <td>Gemuk</td>\n",
       "      <td>Normal</td>\n",
       "      <td>Normal</td>\n",
       "      <td>Normal</td>\n",
       "      <td>Gemuk</td>\n",
       "      <td>Gemuk</td>\n",
       "      <td>Gemuk</td>\n",
       "      <td>Normal</td>\n",
       "      <td>Normal</td>\n",
       "    </tr>\n",
       "    <tr>\n",
       "      <th>age_Bins</th>\n",
       "      <td>Lanjut Usia</td>\n",
       "      <td>Pertengahan</td>\n",
       "      <td>Pertengahan</td>\n",
       "      <td>Dewasa</td>\n",
       "      <td>Lanjut Usia</td>\n",
       "      <td>Lanjut Usia</td>\n",
       "      <td>Pertengahan</td>\n",
       "      <td>Dewasa</td>\n",
       "      <td>Dewasa</td>\n",
       "      <td>Pertengahan</td>\n",
       "      <td>...</td>\n",
       "      <td>Remaja</td>\n",
       "      <td>Lanjut Usia</td>\n",
       "      <td>Remaja</td>\n",
       "      <td>Dewasa</td>\n",
       "      <td>Anak-Anak</td>\n",
       "      <td>Lanjut Usia</td>\n",
       "      <td>Lanjut Usia</td>\n",
       "      <td>Remaja</td>\n",
       "      <td>Dewasa</td>\n",
       "      <td>Remaja</td>\n",
       "    </tr>\n",
       "  </tbody>\n",
       "</table>\n",
       "<p>15 rows × 4393 columns</p>\n",
       "</div>"
      ],
      "text/plain": [
       "                                0             1             2        3     \\\n",
       "id                             31112         53882         10434    27419   \n",
       "gender                          Male          Male        Female   Female   \n",
       "age                               80            74            69       59   \n",
       "hypertension                       0             1             0        0   \n",
       "heart_disease                      1             1             0        0   \n",
       "ever_married                     Yes           Yes            No      Yes   \n",
       "work_type                    Private       Private       Private  Private   \n",
       "Residence_type                 Rural         Rural         Urban    Rural   \n",
       "avg_glucose_level             105.92         70.09         94.39    76.15   \n",
       "bmi                             32.5          27.4          22.8     27.4   \n",
       "smoking_status          never smoked  never smoked  never smoked  Unknown   \n",
       "stroke                             1             1             1        1   \n",
       "avg_glucose_level_Bins        Medium           Low        Medium      Low   \n",
       "bmi_Bins                       Gemuk         Gemuk        Normal    Gemuk   \n",
       "age_Bins                 Lanjut Usia   Pertengahan   Pertengahan   Dewasa   \n",
       "\n",
       "                               4             5            6        7     \\\n",
       "id                            60491         12109        12095    12175   \n",
       "gender                       Female        Female       Female   Female   \n",
       "age                              78            81           61       54   \n",
       "hypertension                      0             1            0        0   \n",
       "heart_disease                     0             0            1        0   \n",
       "ever_married                    Yes           Yes          Yes      Yes   \n",
       "work_type                   Private       Private     Govt_job  Private   \n",
       "Residence_type                Urban         Rural        Rural    Urban   \n",
       "avg_glucose_level             58.57         80.43       120.46   104.51   \n",
       "bmi                            24.2          29.7         36.8     27.3   \n",
       "smoking_status              Unknown  never smoked       smokes   smokes   \n",
       "stroke                            1             1            1        1   \n",
       "avg_glucose_level_Bins          Low           Low       Medium   Medium   \n",
       "bmi_Bins                     Normal         Gemuk        Gemuk    Gemuk   \n",
       "age_Bins                Lanjut Usia   Lanjut Usia  Pertengahan   Dewasa   \n",
       "\n",
       "                                 8             9     ...     4383  \\\n",
       "id                              58202         27458  ...     7293   \n",
       "gender                         Female        Female  ...     Male   \n",
       "age                                50            60  ...       40   \n",
       "hypertension                        1             0  ...        0   \n",
       "heart_disease                       0             0  ...        0   \n",
       "ever_married                      Yes            No  ...      Yes   \n",
       "work_type               Self-employed       Private  ...  Private   \n",
       "Residence_type                  Rural         Urban  ...    Rural   \n",
       "avg_glucose_level              167.41         89.22  ...    83.94   \n",
       "bmi                              30.9          37.8  ...     27.4   \n",
       "smoking_status           never smoked  never smoked  ...   smokes   \n",
       "stroke                              1             1  ...        0   \n",
       "avg_glucose_level_Bins           High           Low  ...      Low   \n",
       "bmi_Bins                        Gemuk         Gemuk  ...    Gemuk   \n",
       "age_Bins                       Dewasa   Pertengahan  ...   Remaja   \n",
       "\n",
       "                                 4384     4385          4386       4387  \\\n",
       "id                              68398    36901         45010      14180   \n",
       "gender                           Male   Female        Female     Female   \n",
       "age                                82       45            57         13   \n",
       "hypertension                        1        0             0          0   \n",
       "heart_disease                       0        0             0          0   \n",
       "ever_married                      Yes      Yes           Yes         No   \n",
       "work_type               Self-employed  Private       Private   children   \n",
       "Residence_type                  Rural    Urban         Rural      Rural   \n",
       "avg_glucose_level               71.97    97.95         77.93     103.08   \n",
       "bmi                              28.3     24.5          21.7       18.6   \n",
       "smoking_status           never smoked  Unknown  never smoked    Unknown   \n",
       "stroke                              0        0             0          0   \n",
       "avg_glucose_level_Bins            Low   Medium           Low     Medium   \n",
       "bmi_Bins                        Gemuk   Normal        Normal     Normal   \n",
       "age_Bins                  Lanjut Usia   Remaja        Dewasa  Anak-Anak   \n",
       "\n",
       "                                4388           4389           4390  \\\n",
       "id                             18234          44873          19723   \n",
       "gender                        Female         Female         Female   \n",
       "age                               80             81             35   \n",
       "hypertension                       1              0              0   \n",
       "heart_disease                      0              0              0   \n",
       "ever_married                     Yes            Yes            Yes   \n",
       "work_type                    Private  Self-employed  Self-employed   \n",
       "Residence_type                 Urban          Urban          Rural   \n",
       "avg_glucose_level              83.75          125.2          82.99   \n",
       "bmi                             27.4             40           30.6   \n",
       "smoking_status          never smoked   never smoked   never smoked   \n",
       "stroke                             0              0              0   \n",
       "avg_glucose_level_Bins           Low         Medium            Low   \n",
       "bmi_Bins                       Gemuk          Gemuk          Gemuk   \n",
       "age_Bins                 Lanjut Usia    Lanjut Usia         Remaja   \n",
       "\n",
       "                                   4391      4392  \n",
       "id                                37544     44679  \n",
       "gender                             Male    Female  \n",
       "age                                  51        44  \n",
       "hypertension                          0         0  \n",
       "heart_disease                         0         0  \n",
       "ever_married                        Yes       Yes  \n",
       "work_type                       Private  Govt_job  \n",
       "Residence_type                    Rural     Urban  \n",
       "avg_glucose_level                166.29     85.28  \n",
       "bmi                                25.6      26.2  \n",
       "smoking_status          formerly smoked   Unknown  \n",
       "stroke                                0         0  \n",
       "avg_glucose_level_Bins             High       Low  \n",
       "bmi_Bins                         Normal    Normal  \n",
       "age_Bins                         Dewasa    Remaja  \n",
       "\n",
       "[15 rows x 4393 columns]"
      ]
     },
     "execution_count": 78,
     "metadata": {},
     "output_type": "execute_result"
    }
   ],
   "source": [
    "df.T"
   ]
  },
  {
   "cell_type": "code",
   "execution_count": 79,
   "metadata": {},
   "outputs": [
    {
     "name": "stdout",
     "output_type": "stream",
     "text": [
      "<class 'pandas.core.frame.DataFrame'>\n",
      "RangeIndex: 4393 entries, 0 to 4392\n",
      "Data columns (total 15 columns):\n",
      " #   Column                  Non-Null Count  Dtype   \n",
      "---  ------                  --------------  -----   \n",
      " 0   id                      4393 non-null   int64   \n",
      " 1   gender                  4393 non-null   object  \n",
      " 2   age                     4393 non-null   int64   \n",
      " 3   hypertension            4393 non-null   int64   \n",
      " 4   heart_disease           4393 non-null   int64   \n",
      " 5   ever_married            4393 non-null   object  \n",
      " 6   work_type               4393 non-null   object  \n",
      " 7   Residence_type          4393 non-null   object  \n",
      " 8   avg_glucose_level       4393 non-null   float64 \n",
      " 9   bmi                     4393 non-null   float64 \n",
      " 10  smoking_status          4393 non-null   object  \n",
      " 11  stroke                  4393 non-null   int64   \n",
      " 12  avg_glucose_level_Bins  4393 non-null   category\n",
      " 13  bmi_Bins                4393 non-null   category\n",
      " 14  age_Bins                4393 non-null   category\n",
      "dtypes: category(3), float64(2), int64(5), object(5)\n",
      "memory usage: 425.2+ KB\n"
     ]
    }
   ],
   "source": [
    "df.info()"
   ]
  },
  {
   "cell_type": "code",
   "execution_count": 80,
   "metadata": {},
   "outputs": [],
   "source": [
    "### encoding data method get_dummies()\n",
    "### Step1: ubah data yang bertipe string menjadi categorical\n",
    "df['gender'] = df['gender'].astype('category')\n",
    "df['smoking_status'] = df['smoking_status'].astype('category')\n",
    "df['avg_glucose_level_Bins'] = df['avg_glucose_level_Bins'].astype('category')\n",
    "df['bmi_Bins'] = df['bmi_Bins'].astype('category')"
   ]
  },
  {
   "cell_type": "code",
   "execution_count": 81,
   "metadata": {},
   "outputs": [],
   "source": [
    "df['age_Bins'] = df['age_Bins'].astype('category')"
   ]
  },
  {
   "cell_type": "markdown",
   "metadata": {},
   "source": [
    "# Encoding Method .cat.codes"
   ]
  },
  {
   "cell_type": "code",
   "execution_count": 82,
   "metadata": {},
   "outputs": [],
   "source": [
    "### Menggunakan method .cat.codes\n",
    "### merubah data dari tipe string ke numerik dilakukan di line yg terpisah\n",
    "df['gender'] = df['gender'].cat.codes\n",
    "df['smoking_status'] = df['smoking_status'].cat.codes\n",
    "df['avg_glucose_level_Bins'] = df['avg_glucose_level_Bins'].cat.codes\n",
    "df['bmi_Bins'] = df['bmi_Bins'].cat.codes"
   ]
  },
  {
   "cell_type": "code",
   "execution_count": 83,
   "metadata": {},
   "outputs": [],
   "source": [
    "df['age_Bins'] = df['age_Bins'].cat.codes"
   ]
  },
  {
   "cell_type": "code",
   "execution_count": 84,
   "metadata": {},
   "outputs": [
    {
     "data": {
      "text/html": [
       "<div>\n",
       "<style scoped>\n",
       "    .dataframe tbody tr th:only-of-type {\n",
       "        vertical-align: middle;\n",
       "    }\n",
       "\n",
       "    .dataframe tbody tr th {\n",
       "        vertical-align: top;\n",
       "    }\n",
       "\n",
       "    .dataframe thead th {\n",
       "        text-align: right;\n",
       "    }\n",
       "</style>\n",
       "<table border=\"1\" class=\"dataframe\">\n",
       "  <thead>\n",
       "    <tr style=\"text-align: right;\">\n",
       "      <th></th>\n",
       "      <th>0</th>\n",
       "      <th>1</th>\n",
       "      <th>2</th>\n",
       "      <th>3</th>\n",
       "      <th>4</th>\n",
       "    </tr>\n",
       "  </thead>\n",
       "  <tbody>\n",
       "    <tr>\n",
       "      <th>id</th>\n",
       "      <td>31112</td>\n",
       "      <td>53882</td>\n",
       "      <td>10434</td>\n",
       "      <td>27419</td>\n",
       "      <td>60491</td>\n",
       "    </tr>\n",
       "    <tr>\n",
       "      <th>gender</th>\n",
       "      <td>1</td>\n",
       "      <td>1</td>\n",
       "      <td>0</td>\n",
       "      <td>0</td>\n",
       "      <td>0</td>\n",
       "    </tr>\n",
       "    <tr>\n",
       "      <th>age</th>\n",
       "      <td>80</td>\n",
       "      <td>74</td>\n",
       "      <td>69</td>\n",
       "      <td>59</td>\n",
       "      <td>78</td>\n",
       "    </tr>\n",
       "    <tr>\n",
       "      <th>hypertension</th>\n",
       "      <td>0</td>\n",
       "      <td>1</td>\n",
       "      <td>0</td>\n",
       "      <td>0</td>\n",
       "      <td>0</td>\n",
       "    </tr>\n",
       "    <tr>\n",
       "      <th>heart_disease</th>\n",
       "      <td>1</td>\n",
       "      <td>1</td>\n",
       "      <td>0</td>\n",
       "      <td>0</td>\n",
       "      <td>0</td>\n",
       "    </tr>\n",
       "    <tr>\n",
       "      <th>ever_married</th>\n",
       "      <td>Yes</td>\n",
       "      <td>Yes</td>\n",
       "      <td>No</td>\n",
       "      <td>Yes</td>\n",
       "      <td>Yes</td>\n",
       "    </tr>\n",
       "    <tr>\n",
       "      <th>work_type</th>\n",
       "      <td>Private</td>\n",
       "      <td>Private</td>\n",
       "      <td>Private</td>\n",
       "      <td>Private</td>\n",
       "      <td>Private</td>\n",
       "    </tr>\n",
       "    <tr>\n",
       "      <th>Residence_type</th>\n",
       "      <td>Rural</td>\n",
       "      <td>Rural</td>\n",
       "      <td>Urban</td>\n",
       "      <td>Rural</td>\n",
       "      <td>Urban</td>\n",
       "    </tr>\n",
       "    <tr>\n",
       "      <th>avg_glucose_level</th>\n",
       "      <td>105.92</td>\n",
       "      <td>70.09</td>\n",
       "      <td>94.39</td>\n",
       "      <td>76.15</td>\n",
       "      <td>58.57</td>\n",
       "    </tr>\n",
       "    <tr>\n",
       "      <th>bmi</th>\n",
       "      <td>32.5</td>\n",
       "      <td>27.4</td>\n",
       "      <td>22.8</td>\n",
       "      <td>27.4</td>\n",
       "      <td>24.2</td>\n",
       "    </tr>\n",
       "    <tr>\n",
       "      <th>smoking_status</th>\n",
       "      <td>2</td>\n",
       "      <td>2</td>\n",
       "      <td>2</td>\n",
       "      <td>0</td>\n",
       "      <td>0</td>\n",
       "    </tr>\n",
       "    <tr>\n",
       "      <th>stroke</th>\n",
       "      <td>1</td>\n",
       "      <td>1</td>\n",
       "      <td>1</td>\n",
       "      <td>1</td>\n",
       "      <td>1</td>\n",
       "    </tr>\n",
       "    <tr>\n",
       "      <th>avg_glucose_level_Bins</th>\n",
       "      <td>1</td>\n",
       "      <td>0</td>\n",
       "      <td>1</td>\n",
       "      <td>0</td>\n",
       "      <td>0</td>\n",
       "    </tr>\n",
       "    <tr>\n",
       "      <th>bmi_Bins</th>\n",
       "      <td>2</td>\n",
       "      <td>2</td>\n",
       "      <td>1</td>\n",
       "      <td>2</td>\n",
       "      <td>1</td>\n",
       "    </tr>\n",
       "    <tr>\n",
       "      <th>age_Bins</th>\n",
       "      <td>4</td>\n",
       "      <td>3</td>\n",
       "      <td>3</td>\n",
       "      <td>2</td>\n",
       "      <td>4</td>\n",
       "    </tr>\n",
       "  </tbody>\n",
       "</table>\n",
       "</div>"
      ],
      "text/plain": [
       "                              0        1        2        3        4\n",
       "id                        31112    53882    10434    27419    60491\n",
       "gender                        1        1        0        0        0\n",
       "age                          80       74       69       59       78\n",
       "hypertension                  0        1        0        0        0\n",
       "heart_disease                 1        1        0        0        0\n",
       "ever_married                Yes      Yes       No      Yes      Yes\n",
       "work_type               Private  Private  Private  Private  Private\n",
       "Residence_type            Rural    Rural    Urban    Rural    Urban\n",
       "avg_glucose_level        105.92    70.09    94.39    76.15    58.57\n",
       "bmi                        32.5     27.4     22.8     27.4     24.2\n",
       "smoking_status                2        2        2        0        0\n",
       "stroke                        1        1        1        1        1\n",
       "avg_glucose_level_Bins        1        0        1        0        0\n",
       "bmi_Bins                      2        2        1        2        1\n",
       "age_Bins                      4        3        3        2        4"
      ]
     },
     "execution_count": 84,
     "metadata": {},
     "output_type": "execute_result"
    }
   ],
   "source": [
    "df.head().T"
   ]
  },
  {
   "cell_type": "markdown",
   "metadata": {},
   "source": [
    "# Fitur Selection"
   ]
  },
  {
   "cell_type": "code",
   "execution_count": 85,
   "metadata": {},
   "outputs": [],
   "source": [
    "# Diperoleh dari dataset df kolom yang diambil berasal dari parameter utamanya saja\n",
    "FSelection = df[['age_Bins','bmi_Bins','avg_glucose_level_Bins','hypertension','heart_disease','smoking_status','gender']]"
   ]
  },
  {
   "cell_type": "code",
   "execution_count": 86,
   "metadata": {},
   "outputs": [],
   "source": [
    "# Kolom Target\n",
    "y = df['stroke']"
   ]
  },
  {
   "cell_type": "code",
   "execution_count": 87,
   "metadata": {},
   "outputs": [],
   "source": [
    "# Kolom Fiture\n",
    "X = FSelection"
   ]
  },
  {
   "cell_type": "markdown",
   "metadata": {},
   "source": [
    "# RFE"
   ]
  },
  {
   "cell_type": "code",
   "execution_count": 88,
   "metadata": {},
   "outputs": [
    {
     "name": "stdout",
     "output_type": "stream",
     "text": [
      "\n",
      "Chosen features\n",
      "['age_Bins', 'hypertension', 'heart_disease', 'smoking_status']\n"
     ]
    }
   ],
   "source": [
    "from sklearn.feature_selection import RFECV\n",
    "from sklearn.linear_model import LinearRegression \n",
    "\n",
    "lr = LinearRegression()\n",
    "rfe = RFECV(lr, min_features_to_select = 4, cv = 5)\n",
    "rfe.fit(X,y)\n",
    "\n",
    "print(\"\\nChosen features\")\n",
    "print(list(X.columns[rfe.get_support()]))"
   ]
  },
  {
   "cell_type": "markdown",
   "metadata": {},
   "source": [
    "# SelectFromModel"
   ]
  },
  {
   "cell_type": "code",
   "execution_count": 89,
   "metadata": {},
   "outputs": [
    {
     "name": "stdout",
     "output_type": "stream",
     "text": [
      "Feature Importances\n",
      "[0.26609935 0.10509452 0.1437014  0.07473229 0.07082206 0.21142271\n",
      " 0.12812767]\n",
      "Threshold\n",
      "0.14285714285714285\n",
      "Keep Features?\n",
      "[ True False  True False False  True False]\n"
     ]
    }
   ],
   "source": [
    "from sklearn.ensemble import RandomForestRegressor\n",
    "from sklearn.feature_selection import SelectFromModel\n",
    "import matplotlib.pyplot as plt\n",
    "\n",
    "rf = RandomForestRegressor()\n",
    "selector = SelectFromModel(estimator=rf)\n",
    "selector.fit(X, y)\n",
    "\n",
    "print(\"Feature Importances\")\n",
    "print(selector.estimator_.feature_importances_)\n",
    "print(\"Threshold\")\n",
    "print(selector.threshold_)\n",
    "print(\"Keep Features?\")\n",
    "print(selector.get_support())"
   ]
  },
  {
   "cell_type": "markdown",
   "metadata": {},
   "source": [
    "- ___Menurut Select From Model yang paling berpengaruh adalah :___\n",
    "- [ 'avg_glucose_level_Bins','smoking_status','age_Bins' ]"
   ]
  },
  {
   "cell_type": "markdown",
   "metadata": {},
   "source": [
    "# Feature Importances"
   ]
  },
  {
   "cell_type": "code",
   "execution_count": 90,
   "metadata": {},
   "outputs": [
    {
     "data": {
      "image/png": "[encoded data removed]",
      "text/plain": [
       "<Figure size 432x288 with 1 Axes>"
      ]
     },
     "metadata": {
      "needs_background": "light"
     },
     "output_type": "display_data"
    }
   ],
   "source": [
    "from sklearn.ensemble import RandomForestRegressor\n",
    "import matplotlib.pyplot as plt\n",
    "\n",
    "rf = RandomForestRegressor()\n",
    "rf.fit(X, y)\n",
    "\n",
    "plt.barh(X.columns, rf.feature_importances_, )\n",
    "plt.xlabel(\"Importance score\")\n",
    "plt.title(\"Feature Importances\")\n",
    "plt.show()"
   ]
  },
  {
   "cell_type": "markdown",
   "metadata": {},
   "source": [
    "- ___Menurut Feature Importance yang paling berpengaruh adalah :___\n",
    "- [ 'gender','smoking_status','heart_disease','hypertension','avg_glucose_level_Bins','bmi_Bins','age_Bins' ]"
   ]
  },
  {
   "cell_type": "markdown",
   "metadata": {},
   "source": [
    "# Correlation Analysist"
   ]
  },
  {
   "cell_type": "code",
   "execution_count": 91,
   "metadata": {},
   "outputs": [
    {
     "data": {
      "text/html": [
       "<div>\n",
       "<style scoped>\n",
       "    .dataframe tbody tr th:only-of-type {\n",
       "        vertical-align: middle;\n",
       "    }\n",
       "\n",
       "    .dataframe tbody tr th {\n",
       "        vertical-align: top;\n",
       "    }\n",
       "\n",
       "    .dataframe thead th {\n",
       "        text-align: right;\n",
       "    }\n",
       "</style>\n",
       "<table border=\"1\" class=\"dataframe\">\n",
       "  <thead>\n",
       "    <tr style=\"text-align: right;\">\n",
       "      <th></th>\n",
       "      <th>id</th>\n",
       "      <th>gender</th>\n",
       "      <th>age</th>\n",
       "      <th>hypertension</th>\n",
       "      <th>heart_disease</th>\n",
       "      <th>ever_married</th>\n",
       "      <th>work_type</th>\n",
       "      <th>Residence_type</th>\n",
       "      <th>avg_glucose_level</th>\n",
       "      <th>bmi</th>\n",
       "      <th>smoking_status</th>\n",
       "      <th>stroke</th>\n",
       "      <th>avg_glucose_level_Bins</th>\n",
       "      <th>bmi_Bins</th>\n",
       "      <th>age_Bins</th>\n",
       "    </tr>\n",
       "  </thead>\n",
       "  <tbody>\n",
       "    <tr>\n",
       "      <th>0</th>\n",
       "      <td>31112</td>\n",
       "      <td>1</td>\n",
       "      <td>80</td>\n",
       "      <td>0</td>\n",
       "      <td>1</td>\n",
       "      <td>Yes</td>\n",
       "      <td>Private</td>\n",
       "      <td>Rural</td>\n",
       "      <td>105.92</td>\n",
       "      <td>32.5</td>\n",
       "      <td>2</td>\n",
       "      <td>1</td>\n",
       "      <td>1</td>\n",
       "      <td>2</td>\n",
       "      <td>4</td>\n",
       "    </tr>\n",
       "    <tr>\n",
       "      <th>1</th>\n",
       "      <td>53882</td>\n",
       "      <td>1</td>\n",
       "      <td>74</td>\n",
       "      <td>1</td>\n",
       "      <td>1</td>\n",
       "      <td>Yes</td>\n",
       "      <td>Private</td>\n",
       "      <td>Rural</td>\n",
       "      <td>70.09</td>\n",
       "      <td>27.4</td>\n",
       "      <td>2</td>\n",
       "      <td>1</td>\n",
       "      <td>0</td>\n",
       "      <td>2</td>\n",
       "      <td>3</td>\n",
       "    </tr>\n",
       "    <tr>\n",
       "      <th>2</th>\n",
       "      <td>10434</td>\n",
       "      <td>0</td>\n",
       "      <td>69</td>\n",
       "      <td>0</td>\n",
       "      <td>0</td>\n",
       "      <td>No</td>\n",
       "      <td>Private</td>\n",
       "      <td>Urban</td>\n",
       "      <td>94.39</td>\n",
       "      <td>22.8</td>\n",
       "      <td>2</td>\n",
       "      <td>1</td>\n",
       "      <td>1</td>\n",
       "      <td>1</td>\n",
       "      <td>3</td>\n",
       "    </tr>\n",
       "    <tr>\n",
       "      <th>3</th>\n",
       "      <td>27419</td>\n",
       "      <td>0</td>\n",
       "      <td>59</td>\n",
       "      <td>0</td>\n",
       "      <td>0</td>\n",
       "      <td>Yes</td>\n",
       "      <td>Private</td>\n",
       "      <td>Rural</td>\n",
       "      <td>76.15</td>\n",
       "      <td>27.4</td>\n",
       "      <td>0</td>\n",
       "      <td>1</td>\n",
       "      <td>0</td>\n",
       "      <td>2</td>\n",
       "      <td>2</td>\n",
       "    </tr>\n",
       "    <tr>\n",
       "      <th>4</th>\n",
       "      <td>60491</td>\n",
       "      <td>0</td>\n",
       "      <td>78</td>\n",
       "      <td>0</td>\n",
       "      <td>0</td>\n",
       "      <td>Yes</td>\n",
       "      <td>Private</td>\n",
       "      <td>Urban</td>\n",
       "      <td>58.57</td>\n",
       "      <td>24.2</td>\n",
       "      <td>0</td>\n",
       "      <td>1</td>\n",
       "      <td>0</td>\n",
       "      <td>1</td>\n",
       "      <td>4</td>\n",
       "    </tr>\n",
       "  </tbody>\n",
       "</table>\n",
       "</div>"
      ],
      "text/plain": [
       "      id  gender  age  hypertension  heart_disease ever_married work_type  \\\n",
       "0  31112       1   80             0              1          Yes   Private   \n",
       "1  53882       1   74             1              1          Yes   Private   \n",
       "2  10434       0   69             0              0           No   Private   \n",
       "3  27419       0   59             0              0          Yes   Private   \n",
       "4  60491       0   78             0              0          Yes   Private   \n",
       "\n",
       "  Residence_type  avg_glucose_level   bmi  smoking_status  stroke  \\\n",
       "0          Rural             105.92  32.5               2       1   \n",
       "1          Rural              70.09  27.4               2       1   \n",
       "2          Urban              94.39  22.8               2       1   \n",
       "3          Rural              76.15  27.4               0       1   \n",
       "4          Urban              58.57  24.2               0       1   \n",
       "\n",
       "   avg_glucose_level_Bins  bmi_Bins  age_Bins  \n",
       "0                       1         2         4  \n",
       "1                       0         2         3  \n",
       "2                       1         1         3  \n",
       "3                       0         2         2  \n",
       "4                       0         1         4  "
      ]
     },
     "execution_count": 91,
     "metadata": {},
     "output_type": "execute_result"
    }
   ],
   "source": [
    "from sklearn.preprocessing import MinMaxScaler\n",
    "\n",
    "X_mm = MinMaxScaler().fit_transform(X)\n",
    "X_mm = pd.DataFrame(X_mm, columns=X.columns)\n",
    "df.head()"
   ]
  },
  {
   "cell_type": "code",
   "execution_count": 92,
   "metadata": {},
   "outputs": [
    {
     "data": {
      "text/plain": [
       "<matplotlib.axes._subplots.AxesSubplot at 0x215db3074f0>"
      ]
     },
     "execution_count": 92,
     "metadata": {},
     "output_type": "execute_result"
    },
    {
     "data": {
      "image/png": "[encoded data removed]",
      "text/plain": [
       "<Figure size 432x288 with 2 Axes>"
      ]
     },
     "metadata": {
      "needs_background": "light"
     },
     "output_type": "display_data"
    }
   ],
   "source": [
    "import seaborn as sns\n",
    "corr = X_mm.corr(method=\"pearson\")\n",
    "sns.heatmap(corr, cmap=\"vlag\", annot=True)"
   ]
  },
  {
   "cell_type": "code",
   "execution_count": 93,
   "metadata": {},
   "outputs": [
    {
     "data": {
      "text/plain": [
       "age_Bins                  0.243846\n",
       "bmi_Bins                  0.057638\n",
       "avg_glucose_level_Bins    0.008912\n",
       "hypertension              0.113078\n",
       "heart_disease             0.089750\n",
       "smoking_status            0.020991\n",
       "gender                   -0.001660\n",
       "stroke                    1.000000\n",
       "Name: stroke, dtype: float64"
      ]
     },
     "execution_count": 93,
     "metadata": {},
     "output_type": "execute_result"
    }
   ],
   "source": [
    "X_y = pd.concat([X,y], axis=1)\n",
    "corr_X_y = X_y.corr(method=\"pearson\")[\"stroke\"]\n",
    "corr_X_y"
   ]
  },
  {
   "cell_type": "markdown",
   "metadata": {},
   "source": [
    "- ___Menurut Correlation Analysist Matrics yang paling berpengaruh adalah :___\n",
    "- [ 'age_Bins','bmi_Bins','hypertension','heart_disease' ]"
   ]
  },
  {
   "cell_type": "code",
   "execution_count": 94,
   "metadata": {},
   "outputs": [
    {
     "data": {
      "text/html": [
       "<div>\n",
       "<style scoped>\n",
       "    .dataframe tbody tr th:only-of-type {\n",
       "        vertical-align: middle;\n",
       "    }\n",
       "\n",
       "    .dataframe tbody tr th {\n",
       "        vertical-align: top;\n",
       "    }\n",
       "\n",
       "    .dataframe thead th {\n",
       "        text-align: right;\n",
       "    }\n",
       "</style>\n",
       "<table border=\"1\" class=\"dataframe\">\n",
       "  <thead>\n",
       "    <tr style=\"text-align: right;\">\n",
       "      <th></th>\n",
       "      <th>age_Bins</th>\n",
       "      <th>bmi_Bins</th>\n",
       "      <th>hypertension</th>\n",
       "      <th>heart_disease</th>\n",
       "    </tr>\n",
       "  </thead>\n",
       "  <tbody>\n",
       "    <tr>\n",
       "      <th>0</th>\n",
       "      <td>4</td>\n",
       "      <td>2</td>\n",
       "      <td>0</td>\n",
       "      <td>1</td>\n",
       "    </tr>\n",
       "    <tr>\n",
       "      <th>1</th>\n",
       "      <td>3</td>\n",
       "      <td>2</td>\n",
       "      <td>1</td>\n",
       "      <td>1</td>\n",
       "    </tr>\n",
       "    <tr>\n",
       "      <th>2</th>\n",
       "      <td>3</td>\n",
       "      <td>1</td>\n",
       "      <td>0</td>\n",
       "      <td>0</td>\n",
       "    </tr>\n",
       "    <tr>\n",
       "      <th>3</th>\n",
       "      <td>2</td>\n",
       "      <td>2</td>\n",
       "      <td>0</td>\n",
       "      <td>0</td>\n",
       "    </tr>\n",
       "    <tr>\n",
       "      <th>4</th>\n",
       "      <td>4</td>\n",
       "      <td>1</td>\n",
       "      <td>0</td>\n",
       "      <td>0</td>\n",
       "    </tr>\n",
       "    <tr>\n",
       "      <th>...</th>\n",
       "      <td>...</td>\n",
       "      <td>...</td>\n",
       "      <td>...</td>\n",
       "      <td>...</td>\n",
       "    </tr>\n",
       "    <tr>\n",
       "      <th>4388</th>\n",
       "      <td>4</td>\n",
       "      <td>2</td>\n",
       "      <td>1</td>\n",
       "      <td>0</td>\n",
       "    </tr>\n",
       "    <tr>\n",
       "      <th>4389</th>\n",
       "      <td>4</td>\n",
       "      <td>2</td>\n",
       "      <td>0</td>\n",
       "      <td>0</td>\n",
       "    </tr>\n",
       "    <tr>\n",
       "      <th>4390</th>\n",
       "      <td>1</td>\n",
       "      <td>2</td>\n",
       "      <td>0</td>\n",
       "      <td>0</td>\n",
       "    </tr>\n",
       "    <tr>\n",
       "      <th>4391</th>\n",
       "      <td>2</td>\n",
       "      <td>1</td>\n",
       "      <td>0</td>\n",
       "      <td>0</td>\n",
       "    </tr>\n",
       "    <tr>\n",
       "      <th>4392</th>\n",
       "      <td>1</td>\n",
       "      <td>1</td>\n",
       "      <td>0</td>\n",
       "      <td>0</td>\n",
       "    </tr>\n",
       "  </tbody>\n",
       "</table>\n",
       "<p>4393 rows × 4 columns</p>\n",
       "</div>"
      ],
      "text/plain": [
       "      age_Bins  bmi_Bins  hypertension  heart_disease\n",
       "0            4         2             0              1\n",
       "1            3         2             1              1\n",
       "2            3         1             0              0\n",
       "3            2         2             0              0\n",
       "4            4         1             0              0\n",
       "...        ...       ...           ...            ...\n",
       "4388         4         2             1              0\n",
       "4389         4         2             0              0\n",
       "4390         1         2             0              0\n",
       "4391         2         1             0              0\n",
       "4392         1         1             0              0\n",
       "\n",
       "[4393 rows x 4 columns]"
      ]
     },
     "execution_count": 94,
     "metadata": {},
     "output_type": "execute_result"
    }
   ],
   "source": [
    "# menambahkan kolom fitur menurut matrics correlation\n",
    "\n",
    "FeatureSelection = df[[ 'age_Bins','bmi_Bins','hypertension','heart_disease' ]]\n",
    "FeatureSelection"
   ]
  },
  {
   "cell_type": "markdown",
   "metadata": {},
   "source": [
    "# Data Scalling"
   ]
  },
  {
   "cell_type": "markdown",
   "metadata": {},
   "source": [
    "__Data scaling__ adalah proses mentranformasi nilai dari beberapa kolom/variabel numerik ke dalam range yang mirip."
   ]
  },
  {
   "cell_type": "code",
   "execution_count": 95,
   "metadata": {},
   "outputs": [],
   "source": [
    "# MinMaxScaler\n",
    "\n",
    "from sklearn.preprocessing import MinMaxScaler\n",
    "\n",
    "# Normalisasi dengan min max scaler\n",
    "minmax = MinMaxScaler()\n",
    "minmax_scaler = minmax.fit_transform(FeatureSelection)\n",
    "\n",
    "# Tranformasi array menjadi dataframe\n",
    "df_fitur_minmax = pd.DataFrame(data=minmax_scaler, columns=FeatureSelection.columns)"
   ]
  },
  {
   "cell_type": "code",
   "execution_count": 96,
   "metadata": {},
   "outputs": [],
   "source": [
    "df_target = df['stroke']"
   ]
  },
  {
   "cell_type": "code",
   "execution_count": 97,
   "metadata": {},
   "outputs": [],
   "source": [
    "# target\n",
    "y = df_target"
   ]
  },
  {
   "cell_type": "code",
   "execution_count": 98,
   "metadata": {},
   "outputs": [
    {
     "data": {
      "text/html": [
       "<div>\n",
       "<style scoped>\n",
       "    .dataframe tbody tr th:only-of-type {\n",
       "        vertical-align: middle;\n",
       "    }\n",
       "\n",
       "    .dataframe tbody tr th {\n",
       "        vertical-align: top;\n",
       "    }\n",
       "\n",
       "    .dataframe thead th {\n",
       "        text-align: right;\n",
       "    }\n",
       "</style>\n",
       "<table border=\"1\" class=\"dataframe\">\n",
       "  <thead>\n",
       "    <tr style=\"text-align: right;\">\n",
       "      <th></th>\n",
       "      <th>age_Bins</th>\n",
       "      <th>bmi_Bins</th>\n",
       "      <th>hypertension</th>\n",
       "      <th>heart_disease</th>\n",
       "    </tr>\n",
       "  </thead>\n",
       "  <tbody>\n",
       "    <tr>\n",
       "      <th>0</th>\n",
       "      <td>1.00</td>\n",
       "      <td>1.0</td>\n",
       "      <td>0.0</td>\n",
       "      <td>1.0</td>\n",
       "    </tr>\n",
       "    <tr>\n",
       "      <th>1</th>\n",
       "      <td>0.75</td>\n",
       "      <td>1.0</td>\n",
       "      <td>1.0</td>\n",
       "      <td>1.0</td>\n",
       "    </tr>\n",
       "    <tr>\n",
       "      <th>2</th>\n",
       "      <td>0.75</td>\n",
       "      <td>0.5</td>\n",
       "      <td>0.0</td>\n",
       "      <td>0.0</td>\n",
       "    </tr>\n",
       "    <tr>\n",
       "      <th>3</th>\n",
       "      <td>0.50</td>\n",
       "      <td>1.0</td>\n",
       "      <td>0.0</td>\n",
       "      <td>0.0</td>\n",
       "    </tr>\n",
       "    <tr>\n",
       "      <th>4</th>\n",
       "      <td>1.00</td>\n",
       "      <td>0.5</td>\n",
       "      <td>0.0</td>\n",
       "      <td>0.0</td>\n",
       "    </tr>\n",
       "    <tr>\n",
       "      <th>...</th>\n",
       "      <td>...</td>\n",
       "      <td>...</td>\n",
       "      <td>...</td>\n",
       "      <td>...</td>\n",
       "    </tr>\n",
       "    <tr>\n",
       "      <th>4388</th>\n",
       "      <td>1.00</td>\n",
       "      <td>1.0</td>\n",
       "      <td>1.0</td>\n",
       "      <td>0.0</td>\n",
       "    </tr>\n",
       "    <tr>\n",
       "      <th>4389</th>\n",
       "      <td>1.00</td>\n",
       "      <td>1.0</td>\n",
       "      <td>0.0</td>\n",
       "      <td>0.0</td>\n",
       "    </tr>\n",
       "    <tr>\n",
       "      <th>4390</th>\n",
       "      <td>0.25</td>\n",
       "      <td>1.0</td>\n",
       "      <td>0.0</td>\n",
       "      <td>0.0</td>\n",
       "    </tr>\n",
       "    <tr>\n",
       "      <th>4391</th>\n",
       "      <td>0.50</td>\n",
       "      <td>0.5</td>\n",
       "      <td>0.0</td>\n",
       "      <td>0.0</td>\n",
       "    </tr>\n",
       "    <tr>\n",
       "      <th>4392</th>\n",
       "      <td>0.25</td>\n",
       "      <td>0.5</td>\n",
       "      <td>0.0</td>\n",
       "      <td>0.0</td>\n",
       "    </tr>\n",
       "  </tbody>\n",
       "</table>\n",
       "<p>4393 rows × 4 columns</p>\n",
       "</div>"
      ],
      "text/plain": [
       "      age_Bins  bmi_Bins  hypertension  heart_disease\n",
       "0         1.00       1.0           0.0            1.0\n",
       "1         0.75       1.0           1.0            1.0\n",
       "2         0.75       0.5           0.0            0.0\n",
       "3         0.50       1.0           0.0            0.0\n",
       "4         1.00       0.5           0.0            0.0\n",
       "...        ...       ...           ...            ...\n",
       "4388      1.00       1.0           1.0            0.0\n",
       "4389      1.00       1.0           0.0            0.0\n",
       "4390      0.25       1.0           0.0            0.0\n",
       "4391      0.50       0.5           0.0            0.0\n",
       "4392      0.25       0.5           0.0            0.0\n",
       "\n",
       "[4393 rows x 4 columns]"
      ]
     },
     "execution_count": 98,
     "metadata": {},
     "output_type": "execute_result"
    }
   ],
   "source": [
    "# fitur\n",
    "x = df_fitur_minmax\n",
    "x"
   ]
  },
  {
   "cell_type": "markdown",
   "metadata": {},
   "source": [
    "# Train Test Split"
   ]
  },
  {
   "cell_type": "code",
   "execution_count": 99,
   "metadata": {},
   "outputs": [
    {
     "name": "stdout",
     "output_type": "stream",
     "text": [
      "Train set: (2855, 4) (2855,)\n",
      "Test set: (1538, 4) (1538,)\n"
     ]
    }
   ],
   "source": [
    "# method .cat_codes\n",
    "# membagi data menjadi train set dan test set untuk evaluasi\n",
    "x_train, x_test, y_train, y_test = train_test_split(x, y, test_size=0.35, random_state=42)\n",
    "\n",
    "print ('Train set:', x_train.shape,  y_train.shape)\n",
    "print ('Test set:', x_test.shape,  y_test.shape)"
   ]
  },
  {
   "cell_type": "markdown",
   "metadata": {},
   "source": [
    "# Imbalance Dataset"
   ]
  },
  {
   "cell_type": "markdown",
   "metadata": {},
   "source": [
    "__Penanganan Imbalance Dataset:__\n",
    "- Dengan bantuan SMOTE"
   ]
  },
  {
   "cell_type": "code",
   "execution_count": 100,
   "metadata": {},
   "outputs": [
    {
     "name": "stderr",
     "output_type": "stream",
     "text": [
      "<ipython-input-100-bba32052972d>:2: FutureWarning: Indexing with multiple keys (implicitly converted to a tuple of keys) will be deprecated, use a list instead.\n",
      "  dos = df.groupby('stroke')['age_Bins','bmi_Bins','avg_glucose_level_Bins','smoking_status','heart_disease','gender'].size()\n"
     ]
    },
    {
     "data": {
      "text/plain": [
       "stroke\n",
       "0    4228\n",
       "1     165\n",
       "dtype: int64"
      ]
     },
     "execution_count": 100,
     "metadata": {},
     "output_type": "execute_result"
    }
   ],
   "source": [
    "# Total Penyakit Lain yang juga menderita Stroke\n",
    "dos = df.groupby('stroke')['age_Bins','bmi_Bins','avg_glucose_level_Bins','smoking_status','heart_disease','gender'].size()\n",
    "dos"
   ]
  },
  {
   "cell_type": "code",
   "execution_count": 101,
   "metadata": {},
   "outputs": [],
   "source": [
    "from imblearn.over_sampling import SMOTE\n",
    "smote = SMOTE()\n",
    "X_smote, y_smote = smote.fit_resample(x_train,y_train)"
   ]
  },
  {
   "cell_type": "code",
   "execution_count": 102,
   "metadata": {},
   "outputs": [],
   "source": [
    "from imblearn.over_sampling import SMOTE\n",
    "smote = SMOTE()\n",
    "Xtest_smote, ytest_smote = smote.fit_resample(x_test,y_test)"
   ]
  },
  {
   "cell_type": "code",
   "execution_count": 103,
   "metadata": {},
   "outputs": [
    {
     "name": "stdout",
     "output_type": "stream",
     "text": [
      "Shape of Y before SMOTE: (4393,)\n",
      "Shape of Y after SMOTE: (5496,)\n"
     ]
    }
   ],
   "source": [
    "print(f'''Shape of Y before SMOTE: {y.shape}\n",
    "Shape of Y after SMOTE: {y_smote.shape}''')"
   ]
  },
  {
   "cell_type": "code",
   "execution_count": 104,
   "metadata": {},
   "outputs": [
    {
     "name": "stdout",
     "output_type": "stream",
     "text": [
      "Shape of X before SMOTE: (4393, 4)\n",
      "Shape of X after SMOTE: (5496, 4)\n"
     ]
    }
   ],
   "source": [
    "print(f'''Shape of X before SMOTE: {x.shape}\n",
    "Shape of X after SMOTE: {X_smote.shape}''')"
   ]
  },
  {
   "cell_type": "markdown",
   "metadata": {},
   "source": [
    "# Modeling Machine Learning"
   ]
  },
  {
   "cell_type": "markdown",
   "metadata": {},
   "source": [
    "# Clasification K-Nearest Neighbors (KNN)"
   ]
  },
  {
   "cell_type": "markdown",
   "metadata": {},
   "source": [
    "# Mencari nilai K terbaik"
   ]
  },
  {
   "cell_type": "code",
   "execution_count": 105,
   "metadata": {},
   "outputs": [
    {
     "data": {
      "text/plain": [
       "array([0.75878378, 0.75777027, 0.73986486, 0.73986486, 0.73986486,\n",
       "       0.75540541, 0.73986486, 0.68310811, 0.73851351, 0.73716216,\n",
       "       0.73716216, 0.73581081, 0.73581081, 0.73513514, 0.73175676,\n",
       "       0.74932432, 0.74831081, 0.74831081, 0.74831081, 0.74831081,\n",
       "       0.74695946, 0.74628378, 0.74628378, 0.74425676, 0.74425676])"
      ]
     },
     "execution_count": 105,
     "metadata": {},
     "output_type": "execute_result"
    }
   ],
   "source": [
    "# Mencari nilai K dengan akurasi terbaik\n",
    "\n",
    "Ks = 26\n",
    "mean_acc = np.zeros((Ks-1))\n",
    "\n",
    "for n in range(1, Ks):\n",
    "    \n",
    "    #Train Model and Predict  \n",
    "    model_knn = KNeighborsClassifier(n_neighbors = n).fit(X_smote, y_smote)\n",
    "    y_pred_K = model_knn.predict(Xtest_smote)\n",
    "    \n",
    "    mean_acc[n-1] = accuracy_score(ytest_smote, y_pred_K)\n",
    "\n",
    "mean_acc"
   ]
  },
  {
   "cell_type": "code",
   "execution_count": 106,
   "metadata": {},
   "outputs": [
    {
     "data": {
      "image/png": "[encoded data removed]",
      "text/plain": [
       "<Figure size 432x288 with 1 Axes>"
      ]
     },
     "metadata": {
      "needs_background": "light"
     },
     "output_type": "display_data"
    }
   ],
   "source": [
    "# Visualisasi hasil K \n",
    "\n",
    "plt.plot(range(1,Ks), mean_acc, 'r')\n",
    "plt.ylabel('Akurasi')\n",
    "plt.xlabel('Jumlah Tetangga (K)')\n",
    "plt.tight_layout()\n",
    "plt.show()"
   ]
  },
  {
   "cell_type": "markdown",
   "metadata": {},
   "source": [
    "- K terbaik dilihat dari grafik <code>K = 16</code>"
   ]
  },
  {
   "cell_type": "markdown",
   "metadata": {},
   "source": [
    "# Modeling KNN"
   ]
  },
  {
   "cell_type": "code",
   "execution_count": 147,
   "metadata": {},
   "outputs": [
    {
     "data": {
      "text/plain": [
       "KNeighborsClassifier(n_neighbors=16, weights='distance')"
      ]
     },
     "execution_count": 147,
     "metadata": {},
     "output_type": "execute_result"
    }
   ],
   "source": [
    "k = 16\n",
    "\n",
    "# Train Model\n",
    "model_knn = KNeighborsClassifier(weights='distance', n_neighbors = k)\n",
    "model_knn.fit(X_smote,y_smote)\n",
    "model_knn"
   ]
  },
  {
   "cell_type": "markdown",
   "metadata": {},
   "source": [
    "# Prediction"
   ]
  },
  {
   "cell_type": "code",
   "execution_count": 153,
   "metadata": {},
   "outputs": [
    {
     "data": {
      "text/plain": [
       "array([0, 0, 0, 0, 0], dtype=int64)"
      ]
     },
     "execution_count": 153,
     "metadata": {},
     "output_type": "execute_result"
    }
   ],
   "source": [
    "# Menguji model dengan data testing\n",
    "\n",
    "KNN_pred = model_knn.predict(Xtest_smote)\n",
    "KNN_pred[0:5]"
   ]
  },
  {
   "cell_type": "code",
   "execution_count": 154,
   "metadata": {},
   "outputs": [
    {
     "data": {
      "text/plain": [
       "0    0\n",
       "1    0\n",
       "2    0\n",
       "3    0\n",
       "4    0\n",
       "Name: stroke, dtype: int64"
      ]
     },
     "execution_count": 154,
     "metadata": {},
     "output_type": "execute_result"
    }
   ],
   "source": [
    "# Menampilkan data testing\n",
    "\n",
    "ytest_smote[0:5]"
   ]
  },
  {
   "cell_type": "markdown",
   "metadata": {},
   "source": [
    "# Evaluation"
   ]
  },
  {
   "cell_type": "markdown",
   "metadata": {},
   "source": [
    "__Accuracy_Score__"
   ]
  },
  {
   "cell_type": "code",
   "execution_count": 151,
   "metadata": {},
   "outputs": [
    {
     "name": "stdout",
     "output_type": "stream",
     "text": [
      "Akurasi Train set:  0.7800218340611353\n",
      "Akurasi Test set:  0.7564189189189189\n"
     ]
    }
   ],
   "source": [
    "# Mengukur kinerja model machine learning\n",
    "\n",
    "from sklearn.metrics import accuracy_score\n",
    "\n",
    "print('Akurasi Train set: ', accuracy_score(y_smote, model_knn.predict(X_smote)))\n",
    "print('Akurasi Test set: ', accuracy_score(ytest_smote, KNN_pred))"
   ]
  },
  {
   "cell_type": "markdown",
   "metadata": {},
   "source": [
    "__Cross Validation__"
   ]
  },
  {
   "cell_type": "code",
   "execution_count": 152,
   "metadata": {},
   "outputs": [
    {
     "name": "stdout",
     "output_type": "stream",
     "text": [
      "Accuracy score: 0.96\n"
     ]
    }
   ],
   "source": [
    "from sklearn.linear_model import LogisticRegression\n",
    "from sklearn.model_selection import KFold \n",
    "from sklearn.model_selection import cross_val_score\n",
    "\n",
    "KNN = KFold(n_splits=20, random_state=42, shuffle=True) \n",
    "\n",
    "X = df_fitur_minmax       # fitur\n",
    "Y = df_target                    # target\n",
    "\n",
    "# Training dan testing model\n",
    "model_knn = KNeighborsClassifier(weights='distance', n_neighbors = k).fit(X, Y)\n",
    "\n",
    "# Evaluasi model dengan cross_val_score dengan scoring 'accuracy'\n",
    "scores = cross_val_score(model_knn, X, Y, scoring='accuracy', cv=KNN, n_jobs=-1)\n",
    "print('Accuracy score: %.2f' % (np.mean(scores)))"
   ]
  },
  {
   "cell_type": "code",
   "execution_count": 113,
   "metadata": {},
   "outputs": [],
   "source": [
    "from sklearn.metrics import confusion_matrix\n",
    "from sklearn.metrics import f1_score\n",
    "from sklearn.metrics import log_loss"
   ]
  },
  {
   "cell_type": "code",
   "execution_count": 114,
   "metadata": {},
   "outputs": [
    {
     "name": "stdout",
     "output_type": "stream",
     "text": [
      "              precision    recall  f1-score   support\n",
      "\n",
      "           0       0.71      0.81      0.76      1480\n",
      "           1       0.78      0.67      0.72      1480\n",
      "\n",
      "    accuracy                           0.74      2960\n",
      "   macro avg       0.74      0.74      0.74      2960\n",
      "weighted avg       0.74      0.74      0.74      2960\n",
      "\n"
     ]
    }
   ],
   "source": [
    "from sklearn.metrics import classification_report\n",
    "\n",
    "# Melihat kinerja model\n",
    "print(classification_report(ytest_smote, KNN_pred))"
   ]
  },
  {
   "cell_type": "code",
   "execution_count": 115,
   "metadata": {},
   "outputs": [
    {
     "name": "stdout",
     "output_type": "stream",
     "text": [
      "[[1196  284]\n",
      " [ 485  995]]\n"
     ]
    }
   ],
   "source": [
    "# menghitung confusion_matrix\n",
    "\n",
    "print(confusion_matrix(ytest_smote, KNN_pred))"
   ]
  },
  {
   "cell_type": "markdown",
   "metadata": {},
   "source": [
    "__ROC scores train__"
   ]
  },
  {
   "cell_type": "code",
   "execution_count": 116,
   "metadata": {},
   "outputs": [],
   "source": [
    "# getting the probabilities of our predictions\n",
    "y_scores = model_knn.predict_proba(X_smote)\n",
    "y_scores = y_scores[:,1]"
   ]
  },
  {
   "cell_type": "code",
   "execution_count": 117,
   "metadata": {},
   "outputs": [
    {
     "name": "stdout",
     "output_type": "stream",
     "text": [
      "ROC-AUC-Score: 0.7699570840457742\n"
     ]
    }
   ],
   "source": [
    "from sklearn.metrics import roc_auc_score\n",
    "r_a_score = roc_auc_score(y_smote, y_scores)\n",
    "print(\"ROC-AUC-Score:\", r_a_score)"
   ]
  },
  {
   "cell_type": "markdown",
   "metadata": {},
   "source": [
    "__ROC scores test__"
   ]
  },
  {
   "cell_type": "code",
   "execution_count": 144,
   "metadata": {},
   "outputs": [],
   "source": [
    "# getting the probabilities of our predictions\n",
    "y_scores_test = model_knn.predict_proba(Xtest_smote)\n",
    "y_scores_test = y_scores_test[:,1]"
   ]
  },
  {
   "cell_type": "code",
   "execution_count": 145,
   "metadata": {},
   "outputs": [
    {
     "name": "stdout",
     "output_type": "stream",
     "text": [
      "ROC-AUC-Score: 0.7618597059897735\n"
     ]
    }
   ],
   "source": [
    "from sklearn.metrics import roc_auc_score\n",
    "r_a_score_test = roc_auc_score(ytest_smote, y_scores_test)\n",
    "print(\"ROC-AUC-Score:\", r_a_score_test)"
   ]
  },
  {
   "cell_type": "markdown",
   "metadata": {},
   "source": [
    "# Modeling Logistic Regression"
   ]
  },
  {
   "cell_type": "code",
   "execution_count": 118,
   "metadata": {},
   "outputs": [],
   "source": [
    "# Training dan testing model\n",
    "model_logreg = LogisticRegression(solver='liblinear', class_weight='balanced')\n",
    "model_logreg.fit(X_smote,y_smote)\n",
    "LogisticRegression_pred = model_logreg.predict(Xtest_smote)"
   ]
  },
  {
   "cell_type": "markdown",
   "metadata": {},
   "source": [
    "__Accuracy Scores__"
   ]
  },
  {
   "cell_type": "code",
   "execution_count": 119,
   "metadata": {},
   "outputs": [
    {
     "name": "stdout",
     "output_type": "stream",
     "text": [
      "Train set Accuracy: 0.76\n",
      "Test set Accuracy: 0.76\n"
     ]
    }
   ],
   "source": [
    "from sklearn.metrics import accuracy_score\n",
    "\n",
    "# Skor akurasi untuk data train dan test\n",
    "print('Train set Accuracy: %.2f' % accuracy_score(y_smote, model_logreg.predict(X_smote)))\n",
    "print('Test set Accuracy: %.2f' % accuracy_score(ytest_smote, LogisticRegression_pred))"
   ]
  },
  {
   "cell_type": "markdown",
   "metadata": {},
   "source": [
    "__Clasification Report__"
   ]
  },
  {
   "cell_type": "code",
   "execution_count": 158,
   "metadata": {},
   "outputs": [
    {
     "name": "stdout",
     "output_type": "stream",
     "text": [
      "Classification report : \n",
      "              precision    recall  f1-score   support\n",
      "\n",
      "           0       0.75      0.78      0.76      1480\n",
      "           1       0.77      0.74      0.75      1480\n",
      "\n",
      "    accuracy                           0.76      2960\n",
      "   macro avg       0.76      0.76      0.76      2960\n",
      "weighted avg       0.76      0.76      0.76      2960\n",
      "\n"
     ]
    }
   ],
   "source": [
    "from sklearn.metrics import classification_report\n",
    "\n",
    "print('Classification report : ')\n",
    "print(classification_report(ytest_smote, LogisticRegression_pred, zero_division=1))"
   ]
  },
  {
   "cell_type": "markdown",
   "metadata": {},
   "source": [
    "__Cross Validation__"
   ]
  },
  {
   "cell_type": "code",
   "execution_count": 120,
   "metadata": {},
   "outputs": [
    {
     "name": "stdout",
     "output_type": "stream",
     "text": [
      "Accuracy score: 0.77\n"
     ]
    }
   ],
   "source": [
    "from sklearn.linear_model import LogisticRegression\n",
    "from sklearn.model_selection import KFold \n",
    "from sklearn.model_selection import cross_val_score\n",
    "\n",
    "kf = KFold(n_splits=17, random_state=123, shuffle=True) \n",
    "\n",
    "X = df_fitur_minmax        # fitur\n",
    "Y = df_target                    # target\n",
    "\n",
    "# Training dan testing model\n",
    "model_logreg = LogisticRegression(solver='liblinear', class_weight='balanced').fit(X, Y)\n",
    "\n",
    "# Evaluasi model dengan cross_val_score dengan scoring 'accuracy'\n",
    "scores = cross_val_score(model_logreg, X, Y, scoring='accuracy', cv=kf, n_jobs=-1)\n",
    "print('Accuracy score: %.2f' % (np.mean(scores)))"
   ]
  },
  {
   "cell_type": "code",
   "execution_count": 121,
   "metadata": {},
   "outputs": [
    {
     "name": "stdout",
     "output_type": "stream",
     "text": [
      "MAE:  0.2435810810810811\n",
      "MSE:  0.2435810810810811\n"
     ]
    }
   ],
   "source": [
    "from sklearn.metrics import mean_absolute_error        # import mean absolute error (MAE)\n",
    "from sklearn.metrics import mean_squared_error         # import mean squared error\n",
    "              \n",
    "# menghitung MAE dan MSE untuk melihat kinerja model\n",
    "print('MAE: ', mean_absolute_error(LogisticRegression_pred, ytest_smote))\n",
    "print('MSE: ', mean_squared_error(LogisticRegression_pred, ytest_smote))"
   ]
  },
  {
   "cell_type": "code",
   "execution_count": 122,
   "metadata": {},
   "outputs": [
    {
     "name": "stdout",
     "output_type": "stream",
     "text": [
      "[[1149  331]\n",
      " [ 390 1090]]\n"
     ]
    }
   ],
   "source": [
    "# menghitung confusion_matrix\n",
    "\n",
    "print(confusion_matrix(ytest_smote, LogisticRegression_pred))"
   ]
  },
  {
   "cell_type": "markdown",
   "metadata": {},
   "source": [
    "__ROC Scores Train__"
   ]
  },
  {
   "cell_type": "code",
   "execution_count": 123,
   "metadata": {},
   "outputs": [],
   "source": [
    "# getting the probabilities of our predictions\n",
    "\n",
    "y_scores = model_logreg.predict_proba(X_smote)\n",
    "y_scores = y_scores[:,1]"
   ]
  },
  {
   "cell_type": "code",
   "execution_count": 124,
   "metadata": {},
   "outputs": [
    {
     "name": "stdout",
     "output_type": "stream",
     "text": [
      "ROC-AUC-Score: 0.8406674352552816\n"
     ]
    }
   ],
   "source": [
    "from sklearn.metrics import roc_auc_score\n",
    "r_a_score = roc_auc_score(y_smote, y_scores)\n",
    "print(\"ROC-AUC-Score:\", r_a_score)"
   ]
  },
  {
   "cell_type": "markdown",
   "metadata": {},
   "source": [
    "__ROC Scores Test__"
   ]
  },
  {
   "cell_type": "code",
   "execution_count": 155,
   "metadata": {},
   "outputs": [],
   "source": [
    "# getting the probabilities of our predictions\n",
    "\n",
    "y_scores_test_logreg = model_logreg.predict_proba(Xtest_smote)\n",
    "y_scores_test_logreg = y_scores_test_logreg[:,1]"
   ]
  },
  {
   "cell_type": "code",
   "execution_count": 157,
   "metadata": {},
   "outputs": [
    {
     "name": "stdout",
     "output_type": "stream",
     "text": [
      "ROC-AUC-Score: 0.8546813367421475\n"
     ]
    }
   ],
   "source": [
    "from sklearn.metrics import roc_auc_score\n",
    "r_a_score_test_logreg = roc_auc_score(ytest_smote, y_scores_test_logreg)\n",
    "print(\"ROC-AUC-Score:\", r_a_score_test_logreg)"
   ]
  },
  {
   "cell_type": "markdown",
   "metadata": {},
   "source": [
    "# Modelling Decision Tree"
   ]
  },
  {
   "cell_type": "code",
   "execution_count": 125,
   "metadata": {},
   "outputs": [
    {
     "data": {
      "text/plain": [
       "DecisionTreeClassifier(criterion='entropy', max_depth=15)"
      ]
     },
     "execution_count": 125,
     "metadata": {},
     "output_type": "execute_result"
    }
   ],
   "source": [
    "from sklearn.tree import DecisionTreeClassifier\n",
    "\n",
    "model_dtree = DecisionTreeClassifier(max_depth=15, criterion='entropy')\n",
    "model_dtree.fit(X_smote,y_smote)\n",
    "model_dtree"
   ]
  },
  {
   "cell_type": "markdown",
   "metadata": {},
   "source": [
    "__Prediction__"
   ]
  },
  {
   "cell_type": "code",
   "execution_count": 127,
   "metadata": {},
   "outputs": [],
   "source": [
    "# Prediksi dengan X_test\n",
    "\n",
    "y_pred_dtree = model_dtree.predict(Xtest_smote)"
   ]
  },
  {
   "cell_type": "code",
   "execution_count": 128,
   "metadata": {},
   "outputs": [
    {
     "name": "stdout",
     "output_type": "stream",
     "text": [
      "[0 0 1 1 1]\n",
      "0    0\n",
      "1    0\n",
      "2    0\n",
      "3    0\n",
      "4    0\n",
      "Name: stroke, dtype: int64\n"
     ]
    }
   ],
   "source": [
    "# Menampilkan y_pred dan y_test\n",
    "\n",
    "print(y_pred_dtree [0:5])\n",
    "print(ytest_smote [0:5])"
   ]
  },
  {
   "cell_type": "markdown",
   "metadata": {},
   "source": [
    "__Accuracy Scores__"
   ]
  },
  {
   "cell_type": "code",
   "execution_count": 129,
   "metadata": {},
   "outputs": [
    {
     "name": "stdout",
     "output_type": "stream",
     "text": [
      "Akurasi Train Test Decision Tree :  0.8058588064046579\n",
      "Test Akurasi Decision Tree :  0.7983108108108108\n"
     ]
    }
   ],
   "source": [
    "from sklearn.metrics import accuracy_score\n",
    "\n",
    "# Menampilkan akurasi\n",
    "print('Akurasi Train Test Decision Tree : ', accuracy_score(y_smote, model_dtree.predict(X_smote)))\n",
    "print('Test Akurasi Decision Tree : ', accuracy_score(ytest_smote, y_pred_dtree))"
   ]
  },
  {
   "cell_type": "markdown",
   "metadata": {},
   "source": [
    "__Cross Validation__"
   ]
  },
  {
   "cell_type": "code",
   "execution_count": 130,
   "metadata": {},
   "outputs": [
    {
     "name": "stdout",
     "output_type": "stream",
     "text": [
      "Accuracy score: 0.96\n"
     ]
    }
   ],
   "source": [
    "from sklearn.model_selection import KFold \n",
    "from sklearn.model_selection import cross_val_score\n",
    "\n",
    "KF = KFold(n_splits=20, random_state=123, shuffle=True) \n",
    "\n",
    "X = df_fitur_minmax       # fitur\n",
    "Y = df_target                    # target\n",
    "\n",
    "# Training dan testing model\n",
    "model_dtree = DecisionTreeClassifier(max_depth=17, criterion='entropy').fit(X, Y)\n",
    "\n",
    "# Evaluasi model dengan cross_val_score dengan scoring 'accuracy'\n",
    "scores = cross_val_score(model_knn, X, Y, scoring='accuracy', cv=KF, n_jobs=-1)\n",
    "print('Accuracy score: %.2f' % (np.mean(scores)))"
   ]
  },
  {
   "cell_type": "markdown",
   "metadata": {},
   "source": [
    "__classification Report__"
   ]
  },
  {
   "cell_type": "code",
   "execution_count": 131,
   "metadata": {},
   "outputs": [
    {
     "name": "stdout",
     "output_type": "stream",
     "text": [
      "              precision    recall  f1-score   support\n",
      "\n",
      "           0       0.89      0.68      0.77      1480\n",
      "           1       0.74      0.92      0.82      1480\n",
      "\n",
      "    accuracy                           0.80      2960\n",
      "   macro avg       0.82      0.80      0.80      2960\n",
      "weighted avg       0.82      0.80      0.80      2960\n",
      "\n"
     ]
    }
   ],
   "source": [
    "from sklearn.metrics import classification_report\n",
    "\n",
    "# Menampilkan classification report\n",
    "print(classification_report(ytest_smote, y_pred_dtree))"
   ]
  },
  {
   "cell_type": "markdown",
   "metadata": {},
   "source": [
    "__Confusion Matrix__"
   ]
  },
  {
   "cell_type": "code",
   "execution_count": 132,
   "metadata": {},
   "outputs": [
    {
     "name": "stdout",
     "output_type": "stream",
     "text": [
      "[[1006  474]\n",
      " [ 123 1357]]\n"
     ]
    }
   ],
   "source": [
    "# menghitung confusion_matrix\n",
    "print(confusion_matrix(ytest_smote, y_pred_dtree))"
   ]
  },
  {
   "cell_type": "markdown",
   "metadata": {},
   "source": [
    "__ROC Scores Train__"
   ]
  },
  {
   "cell_type": "code",
   "execution_count": 133,
   "metadata": {},
   "outputs": [],
   "source": [
    "# getting the probabilities of our predictions\n",
    "ysc_tree = model_dtree.predict_proba(X_smote)\n",
    "ysc_tree = ysc_tree[:,1]"
   ]
  },
  {
   "cell_type": "code",
   "execution_count": 134,
   "metadata": {},
   "outputs": [
    {
     "name": "stdout",
     "output_type": "stream",
     "text": [
      "ROC-AUC-Score: 0.8506943782324686\n"
     ]
    }
   ],
   "source": [
    "from sklearn.metrics import roc_auc_score\n",
    "r_d_score = roc_auc_score(y_smote, ysc_tree)\n",
    "print(\"ROC-AUC-Score:\", r_d_score)"
   ]
  },
  {
   "cell_type": "markdown",
   "metadata": {},
   "source": [
    "__ROC Scores Test__"
   ]
  },
  {
   "cell_type": "code",
   "execution_count": 174,
   "metadata": {},
   "outputs": [],
   "source": [
    "# getting the probabilities of our predictions\n",
    "ysc_tree_test = model_dtree.predict_proba(Xtest_smote)\n",
    "ysc_tree_test= ysc_tree_test[:,1]"
   ]
  },
  {
   "cell_type": "code",
   "execution_count": 175,
   "metadata": {},
   "outputs": [
    {
     "name": "stdout",
     "output_type": "stream",
     "text": [
      "ROC-AUC-Score: 0.8686210281227174\n"
     ]
    }
   ],
   "source": [
    "from sklearn.metrics import roc_auc_score\n",
    "r_d_score_tree_test = roc_auc_score(ytest_smote, ysc_tree_test)\n",
    "print(\"ROC-AUC-Score:\", r_d_score_tree_test)"
   ]
  },
  {
   "cell_type": "markdown",
   "metadata": {},
   "source": [
    "# Random Forest"
   ]
  },
  {
   "cell_type": "code",
   "execution_count": 135,
   "metadata": {},
   "outputs": [
    {
     "data": {
      "text/plain": [
       "RandomForestClassifier(criterion='entropy', n_estimators=80)"
      ]
     },
     "execution_count": 135,
     "metadata": {},
     "output_type": "execute_result"
    }
   ],
   "source": [
    "from sklearn.ensemble import RandomForestClassifier\n",
    "\n",
    "# Membuat model dengan random forest\n",
    "model_rf = RandomForestClassifier(n_estimators=80, criterion='entropy')\n",
    "model_rf.fit(X_smote,y_smote)\n",
    "model_rf"
   ]
  },
  {
   "cell_type": "markdown",
   "metadata": {},
   "source": [
    "__Prediction__"
   ]
  },
  {
   "cell_type": "code",
   "execution_count": 136,
   "metadata": {},
   "outputs": [],
   "source": [
    "# Menguji model\n",
    "\n",
    "RandomForest_pred = model_rf.predict(Xtest_smote)"
   ]
  },
  {
   "cell_type": "code",
   "execution_count": 137,
   "metadata": {},
   "outputs": [
    {
     "name": "stdout",
     "output_type": "stream",
     "text": [
      "prediksi:\n",
      "[0 0 1 1 1 0 0 0 0 0]\n",
      "\n",
      "sebenarnya:\n",
      "4160    0\n",
      "3611    0\n",
      "1769    0\n",
      "414     0\n",
      "3856    0\n",
      "2505    0\n",
      "3765    0\n",
      "881     0\n",
      "561     0\n",
      "1010    0\n",
      "Name: stroke, dtype: int64\n"
     ]
    }
   ],
   "source": [
    "# Menampilkan hasil prediksi dan data sebenarnya\n",
    "\n",
    "print('prediksi:')\n",
    "print(RandomForest_pred[0:10])\n",
    "print('\\nsebenarnya:')\n",
    "print(y_test[0:10])"
   ]
  },
  {
   "cell_type": "markdown",
   "metadata": {},
   "source": [
    "__Accuracy Scores__"
   ]
  },
  {
   "cell_type": "code",
   "execution_count": 138,
   "metadata": {},
   "outputs": [
    {
     "name": "stdout",
     "output_type": "stream",
     "text": [
      "Akurasi Random Forest Train : 0.8056768558951966\n",
      "Akurasi Random Forest Test : 0.7912162162162162\n"
     ]
    }
   ],
   "source": [
    "from sklearn import metrics\n",
    "\n",
    "# Menampilkan akurasi\n",
    "print('Akurasi Random Forest Train :', metrics.accuracy_score(y_smote, model_rf.predict(X_smote)))\n",
    "print('Akurasi Random Forest Test :', metrics.accuracy_score(ytest_smote, RandomForest_pred))"
   ]
  },
  {
   "cell_type": "markdown",
   "metadata": {},
   "source": [
    "__Cross Validation__"
   ]
  },
  {
   "cell_type": "code",
   "execution_count": 139,
   "metadata": {},
   "outputs": [
    {
     "name": "stdout",
     "output_type": "stream",
     "text": [
      "Accuracy score: 0.96\n"
     ]
    }
   ],
   "source": [
    "from sklearn.model_selection import KFold \n",
    "from sklearn.model_selection import cross_val_score\n",
    "\n",
    "RF = KFold(n_splits=20, random_state=123, shuffle=True) \n",
    "\n",
    "X = df_fitur_minmax       # fitur\n",
    "Y = df_target                    # target\n",
    "\n",
    "# Training dan testing model\n",
    "model_rf = RandomForestClassifier(n_estimators=80, criterion='entropy').fit(X, Y)\n",
    "\n",
    "# Evaluasi model dengan cross_val_score dengan scoring 'accuracy'\n",
    "scores = cross_val_score(model_rf, X, Y, scoring='accuracy', cv=RF, n_jobs=-1)\n",
    "print('Accuracy score: %.2f' % (np.mean(scores)))"
   ]
  },
  {
   "cell_type": "markdown",
   "metadata": {},
   "source": [
    "__Classification Report__"
   ]
  },
  {
   "cell_type": "code",
   "execution_count": 140,
   "metadata": {},
   "outputs": [
    {
     "name": "stdout",
     "output_type": "stream",
     "text": [
      "              precision    recall  f1-score   support\n",
      "\n",
      "           0       0.87      0.68      0.77      1480\n",
      "           1       0.74      0.90      0.81      1480\n",
      "\n",
      "    accuracy                           0.79      2960\n",
      "   macro avg       0.81      0.79      0.79      2960\n",
      "weighted avg       0.81      0.79      0.79      2960\n",
      "\n"
     ]
    }
   ],
   "source": [
    "from sklearn.metrics import classification_report\n",
    "\n",
    "# Menampilkan classification report\n",
    "print(classification_report(ytest_smote, RandomForest_pred))"
   ]
  },
  {
   "cell_type": "markdown",
   "metadata": {},
   "source": [
    "__Confusion Matrix__"
   ]
  },
  {
   "cell_type": "code",
   "execution_count": 141,
   "metadata": {},
   "outputs": [
    {
     "name": "stdout",
     "output_type": "stream",
     "text": [
      "[[1011  469]\n",
      " [ 149 1331]]\n"
     ]
    }
   ],
   "source": [
    "# menghitung confusion_matrix\n",
    "print(confusion_matrix(ytest_smote, RandomForest_pred))"
   ]
  },
  {
   "cell_type": "markdown",
   "metadata": {},
   "source": [
    "__ROC Scores Train__"
   ]
  },
  {
   "cell_type": "code",
   "execution_count": 142,
   "metadata": {},
   "outputs": [],
   "source": [
    "# getting the probabilities of our predictions\n",
    "ysc_rf = model_rf.predict_proba(X_smote)\n",
    "ysc_rf = ysc_rf[:,1]"
   ]
  },
  {
   "cell_type": "code",
   "execution_count": 143,
   "metadata": {},
   "outputs": [
    {
     "name": "stdout",
     "output_type": "stream",
     "text": [
      "ROC-AUC-Score: 0.8482130182278921\n"
     ]
    }
   ],
   "source": [
    "from sklearn.metrics import roc_auc_score\n",
    "r_f_score = roc_auc_score(y_smote, ysc_rf)\n",
    "print(\"ROC-AUC-Score:\", r_f_score)"
   ]
  },
  {
   "cell_type": "markdown",
   "metadata": {},
   "source": [
    "__ROC Scores Test__"
   ]
  },
  {
   "cell_type": "code",
   "execution_count": 180,
   "metadata": {},
   "outputs": [],
   "source": [
    "# getting the probabilities of our predictions\n",
    "ysc_rf_test = model_rf.predict_proba(Xtest_smote)\n",
    "ysc_rf_test = ysc_rf_test[:,1]"
   ]
  },
  {
   "cell_type": "code",
   "execution_count": 181,
   "metadata": {},
   "outputs": [
    {
     "name": "stdout",
     "output_type": "stream",
     "text": [
      "ROC-AUC-Score: 0.8660831355003652\n"
     ]
    }
   ],
   "source": [
    "from sklearn.metrics import roc_auc_score\n",
    "r_f_score_test = roc_auc_score(ytest_smote, ysc_rf_test)\n",
    "print(\"ROC-AUC-Score:\", r_f_score_test)"
   ]
  },
  {
   "cell_type": "markdown",
   "metadata": {},
   "source": [
    "# Conclusion:\n",
    "- Model Machine Learning yang direkomendasikan adalah <code>Decision Tree</code> dan <code>Random Forest</code>"
   ]
  },
  {
   "cell_type": "markdown",
   "metadata": {},
   "source": []
  }
 ],
 "metadata": {
  "kernelspec": {
   "display_name": "Python 3",
   "language": "python",
   "name": "python3"
  },
  "language_info": {
   "codemirror_mode": {
    "name": "ipython",
    "version": 3
   },
   "file_extension": ".py",
   "mimetype": "text/x-python",
   "name": "python",
   "nbconvert_exporter": "python",
   "pygments_lexer": "ipython3",
   "version": "3.8.3"
  }
 },
 "nbformat": 4,
 "nbformat_minor": 4
}
